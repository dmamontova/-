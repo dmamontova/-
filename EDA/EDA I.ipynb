{
 "cells": [
  {
   "cell_type": "markdown",
   "id": "f2b294c2",
   "metadata": {},
   "source": [
    "# EDA"
   ]
  },
  {
   "cell_type": "markdown",
   "id": "48b8dcfe",
   "metadata": {},
   "source": [
    "# I. Предобработка данных"
   ]
  },
  {
   "cell_type": "markdown",
   "id": "46d32b43",
   "metadata": {},
   "source": [
    "### Подгрузим все библиотеки, которые понадобятся для работы, и посмотрим на наш датасет"
   ]
  },
  {
   "cell_type": "code",
   "execution_count": 1,
   "id": "72e97c9d",
   "metadata": {},
   "outputs": [
    {
     "data": {
      "text/html": [
       "        <script type=\"text/javascript\">\n",
       "        window.PlotlyConfig = {MathJaxConfig: 'local'};\n",
       "        if (window.MathJax && window.MathJax.Hub && window.MathJax.Hub.Config) {window.MathJax.Hub.Config({SVG: {font: \"STIX-Web\"}});}\n",
       "        if (typeof require !== 'undefined') {\n",
       "        require.undef(\"plotly\");\n",
       "        requirejs.config({\n",
       "            paths: {\n",
       "                'plotly': ['https://cdn.plot.ly/plotly-2.12.1.min']\n",
       "            }\n",
       "        });\n",
       "        require(['plotly'], function(Plotly) {\n",
       "            window._Plotly = Plotly;\n",
       "        });\n",
       "        }\n",
       "        </script>\n",
       "        "
      ]
     },
     "metadata": {},
     "output_type": "display_data"
    }
   ],
   "source": [
    "import folium\n",
    "from folium.plugins import FastMarkerCluster\n",
    "import numpy as np\n",
    "import pandas as pd\n",
    "from datetime import datetime\n",
    "import matplotlib.pyplot as plt\n",
    "import seaborn as sns\n",
    "import seaborn.objects as so\n",
    "from matplotlib.font_manager import FontProperties\n",
    "import plotly.express as px\n",
    "import plotly.graph_objs as go\n",
    "from plotly.offline import iplot\n",
    "import cufflinks as cf\n",
    "cf.go_offline()\n",
    "cf.set_config_file(offline=False, world_readable=True)"
   ]
  },
  {
   "cell_type": "code",
   "execution_count": 2,
   "id": "357749d0",
   "metadata": {},
   "outputs": [
    {
     "name": "stderr",
     "output_type": "stream",
     "text": [
      "C:\\Users\\user\\AppData\\Local\\Temp\\ipykernel_15468\\4125554661.py:1: DtypeWarning:\n",
      "\n",
      "Columns (21) have mixed types. Specify dtype option on import or set low_memory=False.\n",
      "\n"
     ]
    },
    {
     "data": {
      "text/html": [
       "<div>\n",
       "<style scoped>\n",
       "    .dataframe tbody tr th:only-of-type {\n",
       "        vertical-align: middle;\n",
       "    }\n",
       "\n",
       "    .dataframe tbody tr th {\n",
       "        vertical-align: top;\n",
       "    }\n",
       "\n",
       "    .dataframe thead th {\n",
       "        text-align: right;\n",
       "    }\n",
       "</style>\n",
       "<table border=\"1\" class=\"dataframe\">\n",
       "  <thead>\n",
       "    <tr style=\"text-align: right;\">\n",
       "      <th></th>\n",
       "      <th>Event_id_cnty</th>\n",
       "      <th>Event_date</th>\n",
       "      <th>Year</th>\n",
       "      <th>Time_precision</th>\n",
       "      <th>Disorder_type</th>\n",
       "      <th>Event_type</th>\n",
       "      <th>Sub_event_type</th>\n",
       "      <th>Actor1</th>\n",
       "      <th>Assoc_actor_1</th>\n",
       "      <th>Inter1</th>\n",
       "      <th>...</th>\n",
       "      <th>Longitude</th>\n",
       "      <th>Geo_precision</th>\n",
       "      <th>Source</th>\n",
       "      <th>Source_scale</th>\n",
       "      <th>Notes</th>\n",
       "      <th>Fatalities</th>\n",
       "      <th>Tags</th>\n",
       "      <th>Timestamp</th>\n",
       "      <th>Index</th>\n",
       "      <th>Classification</th>\n",
       "    </tr>\n",
       "  </thead>\n",
       "  <tbody>\n",
       "    <tr>\n",
       "      <th>0</th>\n",
       "      <td>ALG1</td>\n",
       "      <td>1997-01-01</td>\n",
       "      <td>1997</td>\n",
       "      <td>1</td>\n",
       "      <td>Political violence</td>\n",
       "      <td>Violence against civilians</td>\n",
       "      <td>Attack</td>\n",
       "      <td>GIA: Armed Islamic Group</td>\n",
       "      <td>NaN</td>\n",
       "      <td>2</td>\n",
       "      <td>...</td>\n",
       "      <td>2.789</td>\n",
       "      <td>1</td>\n",
       "      <td>Algeria Watch</td>\n",
       "      <td>Other</td>\n",
       "      <td>5 January: Beheading of 5 citizens in Douaouda...</td>\n",
       "      <td>5</td>\n",
       "      <td>NaN</td>\n",
       "      <td>1582579226</td>\n",
       "      <td>0.624</td>\n",
       "      <td>Lower middle income</td>\n",
       "    </tr>\n",
       "    <tr>\n",
       "      <th>1</th>\n",
       "      <td>ALG2</td>\n",
       "      <td>1997-01-02</td>\n",
       "      <td>1997</td>\n",
       "      <td>1</td>\n",
       "      <td>Political violence</td>\n",
       "      <td>Violence against civilians</td>\n",
       "      <td>Attack</td>\n",
       "      <td>GIA: Armed Islamic Group</td>\n",
       "      <td>NaN</td>\n",
       "      <td>2</td>\n",
       "      <td>...</td>\n",
       "      <td>0.883</td>\n",
       "      <td>1</td>\n",
       "      <td>Algeria Watch</td>\n",
       "      <td>Other</td>\n",
       "      <td>Two citizens were beheaded in Hassasna.</td>\n",
       "      <td>2</td>\n",
       "      <td>NaN</td>\n",
       "      <td>1582579226</td>\n",
       "      <td>0.624</td>\n",
       "      <td>Lower middle income</td>\n",
       "    </tr>\n",
       "    <tr>\n",
       "      <th>2</th>\n",
       "      <td>ALG3</td>\n",
       "      <td>1997-01-03</td>\n",
       "      <td>1997</td>\n",
       "      <td>1</td>\n",
       "      <td>Political violence</td>\n",
       "      <td>Violence against civilians</td>\n",
       "      <td>Attack</td>\n",
       "      <td>GIA: Armed Islamic Group</td>\n",
       "      <td>NaN</td>\n",
       "      <td>2</td>\n",
       "      <td>...</td>\n",
       "      <td>-0.290</td>\n",
       "      <td>1</td>\n",
       "      <td>Algeria Watch</td>\n",
       "      <td>Other</td>\n",
       "      <td>Two citizens were killed in a raid on the vill...</td>\n",
       "      <td>2</td>\n",
       "      <td>NaN</td>\n",
       "      <td>1582579226</td>\n",
       "      <td>0.624</td>\n",
       "      <td>Lower middle income</td>\n",
       "    </tr>\n",
       "    <tr>\n",
       "      <th>3</th>\n",
       "      <td>ALG4</td>\n",
       "      <td>1997-01-04</td>\n",
       "      <td>1997</td>\n",
       "      <td>1</td>\n",
       "      <td>Political violence</td>\n",
       "      <td>Violence against civilians</td>\n",
       "      <td>Attack</td>\n",
       "      <td>GIA: Armed Islamic Group</td>\n",
       "      <td>NaN</td>\n",
       "      <td>2</td>\n",
       "      <td>...</td>\n",
       "      <td>2.829</td>\n",
       "      <td>1</td>\n",
       "      <td>Algeria Watch</td>\n",
       "      <td>Other</td>\n",
       "      <td>4 January: 16 citizens were murdered in the vi...</td>\n",
       "      <td>16</td>\n",
       "      <td>NaN</td>\n",
       "      <td>1582579226</td>\n",
       "      <td>0.624</td>\n",
       "      <td>Lower middle income</td>\n",
       "    </tr>\n",
       "    <tr>\n",
       "      <th>4</th>\n",
       "      <td>ALG5</td>\n",
       "      <td>1997-01-05</td>\n",
       "      <td>1997</td>\n",
       "      <td>1</td>\n",
       "      <td>Political violence</td>\n",
       "      <td>Violence against civilians</td>\n",
       "      <td>Attack</td>\n",
       "      <td>GIA: Armed Islamic Group</td>\n",
       "      <td>NaN</td>\n",
       "      <td>2</td>\n",
       "      <td>...</td>\n",
       "      <td>2.789</td>\n",
       "      <td>1</td>\n",
       "      <td>Algeria Watch</td>\n",
       "      <td>Other</td>\n",
       "      <td>5 January: Killing of 18 citizens in the Olivi...</td>\n",
       "      <td>18</td>\n",
       "      <td>NaN</td>\n",
       "      <td>1582579226</td>\n",
       "      <td>0.624</td>\n",
       "      <td>Lower middle income</td>\n",
       "    </tr>\n",
       "  </tbody>\n",
       "</table>\n",
       "<p>5 rows × 33 columns</p>\n",
       "</div>"
      ],
      "text/plain": [
       "  Event_id_cnty  Event_date  Year  Time_precision       Disorder_type  \\\n",
       "0          ALG1  1997-01-01  1997               1  Political violence   \n",
       "1          ALG2  1997-01-02  1997               1  Political violence   \n",
       "2          ALG3  1997-01-03  1997               1  Political violence   \n",
       "3          ALG4  1997-01-04  1997               1  Political violence   \n",
       "4          ALG5  1997-01-05  1997               1  Political violence   \n",
       "\n",
       "                   Event_type Sub_event_type                    Actor1  \\\n",
       "0  Violence against civilians         Attack  GIA: Armed Islamic Group   \n",
       "1  Violence against civilians         Attack  GIA: Armed Islamic Group   \n",
       "2  Violence against civilians         Attack  GIA: Armed Islamic Group   \n",
       "3  Violence against civilians         Attack  GIA: Armed Islamic Group   \n",
       "4  Violence against civilians         Attack  GIA: Armed Islamic Group   \n",
       "\n",
       "  Assoc_actor_1  Inter1  ... Longitude Geo_precision         Source  \\\n",
       "0           NaN       2  ...     2.789             1  Algeria Watch   \n",
       "1           NaN       2  ...     0.883             1  Algeria Watch   \n",
       "2           NaN       2  ...    -0.290             1  Algeria Watch   \n",
       "3           NaN       2  ...     2.829             1  Algeria Watch   \n",
       "4           NaN       2  ...     2.789             1  Algeria Watch   \n",
       "\n",
       "   Source_scale                                              Notes  \\\n",
       "0         Other  5 January: Beheading of 5 citizens in Douaouda...   \n",
       "1         Other            Two citizens were beheaded in Hassasna.   \n",
       "2         Other  Two citizens were killed in a raid on the vill...   \n",
       "3         Other  4 January: 16 citizens were murdered in the vi...   \n",
       "4         Other  5 January: Killing of 18 citizens in the Olivi...   \n",
       "\n",
       "   Fatalities Tags   Timestamp  Index       Classification  \n",
       "0           5  NaN  1582579226  0.624  Lower middle income  \n",
       "1           2  NaN  1582579226  0.624  Lower middle income  \n",
       "2           2  NaN  1582579226  0.624  Lower middle income  \n",
       "3          16  NaN  1582579226  0.624  Lower middle income  \n",
       "4          18  NaN  1582579226  0.624  Lower middle income  \n",
       "\n",
       "[5 rows x 33 columns]"
      ]
     },
     "execution_count": 2,
     "metadata": {},
     "output_type": "execute_result"
    }
   ],
   "source": [
    "df = pd.read_csv(\"C:\\\\Users\\\\user\\\\OneDrive\\\\Рабочий стол\\\\chistoe.csv\")\n",
    "df = df.drop('Unnamed: 0',axis=1)\n",
    "df.columns = map(str.capitalize,df.columns)\n",
    "df.head()"
   ]
  },
  {
   "cell_type": "markdown",
   "id": "20309c1d",
   "metadata": {},
   "source": [
    "### Очень важно понять, какие данные содержатся в переменных (столбцах) таблицы. \n",
    ">_Более подробная информация о части датасета есть [тут](https://drive.google.com/file/d/1V6456OXxqMpKavzzByrRG3nA6dWcDHTP/view?usp=share_link), я буду ссылаться на неё при описании некоторых переменных, которые принимают много непонятных значений_\n",
    "\n",
    "### __А теперь немного о том, какую информацию несёт каждый столбец:__\n",
    "> - <u>Event_id_cnty</u> - Индивидуальный идентификатор по номеру и аббревиатуре страны (обновляется ежегодно)\n",
    "> - <u>Event_date</u> - День, месяц и год, в которые произошло событие\n",
    "> - <u>Year</u> - Год, когда произошло событие\n",
    "> - <u>Time_precision</u> - Цифровой код, указывающий уровень достоверности даты, закодированной для события (<u>примечание:</u> подробнее можно почитать в файле выше)\n",
    "> - <u>Disorder_type</u> - Вид насилия\n",
    "> - <u>Event_type</u> - Вид события\n",
    "> - <u>Sub_event_type</u> - Вид вспомогательного события\n",
    "> - <u>Actor1</u> - Название субъекта, участвовавшего в конфликте\n",
    "> - <u>Assoc_actor_1</u> - Название субъекта, связанного с Actor1 или идентифицирующего его\n",
    "> - <u>Inter1</u> - Цифровой код, указывающий тип Actor1 (<u>примечание:</u> подробнее можно почитать в файле выше)\n",
    "> - <u>Actor2</u> - Название субъекта, участвовавшего в конфликте\n",
    "> - <u>Assoc_actor_2</u> - Название субъекта, связанного с Actor2 или идентифицирующего его\n",
    "> - <u>Inter2</u> - Цифровой код, указывающий тип Actor2 (<u>примечание:</u> подробнее можно почитать в файле выше)\n",
    "> - <u>Interaction</u> - Цифровой код, указывающий на взаимодействие Actor1 и Actor2 (<u>примечание:</u> подробнее можно почитать в файле выше)\n",
    "> - <u>Civilian_targeting</u> - Нападение на гражданское население \n",
    "> - <u>Iso</u> - Цифровой код для каждой отдельной страны\n",
    "> - <u>Region,Country,Location,Latitude,Longtitude</u> - Переменные, смысл которых можно оставить без объяснения, так как он довольно очевиден\n",
    "> - <u>Admin1,Admin2,Admin3</u> - Первый, второй и третий по величине субнациональный административный регион/район, в котором происходило событие\n",
    "> - <u>Geo_precision</u> - Цифровой код, указывающий уровень достоверности местоположения, закодированного для данного события (<u>примечание:</u> подробнее можно почитать в файле выше)\n",
    "> - <u>Source</u> - Источник отчета о событии\n",
    "> - <u>Source_scale</u> - Масштаб (местный, региональный, национальный, международный) источника \n",
    "> - <u>Notes</u> - Краткое описание события\n",
    "> - <u>Fatalities</u> -Количество зарегистрированных смертельных случаев, произошедших во время события\n",
    "> - <u>Tags</u> - Тэги, в основном, о количестве участвовавших и половой принадлежности\n",
    "> - <u>Timestamp</u> - Закодированные дата и время события\n",
    "> - <u>Index</u> - Индекс человеческого развития\n",
    "> - <u>Classification</u> - Классификация доходов"
   ]
  },
  {
   "cell_type": "markdown",
   "id": "baba0f32",
   "metadata": {},
   "source": [
    "### <u>Целевыми переменными будут выступать следующие признаки - Index и Classification</u>"
   ]
  },
  {
   "cell_type": "markdown",
   "id": "a21c751c",
   "metadata": {},
   "source": [
    "### Давайте посмотрим на размерность наших данных"
   ]
  },
  {
   "cell_type": "code",
   "execution_count": 3,
   "id": "6201a4b2",
   "metadata": {},
   "outputs": [
    {
     "data": {
      "text/plain": [
       "(1750716, 33)"
      ]
     },
     "execution_count": 3,
     "metadata": {},
     "output_type": "execute_result"
    }
   ],
   "source": [
    "df.shape"
   ]
  },
  {
   "cell_type": "markdown",
   "id": "0102c736",
   "metadata": {},
   "source": [
    "#### Получилось неплохо так, 1.7 млн строк и 33 столбца\n",
    "#### Можно также посмотреть на то, данные каких типов содержатся в нашей таблице:"
   ]
  },
  {
   "cell_type": "code",
   "execution_count": 4,
   "id": "f0aad6a0",
   "metadata": {},
   "outputs": [
    {
     "name": "stdout",
     "output_type": "stream",
     "text": [
      "<class 'pandas.core.frame.DataFrame'>\n",
      "RangeIndex: 1750716 entries, 0 to 1750715\n",
      "Data columns (total 33 columns):\n",
      " #   Column              Dtype  \n",
      "---  ------              -----  \n",
      " 0   Event_id_cnty       object \n",
      " 1   Event_date          object \n",
      " 2   Year                int64  \n",
      " 3   Time_precision      int64  \n",
      " 4   Disorder_type       object \n",
      " 5   Event_type          object \n",
      " 6   Sub_event_type      object \n",
      " 7   Actor1              object \n",
      " 8   Assoc_actor_1       object \n",
      " 9   Inter1              int64  \n",
      " 10  Actor2              object \n",
      " 11  Assoc_actor_2       object \n",
      " 12  Inter2              int64  \n",
      " 13  Interaction         int64  \n",
      " 14  Civilian_targeting  object \n",
      " 15  Iso                 int64  \n",
      " 16  Region              object \n",
      " 17  Country             object \n",
      " 18  Admin1              object \n",
      " 19  Admin2              object \n",
      " 20  Admin3              object \n",
      " 21  Location            object \n",
      " 22  Latitude            float64\n",
      " 23  Longitude           float64\n",
      " 24  Geo_precision       int64  \n",
      " 25  Source              object \n",
      " 26  Source_scale        object \n",
      " 27  Notes               object \n",
      " 28  Fatalities          int64  \n",
      " 29  Tags                object \n",
      " 30  Timestamp           int64  \n",
      " 31  Index               float64\n",
      " 32  Classification      object \n",
      "dtypes: float64(3), int64(9), object(21)\n",
      "memory usage: 440.8+ MB\n"
     ]
    }
   ],
   "source": [
    "df.info()"
   ]
  },
  {
   "cell_type": "markdown",
   "id": "72cfe66c",
   "metadata": {},
   "source": [
    "#### Как мы видим, в основном данные типа 'object', но есть и немного числовых. \n",
    "#### Кроме того, очень важно определить, есть ли в нашем датафрейме пропуски, давайте посмотрим:"
   ]
  },
  {
   "cell_type": "code",
   "execution_count": 5,
   "id": "c76f1697",
   "metadata": {},
   "outputs": [
    {
     "data": {
      "text/plain": [
       "Event_id_cnty               0\n",
       "Event_date                  0\n",
       "Year                        0\n",
       "Time_precision              0\n",
       "Disorder_type               0\n",
       "Event_type                  0\n",
       "Sub_event_type              0\n",
       "Actor1                      0\n",
       "Assoc_actor_1         1075880\n",
       "Inter1                      0\n",
       "Actor2                 876900\n",
       "Assoc_actor_2         1528115\n",
       "Inter2                      0\n",
       "Interaction                 0\n",
       "Civilian_targeting    1469807\n",
       "Iso                         0\n",
       "Region                      0\n",
       "Country                     0\n",
       "Admin1                    167\n",
       "Admin2                  51806\n",
       "Admin3                 909901\n",
       "Location                    0\n",
       "Latitude                    0\n",
       "Longitude                   0\n",
       "Geo_precision               0\n",
       "Source                      0\n",
       "Source_scale                0\n",
       "Notes                       0\n",
       "Fatalities                  0\n",
       "Tags                  1043667\n",
       "Timestamp                   0\n",
       "Index                       0\n",
       "Classification              0\n",
       "dtype: int64"
      ]
     },
     "execution_count": 5,
     "metadata": {},
     "output_type": "execute_result"
    }
   ],
   "source": [
    "df.isnull().sum()"
   ]
  },
  {
   "cell_type": "markdown",
   "id": "ad4c86e5",
   "metadata": {},
   "source": [
    "#### Получили данные о пропусках по каждому из столбцов в отдельности, давайте теперь посмотрим на общее количество пропусков во всей таблице:"
   ]
  },
  {
   "cell_type": "code",
   "execution_count": 6,
   "id": "9be03311",
   "metadata": {},
   "outputs": [
    {
     "data": {
      "text/plain": [
       "6956243"
      ]
     },
     "execution_count": 6,
     "metadata": {},
     "output_type": "execute_result"
    }
   ],
   "source": [
    "df.isnull().sum().sum()"
   ]
  },
  {
   "cell_type": "markdown",
   "id": "5aad15c7",
   "metadata": {},
   "source": [
    "#### Как можно увидеть, пропусков в таблице достаточно много, и причем они все в <u>категориальных</u> переменных. Было бы не совсем правильно заполнить пропуски в признаках такого типа нулями, так как они не несли бы никакой смысловой нагрузки (да и логически нули не особо вписываются), поэтому давайте заполним исходя из того, что у нас нет информации по конкретному значению:"
   ]
  },
  {
   "cell_type": "code",
   "execution_count": 7,
   "id": "b0e30410",
   "metadata": {},
   "outputs": [],
   "source": [
    "df = df.fillna('No information')"
   ]
  },
  {
   "cell_type": "markdown",
   "id": "2ded69d7",
   "metadata": {},
   "source": [
    "#### Ну и посмотрим на то, сколько теперь у нас стало пропусков:"
   ]
  },
  {
   "cell_type": "code",
   "execution_count": 8,
   "id": "e752206d",
   "metadata": {},
   "outputs": [
    {
     "data": {
      "text/plain": [
       "0"
      ]
     },
     "execution_count": 8,
     "metadata": {},
     "output_type": "execute_result"
    }
   ],
   "source": [
    "df.isnull().sum().sum()"
   ]
  },
  {
   "cell_type": "markdown",
   "id": "e8f82d03",
   "metadata": {},
   "source": [
    "#### Мы победили, данные в таблице предобработаны, теперь можно приступать к анализу"
   ]
  }
 ],
 "metadata": {
  "kernelspec": {
   "display_name": "Python 3 (ipykernel)",
   "language": "python",
   "name": "python3"
  },
  "language_info": {
   "codemirror_mode": {
    "name": "ipython",
    "version": 3
   },
   "file_extension": ".py",
   "mimetype": "text/x-python",
   "name": "python",
   "nbconvert_exporter": "python",
   "pygments_lexer": "ipython3",
   "version": "3.10.9"
  }
 },
 "nbformat": 4,
 "nbformat_minor": 5
}
