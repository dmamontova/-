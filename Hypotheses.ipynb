{
 "cells": [
  {
   "cell_type": "markdown",
   "id": "00273e5f",
   "metadata": {},
   "source": [
    "# Гипотезы"
   ]
  },
  {
   "cell_type": "code",
   "execution_count": 1,
   "id": "090ef805",
   "metadata": {},
   "outputs": [],
   "source": [
    "import pandas as pd\n",
    "import numpy as np\n",
    "import scipy.stats as sts"
   ]
  },
  {
   "cell_type": "markdown",
   "id": "e2286577",
   "metadata": {},
   "source": [
    "## Давайте еще раз посмотрим на наш датасет"
   ]
  },
  {
   "cell_type": "code",
   "execution_count": 2,
   "id": "55b16990",
   "metadata": {},
   "outputs": [
    {
     "name": "stderr",
     "output_type": "stream",
     "text": [
      "C:\\Users\\user\\AppData\\Local\\Temp\\ipykernel_14392\\2168918879.py:1: DtypeWarning: Columns (21) have mixed types. Specify dtype option on import or set low_memory=False.\n",
      "  df = pd.read_csv(\"C:\\\\Users\\\\user\\\\OneDrive\\\\Рабочий стол\\\\chistoe.csv\")\n"
     ]
    },
    {
     "data": {
      "text/html": [
       "<div>\n",
       "<style scoped>\n",
       "    .dataframe tbody tr th:only-of-type {\n",
       "        vertical-align: middle;\n",
       "    }\n",
       "\n",
       "    .dataframe tbody tr th {\n",
       "        vertical-align: top;\n",
       "    }\n",
       "\n",
       "    .dataframe thead th {\n",
       "        text-align: right;\n",
       "    }\n",
       "</style>\n",
       "<table border=\"1\" class=\"dataframe\">\n",
       "  <thead>\n",
       "    <tr style=\"text-align: right;\">\n",
       "      <th></th>\n",
       "      <th>Event_id_cnty</th>\n",
       "      <th>Event_date</th>\n",
       "      <th>Year</th>\n",
       "      <th>Time_precision</th>\n",
       "      <th>Disorder_type</th>\n",
       "      <th>Event_type</th>\n",
       "      <th>Sub_event_type</th>\n",
       "      <th>Actor1</th>\n",
       "      <th>Assoc_actor_1</th>\n",
       "      <th>Inter1</th>\n",
       "      <th>...</th>\n",
       "      <th>Longitude</th>\n",
       "      <th>Geo_precision</th>\n",
       "      <th>Source</th>\n",
       "      <th>Source_scale</th>\n",
       "      <th>Notes</th>\n",
       "      <th>Fatalities</th>\n",
       "      <th>Tags</th>\n",
       "      <th>Timestamp</th>\n",
       "      <th>Index</th>\n",
       "      <th>Classification</th>\n",
       "    </tr>\n",
       "  </thead>\n",
       "  <tbody>\n",
       "    <tr>\n",
       "      <th>0</th>\n",
       "      <td>ALG1</td>\n",
       "      <td>1997-01-01</td>\n",
       "      <td>1997</td>\n",
       "      <td>1</td>\n",
       "      <td>Political violence</td>\n",
       "      <td>Violence against civilians</td>\n",
       "      <td>Attack</td>\n",
       "      <td>GIA: Armed Islamic Group</td>\n",
       "      <td>No information</td>\n",
       "      <td>2</td>\n",
       "      <td>...</td>\n",
       "      <td>2.789</td>\n",
       "      <td>1</td>\n",
       "      <td>Algeria Watch</td>\n",
       "      <td>Other</td>\n",
       "      <td>5 January: Beheading of 5 citizens in Douaouda...</td>\n",
       "      <td>5</td>\n",
       "      <td>No information</td>\n",
       "      <td>1582579226</td>\n",
       "      <td>0.624</td>\n",
       "      <td>Lower middle income</td>\n",
       "    </tr>\n",
       "    <tr>\n",
       "      <th>1</th>\n",
       "      <td>ALG2</td>\n",
       "      <td>1997-01-02</td>\n",
       "      <td>1997</td>\n",
       "      <td>1</td>\n",
       "      <td>Political violence</td>\n",
       "      <td>Violence against civilians</td>\n",
       "      <td>Attack</td>\n",
       "      <td>GIA: Armed Islamic Group</td>\n",
       "      <td>No information</td>\n",
       "      <td>2</td>\n",
       "      <td>...</td>\n",
       "      <td>0.883</td>\n",
       "      <td>1</td>\n",
       "      <td>Algeria Watch</td>\n",
       "      <td>Other</td>\n",
       "      <td>Two citizens were beheaded in Hassasna.</td>\n",
       "      <td>2</td>\n",
       "      <td>No information</td>\n",
       "      <td>1582579226</td>\n",
       "      <td>0.624</td>\n",
       "      <td>Lower middle income</td>\n",
       "    </tr>\n",
       "    <tr>\n",
       "      <th>2</th>\n",
       "      <td>ALG3</td>\n",
       "      <td>1997-01-03</td>\n",
       "      <td>1997</td>\n",
       "      <td>1</td>\n",
       "      <td>Political violence</td>\n",
       "      <td>Violence against civilians</td>\n",
       "      <td>Attack</td>\n",
       "      <td>GIA: Armed Islamic Group</td>\n",
       "      <td>No information</td>\n",
       "      <td>2</td>\n",
       "      <td>...</td>\n",
       "      <td>-0.290</td>\n",
       "      <td>1</td>\n",
       "      <td>Algeria Watch</td>\n",
       "      <td>Other</td>\n",
       "      <td>Two citizens were killed in a raid on the vill...</td>\n",
       "      <td>2</td>\n",
       "      <td>No information</td>\n",
       "      <td>1582579226</td>\n",
       "      <td>0.624</td>\n",
       "      <td>Lower middle income</td>\n",
       "    </tr>\n",
       "    <tr>\n",
       "      <th>3</th>\n",
       "      <td>ALG4</td>\n",
       "      <td>1997-01-04</td>\n",
       "      <td>1997</td>\n",
       "      <td>1</td>\n",
       "      <td>Political violence</td>\n",
       "      <td>Violence against civilians</td>\n",
       "      <td>Attack</td>\n",
       "      <td>GIA: Armed Islamic Group</td>\n",
       "      <td>No information</td>\n",
       "      <td>2</td>\n",
       "      <td>...</td>\n",
       "      <td>2.829</td>\n",
       "      <td>1</td>\n",
       "      <td>Algeria Watch</td>\n",
       "      <td>Other</td>\n",
       "      <td>4 January: 16 citizens were murdered in the vi...</td>\n",
       "      <td>16</td>\n",
       "      <td>No information</td>\n",
       "      <td>1582579226</td>\n",
       "      <td>0.624</td>\n",
       "      <td>Lower middle income</td>\n",
       "    </tr>\n",
       "    <tr>\n",
       "      <th>4</th>\n",
       "      <td>ALG5</td>\n",
       "      <td>1997-01-05</td>\n",
       "      <td>1997</td>\n",
       "      <td>1</td>\n",
       "      <td>Political violence</td>\n",
       "      <td>Violence against civilians</td>\n",
       "      <td>Attack</td>\n",
       "      <td>GIA: Armed Islamic Group</td>\n",
       "      <td>No information</td>\n",
       "      <td>2</td>\n",
       "      <td>...</td>\n",
       "      <td>2.789</td>\n",
       "      <td>1</td>\n",
       "      <td>Algeria Watch</td>\n",
       "      <td>Other</td>\n",
       "      <td>5 January: Killing of 18 citizens in the Olivi...</td>\n",
       "      <td>18</td>\n",
       "      <td>No information</td>\n",
       "      <td>1582579226</td>\n",
       "      <td>0.624</td>\n",
       "      <td>Lower middle income</td>\n",
       "    </tr>\n",
       "  </tbody>\n",
       "</table>\n",
       "<p>5 rows × 33 columns</p>\n",
       "</div>"
      ],
      "text/plain": [
       "  Event_id_cnty  Event_date  Year  Time_precision       Disorder_type  \\\n",
       "0          ALG1  1997-01-01  1997               1  Political violence   \n",
       "1          ALG2  1997-01-02  1997               1  Political violence   \n",
       "2          ALG3  1997-01-03  1997               1  Political violence   \n",
       "3          ALG4  1997-01-04  1997               1  Political violence   \n",
       "4          ALG5  1997-01-05  1997               1  Political violence   \n",
       "\n",
       "                   Event_type Sub_event_type                    Actor1  \\\n",
       "0  Violence against civilians         Attack  GIA: Armed Islamic Group   \n",
       "1  Violence against civilians         Attack  GIA: Armed Islamic Group   \n",
       "2  Violence against civilians         Attack  GIA: Armed Islamic Group   \n",
       "3  Violence against civilians         Attack  GIA: Armed Islamic Group   \n",
       "4  Violence against civilians         Attack  GIA: Armed Islamic Group   \n",
       "\n",
       "    Assoc_actor_1  Inter1  ... Longitude Geo_precision         Source  \\\n",
       "0  No information       2  ...     2.789             1  Algeria Watch   \n",
       "1  No information       2  ...     0.883             1  Algeria Watch   \n",
       "2  No information       2  ...    -0.290             1  Algeria Watch   \n",
       "3  No information       2  ...     2.829             1  Algeria Watch   \n",
       "4  No information       2  ...     2.789             1  Algeria Watch   \n",
       "\n",
       "   Source_scale                                              Notes  \\\n",
       "0         Other  5 January: Beheading of 5 citizens in Douaouda...   \n",
       "1         Other            Two citizens were beheaded in Hassasna.   \n",
       "2         Other  Two citizens were killed in a raid on the vill...   \n",
       "3         Other  4 January: 16 citizens were murdered in the vi...   \n",
       "4         Other  5 January: Killing of 18 citizens in the Olivi...   \n",
       "\n",
       "   Fatalities            Tags   Timestamp  Index       Classification  \n",
       "0           5  No information  1582579226  0.624  Lower middle income  \n",
       "1           2  No information  1582579226  0.624  Lower middle income  \n",
       "2           2  No information  1582579226  0.624  Lower middle income  \n",
       "3          16  No information  1582579226  0.624  Lower middle income  \n",
       "4          18  No information  1582579226  0.624  Lower middle income  \n",
       "\n",
       "[5 rows x 33 columns]"
      ]
     },
     "execution_count": 2,
     "metadata": {},
     "output_type": "execute_result"
    }
   ],
   "source": [
    "df = pd.read_csv(\"C:\\\\Users\\\\user\\\\OneDrive\\\\Рабочий стол\\\\chistoe.csv\")\n",
    "df = df.drop('Unnamed: 0',axis=1)\n",
    "df.columns = map(str.capitalize,df.columns)\n",
    "df = df.fillna('No information')\n",
    "df.head()"
   ]
  },
  {
   "cell_type": "markdown",
   "id": "76cc51c0",
   "metadata": {},
   "source": [
    "### В первую очередь интерес представляют гипотезы, как-то связанные с целевыми переменными - Index и Classification. "
   ]
  },
  {
   "cell_type": "markdown",
   "id": "526a7749",
   "metadata": {},
   "source": [
    "# <u>Гипотеза 1</u>"
   ]
  },
  {
   "cell_type": "markdown",
   "id": "a29528e1",
   "metadata": {},
   "source": [
    "#### Для начала, давайте проверим гипотезу, сформулированную следующим образом:\n",
    "> $$ H_0: \\mu_H = \\mu_L$$\n",
    "> $$ H_1: \\mu_H > \\mu_L $$\n",
    "\n",
    "#### Теперь немного о том, что мы будем проверять. Основная гипотеза(словами) сформулирована так: математическое ожидание индекса человеческого развития в регионах с более высоким доходом никак не отличается от математического ожидания индекса человеческого развития в регионах с более низким уровнем дохода. Соответственно, $\\mu_H$ - матожидание индекса в более богатых регионах, $\\mu_L$ - в более бедных.\n",
    "- Важно заметить, что к первой категории мы будем относить регионы с метками __'High income'__ и __'Upper middle income'__. А ко второй - с __'Lower middle income'__ и __'Low income'__ (по переменной Classification).\n"
   ]
  },
  {
   "cell_type": "markdown",
   "id": "fc8133e4",
   "metadata": {},
   "source": [
    "#### Для начала, для более удобной работы, вытащим данные по двум категориям в два отдельных \"датасета\":"
   ]
  },
  {
   "cell_type": "code",
   "execution_count": 3,
   "id": "8acc8fcd",
   "metadata": {},
   "outputs": [
    {
     "data": {
      "text/html": [
       "<div>\n",
       "<style scoped>\n",
       "    .dataframe tbody tr th:only-of-type {\n",
       "        vertical-align: middle;\n",
       "    }\n",
       "\n",
       "    .dataframe tbody tr th {\n",
       "        vertical-align: top;\n",
       "    }\n",
       "\n",
       "    .dataframe thead th {\n",
       "        text-align: right;\n",
       "    }\n",
       "</style>\n",
       "<table border=\"1\" class=\"dataframe\">\n",
       "  <thead>\n",
       "    <tr style=\"text-align: right;\">\n",
       "      <th></th>\n",
       "      <th>Index</th>\n",
       "      <th>Classification</th>\n",
       "    </tr>\n",
       "  </thead>\n",
       "  <tbody>\n",
       "    <tr>\n",
       "      <th>1907</th>\n",
       "      <td>0.705</td>\n",
       "      <td>Upper middle income</td>\n",
       "    </tr>\n",
       "    <tr>\n",
       "      <th>1908</th>\n",
       "      <td>0.705</td>\n",
       "      <td>Upper middle income</td>\n",
       "    </tr>\n",
       "    <tr>\n",
       "      <th>1909</th>\n",
       "      <td>0.705</td>\n",
       "      <td>Upper middle income</td>\n",
       "    </tr>\n",
       "    <tr>\n",
       "      <th>1910</th>\n",
       "      <td>0.705</td>\n",
       "      <td>Upper middle income</td>\n",
       "    </tr>\n",
       "    <tr>\n",
       "      <th>1911</th>\n",
       "      <td>0.705</td>\n",
       "      <td>Upper middle income</td>\n",
       "    </tr>\n",
       "  </tbody>\n",
       "</table>\n",
       "</div>"
      ],
      "text/plain": [
       "      Index       Classification\n",
       "1907  0.705  Upper middle income\n",
       "1908  0.705  Upper middle income\n",
       "1909  0.705  Upper middle income\n",
       "1910  0.705  Upper middle income\n",
       "1911  0.705  Upper middle income"
      ]
     },
     "execution_count": 3,
     "metadata": {},
     "output_type": "execute_result"
    }
   ],
   "source": [
    "#для более богатых стран\n",
    "high = df[(df['Classification']=='High income')|(df['Classification']=='Upper middle income')]\n",
    "high = high[['Index','Classification']]\n",
    "high.head()"
   ]
  },
  {
   "cell_type": "code",
   "execution_count": 4,
   "id": "b4b82854",
   "metadata": {},
   "outputs": [
    {
     "data": {
      "text/html": [
       "<div>\n",
       "<style scoped>\n",
       "    .dataframe tbody tr th:only-of-type {\n",
       "        vertical-align: middle;\n",
       "    }\n",
       "\n",
       "    .dataframe tbody tr th {\n",
       "        vertical-align: top;\n",
       "    }\n",
       "\n",
       "    .dataframe thead th {\n",
       "        text-align: right;\n",
       "    }\n",
       "</style>\n",
       "<table border=\"1\" class=\"dataframe\">\n",
       "  <thead>\n",
       "    <tr style=\"text-align: right;\">\n",
       "      <th></th>\n",
       "      <th>Index</th>\n",
       "      <th>Classification</th>\n",
       "    </tr>\n",
       "  </thead>\n",
       "  <tbody>\n",
       "    <tr>\n",
       "      <th>0</th>\n",
       "      <td>0.624</td>\n",
       "      <td>Lower middle income</td>\n",
       "    </tr>\n",
       "    <tr>\n",
       "      <th>1</th>\n",
       "      <td>0.624</td>\n",
       "      <td>Lower middle income</td>\n",
       "    </tr>\n",
       "    <tr>\n",
       "      <th>2</th>\n",
       "      <td>0.624</td>\n",
       "      <td>Lower middle income</td>\n",
       "    </tr>\n",
       "    <tr>\n",
       "      <th>3</th>\n",
       "      <td>0.624</td>\n",
       "      <td>Lower middle income</td>\n",
       "    </tr>\n",
       "    <tr>\n",
       "      <th>4</th>\n",
       "      <td>0.624</td>\n",
       "      <td>Lower middle income</td>\n",
       "    </tr>\n",
       "  </tbody>\n",
       "</table>\n",
       "</div>"
      ],
      "text/plain": [
       "   Index       Classification\n",
       "0  0.624  Lower middle income\n",
       "1  0.624  Lower middle income\n",
       "2  0.624  Lower middle income\n",
       "3  0.624  Lower middle income\n",
       "4  0.624  Lower middle income"
      ]
     },
     "execution_count": 4,
     "metadata": {},
     "output_type": "execute_result"
    }
   ],
   "source": [
    "#для более бедных стран\n",
    "low = df[(df['Classification']=='Low income')|(df['Classification']=='Lower middle income')]\n",
    "low = low[['Index','Classification']]\n",
    "low.head()"
   ]
  },
  {
   "cell_type": "markdown",
   "id": "3632cf13",
   "metadata": {},
   "source": [
    "#### Давайте посмотрим на размерности получившихся датафреймов"
   ]
  },
  {
   "cell_type": "code",
   "execution_count": 5,
   "id": "3db10e6c",
   "metadata": {},
   "outputs": [
    {
     "data": {
      "text/plain": [
       "((687404, 2), (1063312, 2))"
      ]
     },
     "execution_count": 5,
     "metadata": {},
     "output_type": "execute_result"
    }
   ],
   "source": [
    "high.shape,low.shape"
   ]
  },
  {
   "cell_type": "markdown",
   "id": "017ab1c8",
   "metadata": {},
   "source": [
    "#### Как мы видим, регионов с более низким уровнем дохода больше, чем с более высоким.\n",
    "\n",
    "#### Теперь приступим к проверке гипотез. Будем проверять на уровне значимости в 5%."
   ]
  },
  {
   "cell_type": "code",
   "execution_count": 6,
   "id": "d9950bf2",
   "metadata": {},
   "outputs": [],
   "source": [
    "mu_h = high['Index']\n",
    "mu_l = low['Index']"
   ]
  },
  {
   "cell_type": "markdown",
   "id": "d74f48c3",
   "metadata": {},
   "source": [
    "#### Для проверки будем использовать тест Уэлча, он зашит в пакет scipy.stats. Откуда сразу найдём и p-value"
   ]
  },
  {
   "cell_type": "code",
   "execution_count": 7,
   "id": "b5d7d239",
   "metadata": {},
   "outputs": [
    {
     "name": "stdout",
     "output_type": "stream",
     "text": [
      "P-value:0.0\n"
     ]
    }
   ],
   "source": [
    "a = sts.ttest_ind(mu_h,mu_l,equal_var=False,alternative='greater')\n",
    "print(f'P-value:{a[1]}')"
   ]
  },
  {
   "cell_type": "markdown",
   "id": "5477d9ca",
   "metadata": {},
   "source": [
    "__Вывод__: Как мы видим, p-значение меньше, чем заданный уровень значимости, а следовательно,основная гипотеза о том, что математическое ожидание индекса человеческого развития в регионах с более высоким доходом никак не отличается от математического ожидания индекса человеческого развития в регионах с более низким уровнем дохода отвергается. \n"
   ]
  },
  {
   "cell_type": "markdown",
   "id": "1e7ac5a8",
   "metadata": {},
   "source": [
    "# <u>Гипотеза 2</u>"
   ]
  },
  {
   "cell_type": "markdown",
   "id": "288476e2",
   "metadata": {},
   "source": [
    "#### Раз мы начали говорить о целевых переменных, давайте подробнее рассмотрим  'Index'.  Было бы интересно посмотреть, зависит ли эта переменная от переменной 'Fatalities', указывающая на количество смертей в конфликте."
   ]
  },
  {
   "cell_type": "markdown",
   "id": "4f8f013e",
   "metadata": {},
   "source": [
    "#### Давайте проверим гипотезу, сформулированную следующим образом:\n",
    "> $$ H_0: Corr (Fatalities,Index) = 0$$\n",
    "> $$ H_1: Corr (Fatalities,Index) \\neq 0$$"
   ]
  },
  {
   "cell_type": "markdown",
   "id": "9670c5a7",
   "metadata": {},
   "source": [
    "#### Где нулевая гипотеза свидетельствует о том, что зависимости между переменными нет, а альтернативная - что хоть какая-то зависимость есть"
   ]
  },
  {
   "cell_type": "code",
   "execution_count": 8,
   "id": "ce28f3b9",
   "metadata": {},
   "outputs": [],
   "source": [
    "a = df['Fatalities']\n",
    "b = df['Index']"
   ]
  },
  {
   "cell_type": "markdown",
   "id": "ad88749a",
   "metadata": {},
   "source": [
    "#### Для проверки гипотезы будем использовать коэффициент корреляции Пирсона, аналогично, уровень значимости возьмём равный 5%"
   ]
  },
  {
   "cell_type": "code",
   "execution_count": 9,
   "id": "20128973",
   "metadata": {},
   "outputs": [
    {
     "name": "stdout",
     "output_type": "stream",
     "text": [
      "P-value:0.0\n"
     ]
    }
   ],
   "source": [
    "corr,p = sts.pearsonr(a,b)\n",
    "print(f'P-value:{p}')"
   ]
  },
  {
   "cell_type": "markdown",
   "id": "1f692a80",
   "metadata": {},
   "source": [
    "__Вывод__: Получили результат, что p-значение меньше нашего уровня значимости, следовательно, основная гипотеза отвергается. Но следует помнить, что корреляция Пирсона рассматривает только линейную связь между переменными, поэтому в нашем случае мы отвергаем только линейную связь между признаками."
   ]
  },
  {
   "cell_type": "markdown",
   "id": "4f0620f1",
   "metadata": {},
   "source": [
    "# <u>Гипотеза 3</u>"
   ]
  },
  {
   "cell_type": "markdown",
   "id": "cbc00682",
   "metadata": {},
   "source": [
    "#### Теперь вторая целевая переменная - Classification. Она категориальна, поэтому можем рассматривать её только в связи с другими категориальными. Например, рассмотрим с переменной 'Disorder_type'."
   ]
  },
  {
   "cell_type": "markdown",
   "id": "24843e2a",
   "metadata": {},
   "source": [
    "#### Давайте проверим гипотезу, сформулированную следующим образом:\n",
    "> $$ H_0: Две \\ переменные \\ независимы$$\n",
    "> $$ H_1: Существует \\ зависимость \\ между \\ переменными$$"
   ]
  },
  {
   "cell_type": "markdown",
   "id": "c431f9e8",
   "metadata": {},
   "source": [
    "#### Для начала, составим таблицу сопряжённости:"
   ]
  },
  {
   "cell_type": "code",
   "execution_count": 10,
   "id": "e9c22954",
   "metadata": {},
   "outputs": [
    {
     "data": {
      "text/html": [
       "<div>\n",
       "<style scoped>\n",
       "    .dataframe tbody tr th:only-of-type {\n",
       "        vertical-align: middle;\n",
       "    }\n",
       "\n",
       "    .dataframe tbody tr th {\n",
       "        vertical-align: top;\n",
       "    }\n",
       "\n",
       "    .dataframe thead th {\n",
       "        text-align: right;\n",
       "    }\n",
       "</style>\n",
       "<table border=\"1\" class=\"dataframe\">\n",
       "  <thead>\n",
       "    <tr style=\"text-align: right;\">\n",
       "      <th></th>\n",
       "      <th>Demonstrations</th>\n",
       "      <th>Political violence</th>\n",
       "      <th>Political violence; Demonstrations</th>\n",
       "      <th>Strategic developments</th>\n",
       "    </tr>\n",
       "  </thead>\n",
       "  <tbody>\n",
       "    <tr>\n",
       "      <th>High income</th>\n",
       "      <td>236951</td>\n",
       "      <td>10322</td>\n",
       "      <td>278</td>\n",
       "      <td>7583</td>\n",
       "    </tr>\n",
       "    <tr>\n",
       "      <th>Low income</th>\n",
       "      <td>45792</td>\n",
       "      <td>358914</td>\n",
       "      <td>1767</td>\n",
       "      <td>33022</td>\n",
       "    </tr>\n",
       "    <tr>\n",
       "      <th>Lower middle income</th>\n",
       "      <td>309769</td>\n",
       "      <td>278893</td>\n",
       "      <td>2433</td>\n",
       "      <td>32722</td>\n",
       "    </tr>\n",
       "    <tr>\n",
       "      <th>Upper middle income</th>\n",
       "      <td>212237</td>\n",
       "      <td>194624</td>\n",
       "      <td>714</td>\n",
       "      <td>24695</td>\n",
       "    </tr>\n",
       "  </tbody>\n",
       "</table>\n",
       "</div>"
      ],
      "text/plain": [
       "                     Demonstrations  Political violence  \\\n",
       "High income                  236951               10322   \n",
       "Low income                    45792              358914   \n",
       "Lower middle income          309769              278893   \n",
       "Upper middle income          212237              194624   \n",
       "\n",
       "                     Political violence; Demonstrations  \\\n",
       "High income                                         278   \n",
       "Low income                                         1767   \n",
       "Lower middle income                                2433   \n",
       "Upper middle income                                 714   \n",
       "\n",
       "                     Strategic developments  \n",
       "High income                            7583  \n",
       "Low income                            33022  \n",
       "Lower middle income                   32722  \n",
       "Upper middle income                   24695  "
      ]
     },
     "execution_count": 10,
     "metadata": {},
     "output_type": "execute_result"
    }
   ],
   "source": [
    "pivot = pd.crosstab(index = df.Classification, columns = df.Disorder_type)\n",
    "pivot.index = ['High income', 'Low income', 'Lower middle income','Upper middle income']\n",
    "pivot.columns = ['Demonstrations', 'Political violence','Political violence; Demonstrations','Strategic developments']\n",
    "pivot"
   ]
  },
  {
   "cell_type": "markdown",
   "id": "e24a1016",
   "metadata": {},
   "source": [
    "#### Для проверки данной гипотезы будем использовать Хи-квадрат критерий Пирсона, способ которого подшит в scipy.stats. Опять же, возьмём уровень значимости в 5%."
   ]
  },
  {
   "cell_type": "code",
   "execution_count": 11,
   "id": "e8845f61",
   "metadata": {},
   "outputs": [
    {
     "name": "stdout",
     "output_type": "stream",
     "text": [
      "P-value:0.0\n"
     ]
    }
   ],
   "source": [
    "stat, p, dof, expected = sts.chi2_contingency(pivot)\n",
    "print(f'P-value:{p}')"
   ]
  },
  {
   "cell_type": "markdown",
   "id": "9c763aae",
   "metadata": {},
   "source": [
    "__Вывод__: Таким образом, основная гипотеза отвергается. А это значит, что всё-таки зависимость между переменными существует."
   ]
  },
  {
   "cell_type": "markdown",
   "id": "1ae4fb9c",
   "metadata": {},
   "source": [
    "# <u>Гипотеза 4</u>"
   ]
  },
  {
   "cell_type": "markdown",
   "id": "7a0903bb",
   "metadata": {},
   "source": [
    "#### Интересно было бы посмотреть на то, какова вероятность того, что регион, в котором произошёл конфликт, имеет высокий или низкий доход. Давайте проверим следующую гипотезу:"
   ]
  },
  {
   "cell_type": "markdown",
   "id": "fa800378",
   "metadata": {},
   "source": [
    "> $$ H_0: p_H = p_L$$\n",
    "> $$ H_1: p_H \\neq p_L $$\n"
   ]
  },
  {
   "cell_type": "markdown",
   "id": "953eee03",
   "metadata": {},
   "source": [
    "#### Где $p_H$ - вероятность того, что в регионе высокий доход, а $p_L$ - низкий."
   ]
  },
  {
   "cell_type": "markdown",
   "id": "92a17cb7",
   "metadata": {},
   "source": [
    "#### Для тестирования гипотезы мы будем использовать Z-статистику, так как данных у нас много, поэтому статистика хорошо аппроксимируется нормальным распределением. Посчитаем нужные для расчёта значения. Чтобы не добавлять ничего лишнего, возьмём те таблицы, что использовали при проверке первой гипотезы."
   ]
  },
  {
   "cell_type": "code",
   "execution_count": 12,
   "id": "787577b3",
   "metadata": {},
   "outputs": [],
   "source": [
    "p_H = len(high)/len(df)\n",
    "p_L = len(low)/len(df)\n",
    "sigma_H = (p_H*(1-p_H))/len(high)\n",
    "sigma_L = (p_L*(1-p_L))/len(low)"
   ]
  },
  {
   "cell_type": "markdown",
   "id": "ec515b42",
   "metadata": {},
   "source": [
    "#### Значение нашей статистики:"
   ]
  },
  {
   "cell_type": "code",
   "execution_count": 13,
   "id": "0bb57f75",
   "metadata": {},
   "outputs": [],
   "source": [
    "z_obs = (p_H-p_L)/(np.sqrt(sigma_H+sigma_L))"
   ]
  },
  {
   "cell_type": "markdown",
   "id": "a7e8dd79",
   "metadata": {},
   "source": [
    "#### Критическое значение на уровне значимости в 5%:"
   ]
  },
  {
   "cell_type": "code",
   "execution_count": 14,
   "id": "02368bbb",
   "metadata": {},
   "outputs": [
    {
     "data": {
      "text/plain": [
       "1.6448536269514722"
      ]
     },
     "execution_count": 14,
     "metadata": {},
     "output_type": "execute_result"
    }
   ],
   "source": [
    "z_crit = sts.norm.ppf(0.95)\n",
    "z_crit"
   ]
  },
  {
   "cell_type": "code",
   "execution_count": 15,
   "id": "318870c0",
   "metadata": {},
   "outputs": [
    {
     "name": "stdout",
     "output_type": "stream",
     "text": [
      "H0 отвергается\n"
     ]
    }
   ],
   "source": [
    "if abs(z_obs)>=z_crit:\n",
    "    print('H0 отвергается')\n",
    "else:\n",
    "    print('H0 не отвергается')"
   ]
  },
  {
   "cell_type": "markdown",
   "id": "34415fac",
   "metadata": {},
   "source": [
    "__Вывод__: Значит, мы не можем утверждать, что регионов с высокими доходами столько же, сколько и регионов с низкими. И, действительно, давайте посмотрим на эти вероятности:"
   ]
  },
  {
   "cell_type": "code",
   "execution_count": 16,
   "id": "8215d6bc",
   "metadata": {},
   "outputs": [
    {
     "name": "stdout",
     "output_type": "stream",
     "text": [
      "Вероятность того, что в регионе высокие доходы:0.393\n",
      "Вероятность того, что в регионе низкие доходы:0.607\n"
     ]
    }
   ],
   "source": [
    "print(f'Вероятность того, что в регионе высокие доходы:{np.round(p_H,3)}')\n",
    "print(f'Вероятность того, что в регионе низкие доходы:{np.round(p_L,3)}')"
   ]
  },
  {
   "cell_type": "markdown",
   "id": "1f173791",
   "metadata": {},
   "source": [
    "# <u>Гипотеза 5</u>"
   ]
  },
  {
   "cell_type": "markdown",
   "id": "f9df31b6",
   "metadata": {},
   "source": [
    "#### Ну и напоследок, рассмотрим следующую гипотезу:"
   ]
  },
  {
   "cell_type": "markdown",
   "id": "21cf9554",
   "metadata": {},
   "source": [
    "> $$ H_0: \\mu_1 = \\mu_2$$\n",
    "> $$ H_1: \\mu_1 > \\mu_2 $$\n",
    "\n",
    "#### Где $\\mu_1$  - математическое ожидание индекса для стран, где доминируют ненасильственные конфликты, a $\\mu_2$ - наоборот. Тогда $H_0$ - отсутствие устойчивой разницы , а $H_1$ - страны с ненасильственными конфликтами в среднем имеют лучший показатель индекса человеческого развития"
   ]
  },
  {
   "cell_type": "markdown",
   "id": "88ff8a6e",
   "metadata": {},
   "source": [
    "#### Анализировать будем по переменной Event_type, содержащей следующие значения:"
   ]
  },
  {
   "cell_type": "code",
   "execution_count": 17,
   "id": "a71cdc28",
   "metadata": {},
   "outputs": [
    {
     "data": {
      "text/plain": [
       "array(['Violence against civilians', 'Battles',\n",
       "       'Explosions/Remote violence', 'Protests', 'Strategic developments',\n",
       "       'Riots'], dtype=object)"
      ]
     },
     "execution_count": 17,
     "metadata": {},
     "output_type": "execute_result"
    }
   ],
   "source": [
    "df['Event_type'].unique()"
   ]
  },
  {
   "cell_type": "markdown",
   "id": "dcf1f780",
   "metadata": {},
   "source": [
    "Напомним, что\n",
    "> - Violence against civilians - Насилие в отношении гражданских лиц\n",
    "> - Battles - Драки\n",
    "> - Explosions/Remote violence - Взрывы/Насилие на расстоянии\n",
    "> - Protests - Протесты\n",
    "> - Strategic developments - Стратегические разработки\n",
    "> - Riots - Массовые беспорядки"
   ]
  },
  {
   "cell_type": "markdown",
   "id": "ae442ea4",
   "metadata": {},
   "source": [
    "#### Отнесём Protests и Strategic developments к ненасильственным конфликтам, а остальное - к насильственным."
   ]
  },
  {
   "cell_type": "code",
   "execution_count": 18,
   "id": "8c82c977",
   "metadata": {},
   "outputs": [],
   "source": [
    "nas = df[(df['Event_type']=='Violence against civilians')|(df['Event_type']=='Battles')|(df['Event_type']=='Explosions/Remote violence')|(df['Event_type']=='Riots')]\n",
    "ne_nas = df[(df['Event_type']=='Protests')|(df['Event_type']=='Strategic developments')]"
   ]
  },
  {
   "cell_type": "code",
   "execution_count": 19,
   "id": "c76b76c5",
   "metadata": {},
   "outputs": [],
   "source": [
    "nas = nas['Index']\n",
    "ne_nas = ne_nas['Index']"
   ]
  },
  {
   "cell_type": "markdown",
   "id": "bffe7851",
   "metadata": {},
   "source": [
    "#### Будем использовать Z-статистику, так как данных достаточно много. Уровень значимости - 5%."
   ]
  },
  {
   "cell_type": "code",
   "execution_count": 20,
   "id": "ecf9ed35",
   "metadata": {},
   "outputs": [],
   "source": [
    "mu_1 = ne_nas.mean()\n",
    "mu_2 = nas.mean()"
   ]
  },
  {
   "cell_type": "code",
   "execution_count": 21,
   "id": "0cab46f4",
   "metadata": {},
   "outputs": [],
   "source": [
    "sigma_1 = (ne_nas.std())**2/len(ne_nas)\n",
    "sigma_2 = (nas.std())**2/len(nas)"
   ]
  },
  {
   "cell_type": "code",
   "execution_count": 22,
   "id": "3428c253",
   "metadata": {},
   "outputs": [],
   "source": [
    "Z_obs = (mu_1-mu_2)/(np.sqrt(sigma_1+sigma_2))"
   ]
  },
  {
   "cell_type": "code",
   "execution_count": 23,
   "id": "31fe1712",
   "metadata": {},
   "outputs": [],
   "source": [
    "Z_crit = sts.norm.ppf(0.95)"
   ]
  },
  {
   "cell_type": "code",
   "execution_count": 24,
   "id": "a9ba07dc",
   "metadata": {},
   "outputs": [
    {
     "name": "stdout",
     "output_type": "stream",
     "text": [
      "H0 отвергается\n"
     ]
    }
   ],
   "source": [
    "if Z_obs>Z_crit:\n",
    "    print('H0 отвергается')\n",
    "else:\n",
    "    print('H0 не отвергается')"
   ]
  },
  {
   "cell_type": "markdown",
   "id": "5a31a358",
   "metadata": {},
   "source": [
    "__Вывод__: Таким образом, основная гипотеза о том, что нет разницы между математическим ожиданием индекса человеческого развития для стран, где преобладают ненасильственные конфликты, и для тех, где преобладают насильственные, отвергается"
   ]
  }
 ],
 "metadata": {
  "kernelspec": {
   "display_name": "Python 3 (ipykernel)",
   "language": "python",
   "name": "python3"
  },
  "language_info": {
   "codemirror_mode": {
    "name": "ipython",
    "version": 3
   },
   "file_extension": ".py",
   "mimetype": "text/x-python",
   "name": "python",
   "nbconvert_exporter": "python",
   "pygments_lexer": "ipython3",
   "version": "3.10.9"
  }
 },
 "nbformat": 4,
 "nbformat_minor": 5
}
