{
 "cells": [
  {
   "cell_type": "markdown",
   "metadata": {},
   "source": [
    "# Регрессия"
   ]
  },
  {
   "cell_type": "code",
   "execution_count": 2,
   "metadata": {
    "id": "QVCh1mDlKG6m"
   },
   "outputs": [],
   "source": [
    "import pandas as pd\n",
    "import numpy as np\n",
    "import matplotlib.pyplot as plt\n",
    "import warnings\n",
    "\n",
    "warnings.filterwarnings('ignore')"
   ]
  },
  {
   "cell_type": "markdown",
   "metadata": {
    "id": "XOZX_HAIh6YQ"
   },
   "source": [
    "**Сначала попробуем решить задачу регрессии, то есть нашей целевой переменной будет 'index' - значение индекса человеческого развития**\n",
    "\n",
    "Чтобы было честно, мы уберем из выборки признак classification, то есть другую нашу целевую переменную, предсказывать которую мы будем в процессе решения задачи классификации.\n"
   ]
  },
  {
   "cell_type": "code",
   "execution_count": 3,
   "metadata": {
    "id": "UgN0umUPWVMu"
   },
   "outputs": [],
   "source": [
    "df = pd.read_csv('df_vib.csv')"
   ]
  },
  {
   "cell_type": "markdown",
   "metadata": {},
   "source": [
    "#### Для начала, приведём целевую переменную на промежуток от 0 до 100, это сделано для того чтобы при возведении в квадрат мы не получали слишком маленькие цифры"
   ]
  },
  {
   "cell_type": "code",
   "execution_count": 4,
   "metadata": {
    "colab": {
     "base_uri": "https://localhost:8080/",
     "height": 367
    },
    "id": "LA34p0wGtF7i",
    "outputId": "bd2061e5-4efd-425e-d446-5255c9e60a51"
   },
   "outputs": [
    {
     "data": {
      "text/html": [
       "<div>\n",
       "<style scoped>\n",
       "    .dataframe tbody tr th:only-of-type {\n",
       "        vertical-align: middle;\n",
       "    }\n",
       "\n",
       "    .dataframe tbody tr th {\n",
       "        vertical-align: top;\n",
       "    }\n",
       "\n",
       "    .dataframe thead th {\n",
       "        text-align: right;\n",
       "    }\n",
       "</style>\n",
       "<table border=\"1\" class=\"dataframe\">\n",
       "  <thead>\n",
       "    <tr style=\"text-align: right;\">\n",
       "      <th></th>\n",
       "      <th>YEAR</th>\n",
       "      <th>DISORDER_TYPE</th>\n",
       "      <th>EVENT_TYPE</th>\n",
       "      <th>ACTOR1</th>\n",
       "      <th>INTER1</th>\n",
       "      <th>ACTOR2</th>\n",
       "      <th>INTER2</th>\n",
       "      <th>INTERACTION</th>\n",
       "      <th>CIVILIAN_TARGETING</th>\n",
       "      <th>COUNTRY</th>\n",
       "      <th>LOCATION</th>\n",
       "      <th>LATITUDE</th>\n",
       "      <th>LONGITUDE</th>\n",
       "      <th>NOTES</th>\n",
       "      <th>FATALITIES</th>\n",
       "      <th>index</th>\n",
       "      <th>classification</th>\n",
       "      <th>bool</th>\n",
       "      <th>violence_ind</th>\n",
       "    </tr>\n",
       "  </thead>\n",
       "  <tbody>\n",
       "    <tr>\n",
       "      <th>0</th>\n",
       "      <td>2022</td>\n",
       "      <td>Demonstrations</td>\n",
       "      <td>Protests</td>\n",
       "      <td>Protesters (Italy)</td>\n",
       "      <td>6</td>\n",
       "      <td>NaN</td>\n",
       "      <td>0</td>\n",
       "      <td>60</td>\n",
       "      <td>NaN</td>\n",
       "      <td>Italy</td>\n",
       "      <td>Cagliari</td>\n",
       "      <td>39.217</td>\n",
       "      <td>9.113</td>\n",
       "      <td>On 15 March 2022, striking haulers from across...</td>\n",
       "      <td>0</td>\n",
       "      <td>89.5</td>\n",
       "      <td>High income</td>\n",
       "      <td>0</td>\n",
       "      <td>1.0</td>\n",
       "    </tr>\n",
       "    <tr>\n",
       "      <th>1</th>\n",
       "      <td>2020</td>\n",
       "      <td>Demonstrations</td>\n",
       "      <td>Protests</td>\n",
       "      <td>Protesters (United States)</td>\n",
       "      <td>6</td>\n",
       "      <td>NaN</td>\n",
       "      <td>0</td>\n",
       "      <td>60</td>\n",
       "      <td>NaN</td>\n",
       "      <td>United States</td>\n",
       "      <td>Chicago</td>\n",
       "      <td>41.850</td>\n",
       "      <td>-87.650</td>\n",
       "      <td>On 5 October 2020, student-athletes staged a p...</td>\n",
       "      <td>0</td>\n",
       "      <td>92.0</td>\n",
       "      <td>High income</td>\n",
       "      <td>0</td>\n",
       "      <td>1.0</td>\n",
       "    </tr>\n",
       "  </tbody>\n",
       "</table>\n",
       "</div>"
      ],
      "text/plain": [
       "   YEAR   DISORDER_TYPE EVENT_TYPE                      ACTOR1  INTER1 ACTOR2  \\\n",
       "0  2022  Demonstrations   Protests          Protesters (Italy)       6    NaN   \n",
       "1  2020  Demonstrations   Protests  Protesters (United States)       6    NaN   \n",
       "\n",
       "   INTER2  INTERACTION CIVILIAN_TARGETING        COUNTRY  LOCATION  LATITUDE  \\\n",
       "0       0           60                NaN          Italy  Cagliari    39.217   \n",
       "1       0           60                NaN  United States   Chicago    41.850   \n",
       "\n",
       "   LONGITUDE                                              NOTES  FATALITIES  \\\n",
       "0      9.113  On 15 March 2022, striking haulers from across...           0   \n",
       "1    -87.650  On 5 October 2020, student-athletes staged a p...           0   \n",
       "\n",
       "   index classification  bool  violence_ind  \n",
       "0   89.5    High income     0           1.0  \n",
       "1   92.0    High income     0           1.0  "
      ]
     },
     "execution_count": 4,
     "metadata": {},
     "output_type": "execute_result"
    }
   ],
   "source": [
    "df['index'] = df['index']*100\n",
    "df.head(2)"
   ]
  },
  {
   "cell_type": "markdown",
   "metadata": {},
   "source": [
    "#### Заполним пропуски $0$ и удалим столбцы, не информативные для предсказания"
   ]
  },
  {
   "cell_type": "code",
   "execution_count": 5,
   "metadata": {
    "colab": {
     "base_uri": "https://localhost:8080/",
     "height": 112
    },
    "id": "MnDtDTmsaLGi",
    "outputId": "94b9eb86-3e6b-4820-a333-38b3e7ed6cb9"
   },
   "outputs": [
    {
     "data": {
      "text/html": [
       "<div>\n",
       "<style scoped>\n",
       "    .dataframe tbody tr th:only-of-type {\n",
       "        vertical-align: middle;\n",
       "    }\n",
       "\n",
       "    .dataframe tbody tr th {\n",
       "        vertical-align: top;\n",
       "    }\n",
       "\n",
       "    .dataframe thead th {\n",
       "        text-align: right;\n",
       "    }\n",
       "</style>\n",
       "<table border=\"1\" class=\"dataframe\">\n",
       "  <thead>\n",
       "    <tr style=\"text-align: right;\">\n",
       "      <th></th>\n",
       "      <th>YEAR</th>\n",
       "      <th>EVENT_TYPE</th>\n",
       "      <th>INTERACTION</th>\n",
       "      <th>FATALITIES</th>\n",
       "      <th>index</th>\n",
       "      <th>bool</th>\n",
       "      <th>violence_ind</th>\n",
       "    </tr>\n",
       "  </thead>\n",
       "  <tbody>\n",
       "    <tr>\n",
       "      <th>0</th>\n",
       "      <td>2022</td>\n",
       "      <td>Protests</td>\n",
       "      <td>60</td>\n",
       "      <td>0</td>\n",
       "      <td>89.5</td>\n",
       "      <td>0</td>\n",
       "      <td>1.0</td>\n",
       "    </tr>\n",
       "    <tr>\n",
       "      <th>1</th>\n",
       "      <td>2020</td>\n",
       "      <td>Protests</td>\n",
       "      <td>60</td>\n",
       "      <td>0</td>\n",
       "      <td>92.0</td>\n",
       "      <td>0</td>\n",
       "      <td>1.0</td>\n",
       "    </tr>\n",
       "  </tbody>\n",
       "</table>\n",
       "</div>"
      ],
      "text/plain": [
       "   YEAR EVENT_TYPE  INTERACTION  FATALITIES  index  bool  violence_ind\n",
       "0  2022   Protests           60           0   89.5     0           1.0\n",
       "1  2020   Protests           60           0   92.0     0           1.0"
      ]
     },
     "execution_count": 5,
     "metadata": {},
     "output_type": "execute_result"
    }
   ],
   "source": [
    "df_linear_model = df.fillna(0)\n",
    "df_linear_model = df_linear_model.drop(['ACTOR1', 'ACTOR2', 'INTER1', 'INTER2', 'COUNTRY', 'LOCATION', 'NOTES','CIVILIAN_TARGETING', 'LATITUDE', 'LONGITUDE', 'classification','DISORDER_TYPE'], axis = 1)\n",
    "df_linear_model.head(2)"
   ]
  },
  {
   "cell_type": "markdown",
   "metadata": {},
   "source": [
    "#### Очевидно, что нам нужно закодировать категориальные переменные. Воспользуемся для этого one-hot кодированием"
   ]
  },
  {
   "cell_type": "code",
   "execution_count": 6,
   "metadata": {
    "id": "Xwmvt9LIY6j4"
   },
   "outputs": [],
   "source": [
    "from sklearn.preprocessing import OneHotEncoder\n",
    "encoder = OneHotEncoder(drop='first')\n",
    "encoder_df = pd.DataFrame(encoder.fit_transform(df_linear_model[['EVENT_TYPE']]).toarray())\n",
    "df_linear_model = df_linear_model.join(encoder_df).drop(['EVENT_TYPE'],axis = 1)\n",
    "\n",
    "df_linear_model = df_linear_model.rename(columns={0:\"Protests\", 1: \"Strategic developments\", 2: 'Battles', 3: 'Riots', 4:'Violence against civilians'})"
   ]
  },
  {
   "cell_type": "code",
   "execution_count": 7,
   "metadata": {
    "colab": {
     "base_uri": "https://localhost:8080/",
     "height": 112
    },
    "id": "6aooySxNy0mh",
    "outputId": "b14b1b03-e7d8-46d8-dcc6-b63ce779b59b"
   },
   "outputs": [
    {
     "data": {
      "text/html": [
       "<div>\n",
       "<style scoped>\n",
       "    .dataframe tbody tr th:only-of-type {\n",
       "        vertical-align: middle;\n",
       "    }\n",
       "\n",
       "    .dataframe tbody tr th {\n",
       "        vertical-align: top;\n",
       "    }\n",
       "\n",
       "    .dataframe thead th {\n",
       "        text-align: right;\n",
       "    }\n",
       "</style>\n",
       "<table border=\"1\" class=\"dataframe\">\n",
       "  <thead>\n",
       "    <tr style=\"text-align: right;\">\n",
       "      <th></th>\n",
       "      <th>YEAR</th>\n",
       "      <th>INTERACTION</th>\n",
       "      <th>FATALITIES</th>\n",
       "      <th>index</th>\n",
       "      <th>bool</th>\n",
       "      <th>violence_ind</th>\n",
       "      <th>Protests</th>\n",
       "      <th>Strategic developments</th>\n",
       "      <th>Battles</th>\n",
       "      <th>Riots</th>\n",
       "      <th>Violence against civilians</th>\n",
       "    </tr>\n",
       "  </thead>\n",
       "  <tbody>\n",
       "    <tr>\n",
       "      <th>0</th>\n",
       "      <td>2022</td>\n",
       "      <td>60</td>\n",
       "      <td>0</td>\n",
       "      <td>89.5</td>\n",
       "      <td>0</td>\n",
       "      <td>1.0</td>\n",
       "      <td>0.0</td>\n",
       "      <td>1.0</td>\n",
       "      <td>0.0</td>\n",
       "      <td>0.0</td>\n",
       "      <td>0.0</td>\n",
       "    </tr>\n",
       "    <tr>\n",
       "      <th>1</th>\n",
       "      <td>2020</td>\n",
       "      <td>60</td>\n",
       "      <td>0</td>\n",
       "      <td>92.0</td>\n",
       "      <td>0</td>\n",
       "      <td>1.0</td>\n",
       "      <td>0.0</td>\n",
       "      <td>1.0</td>\n",
       "      <td>0.0</td>\n",
       "      <td>0.0</td>\n",
       "      <td>0.0</td>\n",
       "    </tr>\n",
       "  </tbody>\n",
       "</table>\n",
       "</div>"
      ],
      "text/plain": [
       "   YEAR  INTERACTION  FATALITIES  index  bool  violence_ind  Protests  \\\n",
       "0  2022           60           0   89.5     0           1.0       0.0   \n",
       "1  2020           60           0   92.0     0           1.0       0.0   \n",
       "\n",
       "   Strategic developments  Battles  Riots  Violence against civilians  \n",
       "0                     1.0      0.0    0.0                         0.0  \n",
       "1                     1.0      0.0    0.0                         0.0  "
      ]
     },
     "execution_count": 7,
     "metadata": {},
     "output_type": "execute_result"
    }
   ],
   "source": [
    "df_linear_model.head(2)"
   ]
  },
  {
   "cell_type": "markdown",
   "metadata": {},
   "source": [
    "#### Ну и, конечно же, разделим выборку на обучающую и тестовую, с долей последней в 20%"
   ]
  },
  {
   "cell_type": "code",
   "execution_count": 8,
   "metadata": {
    "id": "bZMnjtL2Wfgh"
   },
   "outputs": [],
   "source": [
    "from sklearn.model_selection import train_test_split\n",
    "np.random.seed(321)\n",
    "x_train, x_test = train_test_split(df_linear_model, test_size = 0.2)"
   ]
  },
  {
   "cell_type": "markdown",
   "metadata": {
    "id": "8LYbIO7JipnK"
   },
   "source": [
    "**Начнем с базы, с голой линейной регрессии**"
   ]
  },
  {
   "cell_type": "code",
   "execution_count": 9,
   "metadata": {
    "id": "XUgAxct5wzVU"
   },
   "outputs": [],
   "source": [
    "y_train, y_test = x_train['index'], x_test['index']\n",
    "x_train, x_test= np.array(x_train.drop('index', axis=1)), np.array(x_test.drop('index', axis=1))"
   ]
  },
  {
   "cell_type": "code",
   "execution_count": 10,
   "metadata": {
    "id": "R9trjdMuXWcl"
   },
   "outputs": [],
   "source": [
    "from sklearn.linear_model import LinearRegression\n",
    "model = LinearRegression()\n",
    "model.fit(x_train, y_train)\n",
    "y_pred = model.predict(x_test)"
   ]
  },
  {
   "cell_type": "code",
   "execution_count": 11,
   "metadata": {
    "colab": {
     "base_uri": "https://localhost:8080/"
    },
    "id": "ib2agx9EcMru",
    "outputId": "ef2367e1-6f6b-4ded-b1d0-453052d1494d"
   },
   "outputs": [
    {
     "name": "stdout",
     "output_type": "stream",
     "text": [
      "MSE: 163.44426922919263\n",
      "MAE: 10.982323276578061\n"
     ]
    }
   ],
   "source": [
    "from sklearn.metrics import mean_absolute_error as mae\n",
    "from sklearn.metrics import mean_squared_error as mse\n",
    "\n",
    "print(f'MSE: {mse(y_test, y_pred)}')\n",
    "print(f'MAE: {mae(y_test, y_pred)}')"
   ]
  },
  {
   "cell_type": "markdown",
   "metadata": {
    "id": "1GA4B37vixxQ"
   },
   "source": [
    "#### Как видно, даже без подбора гиперпараметров, наша модель дала небольшие значения метрик MSE и MAE"
   ]
  },
  {
   "cell_type": "markdown",
   "metadata": {},
   "source": [
    "#### Давайте также посмотрим на коэффициенты, которые модель присвоила имеющимся признакам"
   ]
  },
  {
   "cell_type": "code",
   "execution_count": 12,
   "metadata": {
    "colab": {
     "base_uri": "https://localhost:8080/"
    },
    "id": "GD7wUywBuMQq",
    "outputId": "62058cd7-0cae-4373-fc40-119e72bc28dd"
   },
   "outputs": [
    {
     "data": {
      "text/plain": [
       "array([ 1.43681698, -0.01339989,  0.14146283, -2.18107901, -0.27467269,\n",
       "       -1.98867265,  4.59585018,  3.52699952, -2.41477117,  0.20036953])"
      ]
     },
     "execution_count": 12,
     "metadata": {},
     "output_type": "execute_result"
    }
   ],
   "source": [
    "model.coef_"
   ]
  },
  {
   "cell_type": "markdown",
   "metadata": {
    "id": "U-SGoSPev961"
   },
   "source": [
    "Самый большой коэффициен у признака Protests, можно сказать, что он вносит наибольший вклад в обучение нашей модели, что согласуется с нашим предположением о большем развитии стран, где превалируют ненасильственные формы конфликтов"
   ]
  },
  {
   "cell_type": "markdown",
   "metadata": {
    "id": "kUU-9FWMwDnR"
   },
   "source": [
    "**Теперь попробуем обучить линейную модель с регуляризацией, но уже отнормировав признаки**"
   ]
  },
  {
   "cell_type": "code",
   "execution_count": 13,
   "metadata": {
    "colab": {
     "base_uri": "https://localhost:8080/",
     "height": 112
    },
    "id": "I5e-A53kw3qa",
    "outputId": "7e6a70f9-8135-4dbb-9fc3-b5adcd3d36ca"
   },
   "outputs": [
    {
     "data": {
      "text/html": [
       "<div>\n",
       "<style scoped>\n",
       "    .dataframe tbody tr th:only-of-type {\n",
       "        vertical-align: middle;\n",
       "    }\n",
       "\n",
       "    .dataframe tbody tr th {\n",
       "        vertical-align: top;\n",
       "    }\n",
       "\n",
       "    .dataframe thead th {\n",
       "        text-align: right;\n",
       "    }\n",
       "</style>\n",
       "<table border=\"1\" class=\"dataframe\">\n",
       "  <thead>\n",
       "    <tr style=\"text-align: right;\">\n",
       "      <th></th>\n",
       "      <th>YEAR</th>\n",
       "      <th>INTERACTION</th>\n",
       "      <th>FATALITIES</th>\n",
       "      <th>bool</th>\n",
       "      <th>violence_ind</th>\n",
       "      <th>Protests</th>\n",
       "      <th>Strategic developments</th>\n",
       "      <th>Battles</th>\n",
       "      <th>Riots</th>\n",
       "      <th>Violence against civilians</th>\n",
       "    </tr>\n",
       "  </thead>\n",
       "  <tbody>\n",
       "    <tr>\n",
       "      <th>9471</th>\n",
       "      <td>2009</td>\n",
       "      <td>37</td>\n",
       "      <td>1</td>\n",
       "      <td>1</td>\n",
       "      <td>21.1</td>\n",
       "      <td>0.0</td>\n",
       "      <td>0.0</td>\n",
       "      <td>0.0</td>\n",
       "      <td>0.0</td>\n",
       "      <td>1.0</td>\n",
       "    </tr>\n",
       "    <tr>\n",
       "      <th>791</th>\n",
       "      <td>2017</td>\n",
       "      <td>60</td>\n",
       "      <td>0</td>\n",
       "      <td>0</td>\n",
       "      <td>1.0</td>\n",
       "      <td>0.0</td>\n",
       "      <td>1.0</td>\n",
       "      <td>0.0</td>\n",
       "      <td>0.0</td>\n",
       "      <td>0.0</td>\n",
       "    </tr>\n",
       "  </tbody>\n",
       "</table>\n",
       "</div>"
      ],
      "text/plain": [
       "      YEAR  INTERACTION  FATALITIES  bool  violence_ind  Protests  \\\n",
       "9471  2009           37           1     1          21.1       0.0   \n",
       "791   2017           60           0     0           1.0       0.0   \n",
       "\n",
       "      Strategic developments  Battles  Riots  Violence against civilians  \n",
       "9471                     0.0      0.0    0.0                         1.0  \n",
       "791                      1.0      0.0    0.0                         0.0  "
      ]
     },
     "execution_count": 13,
     "metadata": {},
     "output_type": "execute_result"
    }
   ],
   "source": [
    "np.random.seed(321)\n",
    "x_train, x_test = train_test_split(df_linear_model, test_size = 0.2)\n",
    "y_train, y_test = x_train['index'], x_test['index']\n",
    "x_train, x_test= x_train.drop('index', axis=1), x_test.drop('index', axis=1)\n",
    "x_train.head(2)"
   ]
  },
  {
   "cell_type": "markdown",
   "metadata": {},
   "source": [
    "#### Отмасштабируем признаки"
   ]
  },
  {
   "cell_type": "code",
   "execution_count": 14,
   "metadata": {
    "id": "_qfE3JUAv8LZ"
   },
   "outputs": [],
   "source": [
    "from sklearn.preprocessing import StandardScaler\n",
    "scaler = StandardScaler()\n",
    "x_train = np.hstack((x_train.drop(['YEAR',\t'INTERACTION',\t'FATALITIES',\t'bool',\t'violence_ind'],axis = 1), scaler.fit_transform(x_train[['YEAR',\t'INTERACTION',\t'FATALITIES',\t'bool',\t'violence_ind']])))\n",
    "x_test = np.hstack((x_test.drop(['YEAR',\t'INTERACTION',\t'FATALITIES',\t'bool',\t'violence_ind'],axis = 1), scaler.fit_transform(x_test[['YEAR',\t'INTERACTION',\t'FATALITIES',\t'bool',\t'violence_ind']])))"
   ]
  },
  {
   "cell_type": "markdown",
   "metadata": {},
   "source": [
    "#### Попробуем минимизировать MAE"
   ]
  },
  {
   "cell_type": "code",
   "execution_count": 19,
   "metadata": {
    "colab": {
     "base_uri": "https://localhost:8080/",
     "height": 75
    },
    "id": "D9Njg7QL2_9K",
    "outputId": "ab031cd7-e674-4bfc-db28-6a47cc06e45c"
   },
   "outputs": [
    {
     "data": {
      "text/html": [
       "<style>#sk-container-id-2 {color: black;background-color: white;}#sk-container-id-2 pre{padding: 0;}#sk-container-id-2 div.sk-toggleable {background-color: white;}#sk-container-id-2 label.sk-toggleable__label {cursor: pointer;display: block;width: 100%;margin-bottom: 0;padding: 0.3em;box-sizing: border-box;text-align: center;}#sk-container-id-2 label.sk-toggleable__label-arrow:before {content: \"▸\";float: left;margin-right: 0.25em;color: #696969;}#sk-container-id-2 label.sk-toggleable__label-arrow:hover:before {color: black;}#sk-container-id-2 div.sk-estimator:hover label.sk-toggleable__label-arrow:before {color: black;}#sk-container-id-2 div.sk-toggleable__content {max-height: 0;max-width: 0;overflow: hidden;text-align: left;background-color: #f0f8ff;}#sk-container-id-2 div.sk-toggleable__content pre {margin: 0.2em;color: black;border-radius: 0.25em;background-color: #f0f8ff;}#sk-container-id-2 input.sk-toggleable__control:checked~div.sk-toggleable__content {max-height: 200px;max-width: 100%;overflow: auto;}#sk-container-id-2 input.sk-toggleable__control:checked~label.sk-toggleable__label-arrow:before {content: \"▾\";}#sk-container-id-2 div.sk-estimator input.sk-toggleable__control:checked~label.sk-toggleable__label {background-color: #d4ebff;}#sk-container-id-2 div.sk-label input.sk-toggleable__control:checked~label.sk-toggleable__label {background-color: #d4ebff;}#sk-container-id-2 input.sk-hidden--visually {border: 0;clip: rect(1px 1px 1px 1px);clip: rect(1px, 1px, 1px, 1px);height: 1px;margin: -1px;overflow: hidden;padding: 0;position: absolute;width: 1px;}#sk-container-id-2 div.sk-estimator {font-family: monospace;background-color: #f0f8ff;border: 1px dotted black;border-radius: 0.25em;box-sizing: border-box;margin-bottom: 0.5em;}#sk-container-id-2 div.sk-estimator:hover {background-color: #d4ebff;}#sk-container-id-2 div.sk-parallel-item::after {content: \"\";width: 100%;border-bottom: 1px solid gray;flex-grow: 1;}#sk-container-id-2 div.sk-label:hover label.sk-toggleable__label {background-color: #d4ebff;}#sk-container-id-2 div.sk-serial::before {content: \"\";position: absolute;border-left: 1px solid gray;box-sizing: border-box;top: 0;bottom: 0;left: 50%;z-index: 0;}#sk-container-id-2 div.sk-serial {display: flex;flex-direction: column;align-items: center;background-color: white;padding-right: 0.2em;padding-left: 0.2em;position: relative;}#sk-container-id-2 div.sk-item {position: relative;z-index: 1;}#sk-container-id-2 div.sk-parallel {display: flex;align-items: stretch;justify-content: center;background-color: white;position: relative;}#sk-container-id-2 div.sk-item::before, #sk-container-id-2 div.sk-parallel-item::before {content: \"\";position: absolute;border-left: 1px solid gray;box-sizing: border-box;top: 0;bottom: 0;left: 50%;z-index: -1;}#sk-container-id-2 div.sk-parallel-item {display: flex;flex-direction: column;z-index: 1;position: relative;background-color: white;}#sk-container-id-2 div.sk-parallel-item:first-child::after {align-self: flex-end;width: 50%;}#sk-container-id-2 div.sk-parallel-item:last-child::after {align-self: flex-start;width: 50%;}#sk-container-id-2 div.sk-parallel-item:only-child::after {width: 0;}#sk-container-id-2 div.sk-dashed-wrapped {border: 1px dashed gray;margin: 0 0.4em 0.5em 0.4em;box-sizing: border-box;padding-bottom: 0.4em;background-color: white;}#sk-container-id-2 div.sk-label label {font-family: monospace;font-weight: bold;display: inline-block;line-height: 1.2em;}#sk-container-id-2 div.sk-label-container {text-align: center;}#sk-container-id-2 div.sk-container {/* jupyter's `normalize.less` sets `[hidden] { display: none; }` but bootstrap.min.css set `[hidden] { display: none !important; }` so we also need the `!important` here to be able to override the default hidden behavior on the sphinx rendered scikit-learn.org. See: https://github.com/scikit-learn/scikit-learn/issues/21755 */display: inline-block !important;position: relative;}#sk-container-id-2 div.sk-text-repr-fallback {display: none;}</style><div id=\"sk-container-id-2\" class=\"sk-top-container\"><div class=\"sk-text-repr-fallback\"><pre>Ridge(alpha=9)</pre><b>In a Jupyter environment, please rerun this cell to show the HTML representation or trust the notebook. <br />On GitHub, the HTML representation is unable to render, please try loading this page with nbviewer.org.</b></div><div class=\"sk-container\" hidden><div class=\"sk-item\"><div class=\"sk-estimator sk-toggleable\"><input class=\"sk-toggleable__control sk-hidden--visually\" id=\"sk-estimator-id-2\" type=\"checkbox\" checked><label for=\"sk-estimator-id-2\" class=\"sk-toggleable__label sk-toggleable__label-arrow\">Ridge</label><div class=\"sk-toggleable__content\"><pre>Ridge(alpha=9)</pre></div></div></div></div></div>"
      ],
      "text/plain": [
       "Ridge(alpha=9)"
      ]
     },
     "execution_count": 19,
     "metadata": {},
     "output_type": "execute_result"
    }
   ],
   "source": [
    "from sklearn.model_selection import GridSearchCV\n",
    "from sklearn.linear_model import Ridge\n",
    "model = Ridge(alpha=1)\n",
    "param_grid = {\n",
    "    'alpha': np.arange(1, 1000)\n",
    "\n",
    "}\n",
    "grid_search = GridSearchCV(model, param_grid, cv=4, scoring = 'neg_mean_absolute_error')\n",
    "\n",
    "grid_search.fit(x_train, y_train)\n",
    "\n",
    "grid_search.best_estimator_"
   ]
  },
  {
   "cell_type": "code",
   "execution_count": 20,
   "metadata": {
    "colab": {
     "base_uri": "https://localhost:8080/"
    },
    "id": "l6DGCXuaeVwp",
    "outputId": "acff2410-7cfe-4f68-c886-c1ef3bea8ef6"
   },
   "outputs": [
    {
     "name": "stdout",
     "output_type": "stream",
     "text": [
      "MSE: 163.71421555797383\n",
      "MAE: 10.9881727809614\n"
     ]
    }
   ],
   "source": [
    "\n",
    "model = Ridge(alpha=9, solver='auto')\n",
    "model.fit(x_train, y_train)\n",
    "y_pred = model.predict(x_test)\n",
    "\n",
    "print(f'MSE: {mse(y_test, y_pred)}')\n",
    "print(f'MAE: {mae(y_test, y_pred)}')"
   ]
  },
  {
   "cell_type": "markdown",
   "metadata": {
    "id": "11E5RyEP75iP"
   },
   "source": [
    "Как видно, нам не удалось добиться  снижения mae, ведь наша первая модель уже выдала хороший результат"
   ]
  },
  {
   "cell_type": "markdown",
   "metadata": {
    "id": "BkkUlC568ZZp"
   },
   "source": [
    "**Теперь попробуем использовать случайный лес**"
   ]
  },
  {
   "cell_type": "code",
   "execution_count": 21,
   "metadata": {
    "id": "0azKLXno73tB"
   },
   "outputs": [],
   "source": [
    "np.random.seed(321)\n",
    "x_train, x_test = train_test_split(df_linear_model, test_size = 0.2)\n",
    "y_train, y_test = x_train['index'], x_test['index']\n",
    "x_train, x_test= x_train.drop('index', axis=1), x_test.drop('index', axis=1)\n",
    "scaler = StandardScaler()\n",
    "x_train = np.hstack((x_train.drop(['YEAR',\t'INTERACTION',\t'FATALITIES',\t'bool',\t'violence_ind'],axis = 1), scaler.fit_transform(x_train[['YEAR',\t'INTERACTION',\t'FATALITIES',\t'bool',\t'violence_ind']])))\n",
    "x_test = np.hstack((x_test.drop(['YEAR',\t'INTERACTION',\t'FATALITIES',\t'bool',\t'violence_ind'],axis = 1), scaler.fit_transform(x_test[['YEAR',\t'INTERACTION',\t'FATALITIES',\t'bool',\t'violence_ind']])))"
   ]
  },
  {
   "cell_type": "code",
   "execution_count": 26,
   "metadata": {
    "colab": {
     "base_uri": "https://localhost:8080/",
     "height": 523
    },
    "id": "V8cTdtsh9tVy",
    "outputId": "447eb2f6-8679-45e6-f74c-3848154ac966"
   },
   "outputs": [
    {
     "data": {
      "text/html": [
       "<style>#sk-container-id-4 {color: black;background-color: white;}#sk-container-id-4 pre{padding: 0;}#sk-container-id-4 div.sk-toggleable {background-color: white;}#sk-container-id-4 label.sk-toggleable__label {cursor: pointer;display: block;width: 100%;margin-bottom: 0;padding: 0.3em;box-sizing: border-box;text-align: center;}#sk-container-id-4 label.sk-toggleable__label-arrow:before {content: \"▸\";float: left;margin-right: 0.25em;color: #696969;}#sk-container-id-4 label.sk-toggleable__label-arrow:hover:before {color: black;}#sk-container-id-4 div.sk-estimator:hover label.sk-toggleable__label-arrow:before {color: black;}#sk-container-id-4 div.sk-toggleable__content {max-height: 0;max-width: 0;overflow: hidden;text-align: left;background-color: #f0f8ff;}#sk-container-id-4 div.sk-toggleable__content pre {margin: 0.2em;color: black;border-radius: 0.25em;background-color: #f0f8ff;}#sk-container-id-4 input.sk-toggleable__control:checked~div.sk-toggleable__content {max-height: 200px;max-width: 100%;overflow: auto;}#sk-container-id-4 input.sk-toggleable__control:checked~label.sk-toggleable__label-arrow:before {content: \"▾\";}#sk-container-id-4 div.sk-estimator input.sk-toggleable__control:checked~label.sk-toggleable__label {background-color: #d4ebff;}#sk-container-id-4 div.sk-label input.sk-toggleable__control:checked~label.sk-toggleable__label {background-color: #d4ebff;}#sk-container-id-4 input.sk-hidden--visually {border: 0;clip: rect(1px 1px 1px 1px);clip: rect(1px, 1px, 1px, 1px);height: 1px;margin: -1px;overflow: hidden;padding: 0;position: absolute;width: 1px;}#sk-container-id-4 div.sk-estimator {font-family: monospace;background-color: #f0f8ff;border: 1px dotted black;border-radius: 0.25em;box-sizing: border-box;margin-bottom: 0.5em;}#sk-container-id-4 div.sk-estimator:hover {background-color: #d4ebff;}#sk-container-id-4 div.sk-parallel-item::after {content: \"\";width: 100%;border-bottom: 1px solid gray;flex-grow: 1;}#sk-container-id-4 div.sk-label:hover label.sk-toggleable__label {background-color: #d4ebff;}#sk-container-id-4 div.sk-serial::before {content: \"\";position: absolute;border-left: 1px solid gray;box-sizing: border-box;top: 0;bottom: 0;left: 50%;z-index: 0;}#sk-container-id-4 div.sk-serial {display: flex;flex-direction: column;align-items: center;background-color: white;padding-right: 0.2em;padding-left: 0.2em;position: relative;}#sk-container-id-4 div.sk-item {position: relative;z-index: 1;}#sk-container-id-4 div.sk-parallel {display: flex;align-items: stretch;justify-content: center;background-color: white;position: relative;}#sk-container-id-4 div.sk-item::before, #sk-container-id-4 div.sk-parallel-item::before {content: \"\";position: absolute;border-left: 1px solid gray;box-sizing: border-box;top: 0;bottom: 0;left: 50%;z-index: -1;}#sk-container-id-4 div.sk-parallel-item {display: flex;flex-direction: column;z-index: 1;position: relative;background-color: white;}#sk-container-id-4 div.sk-parallel-item:first-child::after {align-self: flex-end;width: 50%;}#sk-container-id-4 div.sk-parallel-item:last-child::after {align-self: flex-start;width: 50%;}#sk-container-id-4 div.sk-parallel-item:only-child::after {width: 0;}#sk-container-id-4 div.sk-dashed-wrapped {border: 1px dashed gray;margin: 0 0.4em 0.5em 0.4em;box-sizing: border-box;padding-bottom: 0.4em;background-color: white;}#sk-container-id-4 div.sk-label label {font-family: monospace;font-weight: bold;display: inline-block;line-height: 1.2em;}#sk-container-id-4 div.sk-label-container {text-align: center;}#sk-container-id-4 div.sk-container {/* jupyter's `normalize.less` sets `[hidden] { display: none; }` but bootstrap.min.css set `[hidden] { display: none !important; }` so we also need the `!important` here to be able to override the default hidden behavior on the sphinx rendered scikit-learn.org. See: https://github.com/scikit-learn/scikit-learn/issues/21755 */display: inline-block !important;position: relative;}#sk-container-id-4 div.sk-text-repr-fallback {display: none;}</style><div id=\"sk-container-id-4\" class=\"sk-top-container\"><div class=\"sk-text-repr-fallback\"><pre>RandomForestRegressor(max_depth=25, max_features=10, min_samples_leaf=10,\n",
       "                      n_estimators=60, random_state=321)</pre><b>In a Jupyter environment, please rerun this cell to show the HTML representation or trust the notebook. <br />On GitHub, the HTML representation is unable to render, please try loading this page with nbviewer.org.</b></div><div class=\"sk-container\" hidden><div class=\"sk-item\"><div class=\"sk-estimator sk-toggleable\"><input class=\"sk-toggleable__control sk-hidden--visually\" id=\"sk-estimator-id-4\" type=\"checkbox\" checked><label for=\"sk-estimator-id-4\" class=\"sk-toggleable__label sk-toggleable__label-arrow\">RandomForestRegressor</label><div class=\"sk-toggleable__content\"><pre>RandomForestRegressor(max_depth=25, max_features=10, min_samples_leaf=10,\n",
       "                      n_estimators=60, random_state=321)</pre></div></div></div></div></div>"
      ],
      "text/plain": [
       "RandomForestRegressor(max_depth=25, max_features=10, min_samples_leaf=10,\n",
       "                      n_estimators=60, random_state=321)"
      ]
     },
     "execution_count": 26,
     "metadata": {},
     "output_type": "execute_result"
    }
   ],
   "source": [
    "from sklearn.ensemble import RandomForestRegressor\n",
    "model = RandomForestRegressor(n_estimators=1, max_depth=1, min_samples_split=1, min_samples_leaf=1, max_features=1, random_state=321)\n",
    "param_grid = {\n",
    "    'n_estimators': [55, 60, 70, 80, 90],\n",
    "    'max_depth' : [10 , 25, 30, 35],\n",
    "    'min_samples_split': [1 , 2 , 10 , 20],\n",
    "    'min_samples_leaf': [10, 15, 20],\n",
    "    'max_features': [6,8, 10]\n",
    "}\n",
    "grid_search = GridSearchCV(model, param_grid, cv=2, scoring = 'neg_mean_absolute_error')\n",
    "\n",
    "grid_search.fit(x_train, y_train)\n",
    "\n",
    "grid_search.best_estimator_"
   ]
  },
  {
   "cell_type": "code",
   "execution_count": 35,
   "metadata": {
    "colab": {
     "base_uri": "https://localhost:8080/"
    },
    "id": "CFfxHbpV34bQ",
    "outputId": "67f2ec9d-aa62-4f9e-d49c-dc7b192e330e"
   },
   "outputs": [
    {
     "name": "stdout",
     "output_type": "stream",
     "text": [
      "MSE: 148.80802917368203\n",
      "MAE: 10.110323390242854\n"
     ]
    }
   ],
   "source": [
    "from sklearn.ensemble import RandomForestRegressor\n",
    "model = RandomForestRegressor(max_depth=25, max_features=2, min_samples_leaf=5,n_estimators=150, random_state=321)\n",
    "model.fit(x_train, y_train)\n",
    "y_pred = model.predict(x_test)\n",
    "print(f'MSE: {mse(y_test, y_pred)}')\n",
    "print(f'MAE: {mae(y_test, y_pred)}')"
   ]
  },
  {
   "cell_type": "markdown",
   "metadata": {
    "id": "FjOAqxJFITn5"
   },
   "source": [
    "Случайный лес показал себя куда лучше, MSE упал почти на 20%"
   ]
  },
  {
   "cell_type": "markdown",
   "metadata": {
    "id": "UpvOBTXiC61z"
   },
   "source": [
    "**Как видно, мы получили сравнительно хорошие значения для наших функций потерь, а важноссть признаков согласуется с нашей основным предположением**"
   ]
  }
 ],
 "metadata": {
  "colab": {
   "provenance": []
  },
  "kernelspec": {
   "display_name": "Python 3 (ipykernel)",
   "language": "python",
   "name": "python3"
  },
  "language_info": {
   "codemirror_mode": {
    "name": "ipython",
    "version": 3
   },
   "file_extension": ".py",
   "mimetype": "text/x-python",
   "name": "python",
   "nbconvert_exporter": "python",
   "pygments_lexer": "ipython3",
   "version": "3.9.7"
  }
 },
 "nbformat": 4,
 "nbformat_minor": 1
}
