{
  "nbformat": 4,
  "nbformat_minor": 0,
  "metadata": {
    "colab": {
      "provenance": []
    },
    "kernelspec": {
      "name": "python3",
      "display_name": "Python 3"
    },
    "language_info": {
      "name": "python"
    }
  },
  "cells": [
    {
      "cell_type": "markdown",
      "source": [
        "# Работа с текстом и бустинг"
      ],
      "metadata": {
        "id": "5lqRMXBg040k"
      }
    },
    {
      "cell_type": "markdown",
      "source": [
        "В этом блоке мы попробуем поработать с текстовым признаком notes, который содержит сводки новостей о событиях. Для его обработки мы будем использовать tensorflow, и обучать кэтбуст"
      ],
      "metadata": {
        "id": "XQcWXE8s3vyr"
      }
    },
    {
      "cell_type": "code",
      "source": [
        "import pandas as pd\n",
        "import numpy as np\n",
        "import warnings\n",
        "warnings.filterwarnings('ignore')"
      ],
      "metadata": {
        "id": "UmM2x2_74aGu"
      },
      "execution_count": 5,
      "outputs": []
    },
    {
      "cell_type": "code",
      "source": [
        "df = pd.read_csv('df_vib.csv')"
      ],
      "metadata": {
        "id": "BPZsqSWgndJT"
      },
      "execution_count": 34,
      "outputs": []
    },
    {
      "cell_type": "code",
      "source": [
        "df_boosting = df[['NOTES','index', 'classification']]"
      ],
      "metadata": {
        "id": "FFQfdZAi4Hb2"
      },
      "execution_count": 36,
      "outputs": []
    },
    {
      "cell_type": "code",
      "source": [
        "!pip install -U tensorflow\n",
        "!pip install -U tensorflow-text\n",
        "import tensorflow as tf\n",
        "import tensorflow_text as text\n",
        "\n"
      ],
      "metadata": {
        "id": "7vHlefhOoOBi"
      },
      "execution_count": null,
      "outputs": []
    },
    {
      "cell_type": "markdown",
      "source": [
        "Вот наша функция для векторизации текстовыз данных"
      ],
      "metadata": {
        "id": "bHvk0O3a-Zcg"
      }
    },
    {
      "cell_type": "code",
      "execution_count": 37,
      "metadata": {
        "id": "McyqeNsBcD07"
      },
      "outputs": [],
      "source": [
        "import tensorflow_hub as hub\n",
        "import numpy as np\n",
        "\n",
        "encoder = hub.load('https://tfhub.dev/google/universal-sentence-encoder-multilingual/3')\n",
        "\n",
        "def vectorize_sentence(sentence):\n",
        "    embeddings = encoder([sentence])\n",
        "    return embeddings.numpy()\n",
        "\n",
        "sentence_vectors = []\n",
        "\n",
        "for sentence in df_boosting['NOTES']:\n",
        "    vector = vectorize_sentence(sentence)\n",
        "    sentence_vectors.append(vector)\n",
        "\n",
        "sentence_vectors = np.vstack(sentence_vectors)"
      ]
    },
    {
      "cell_type": "code",
      "source": [
        "sentence_vectors.shape"
      ],
      "metadata": {
        "colab": {
          "base_uri": "https://localhost:8080/"
        },
        "id": "D-pyDxKzolMb",
        "outputId": "29de4bc0-99bb-4a8c-84cd-3ca1133dbeae"
      },
      "execution_count": 8,
      "outputs": [
        {
          "output_type": "execute_result",
          "data": {
            "text/plain": [
              "(10000, 512)"
            ]
          },
          "metadata": {},
          "execution_count": 8
        }
      ]
    },
    {
      "cell_type": "markdown",
      "source": [
        "Вот мы и получили из наших заметок целых 512 новых признаков"
      ],
      "metadata": {
        "id": "So6F-5Id57cS"
      }
    },
    {
      "cell_type": "code",
      "source": [
        "# закодируем наш таргет\n",
        "tf = {\"High income\": 4, \"Upper middle income\": 3, 'Lower middle income':2, 'Low income':1}\n",
        "df[\"classification\"] = df[\"classification\"].replace(tf)\n",
        "target = df[\"classification\"]"
      ],
      "metadata": {
        "id": "Sj61smFfyaFD"
      },
      "execution_count": 10,
      "outputs": []
    },
    {
      "cell_type": "markdown",
      "source": [
        "**Классификация по тексту**"
      ],
      "metadata": {
        "id": "aZa4stMa6LqI"
      }
    },
    {
      "cell_type": "code",
      "source": [
        "!pip install catboost"
      ],
      "metadata": {
        "id": "-Zs5O_uyfIl2"
      },
      "execution_count": null,
      "outputs": []
    },
    {
      "cell_type": "code",
      "source": [
        "#делаем сплит\n",
        "from sklearn.model_selection import train_test_split\n",
        "x_train, x_test, y_train, y_test= train_test_split(sentence_vectors, target,  test_size = 0.2, random_state = 322)"
      ],
      "metadata": {
        "id": "TEJwafbFafuI"
      },
      "execution_count": 12,
      "outputs": []
    },
    {
      "cell_type": "code",
      "source": [
        "from catboost import CatBoostClassifier\n",
        "from sklearn.metrics import roc_auc_score\n",
        "\n",
        "model = CatBoostClassifier(\n",
        "    iterations=100,\n",
        "    random_seed=322)\n",
        "\n",
        "model.fit(x_train, y_train)\n",
        "\n"
      ],
      "metadata": {
        "id": "DWieb791aUwq"
      },
      "execution_count": null,
      "outputs": []
    },
    {
      "cell_type": "code",
      "source": [
        "from sklearn.metrics import roc_auc_score\n",
        "from sklearn.metrics import f1_score\n",
        "y_pred = model.predict(x_test)\n",
        "y_pred_proba = model.predict_proba(x_test)\n",
        "print(f'f1: {f1_score(y_test, y_pred, average = \"macro\")} ' )\n",
        "print(f'roc_auc: {roc_auc_score(y_test, y_pred_proba, multi_class= \"ovo\")}')\n"
      ],
      "metadata": {
        "colab": {
          "base_uri": "https://localhost:8080/"
        },
        "id": "wgSxqtCngPgl",
        "outputId": "9fd62106-4aed-443d-bf76-2a34128ef998"
      },
      "execution_count": 15,
      "outputs": [
        {
          "output_type": "stream",
          "name": "stdout",
          "text": [
            "f1: 0.7194434061186197 \n",
            "roc_auc: 0.9142858048061768\n"
          ]
        }
      ]
    },
    {
      "cell_type": "markdown",
      "source": [
        "Удивительно, но нам удалось побить все метрики классификации, которые мы получили по остальным признакам, одним только текстом и бустингом, roc_auc достиг целых 0.91"
      ],
      "metadata": {
        "id": "gst1oNBU7zIV"
      }
    },
    {
      "cell_type": "markdown",
      "source": [
        "**Регрессия по тексту**"
      ],
      "metadata": {
        "id": "Tn9Rls2b8QY_"
      }
    },
    {
      "cell_type": "code",
      "source": [
        "from catboost import CatBoostRegressor"
      ],
      "metadata": {
        "id": "jlxntF7riLYj"
      },
      "execution_count": 16,
      "outputs": []
    },
    {
      "cell_type": "code",
      "source": [
        "# Так же делаем целевой индекс человеческого развития от 0 до 100, чтоб mse было адекватным\n",
        "target1 = df_boosting['index']*100"
      ],
      "metadata": {
        "id": "f0V3xdikhpFU"
      },
      "execution_count": 38,
      "outputs": []
    },
    {
      "cell_type": "code",
      "source": [
        "# делаем сплит\n",
        "x_train1, x_test1, y_train1, y_test1 = train_test_split(sentence_vectors, target1,  test_size = 0.2, random_state = 42)"
      ],
      "metadata": {
        "id": "vDERnCGshj1V"
      },
      "execution_count": 39,
      "outputs": []
    },
    {
      "cell_type": "code",
      "source": [
        "model1 = CatBoostRegressor(\n",
        "    iterations=100,\n",
        "    random_seed=42)\n",
        "model1.fit(x_train1, y_train1)"
      ],
      "metadata": {
        "id": "evaQzO5SiRbX"
      },
      "execution_count": null,
      "outputs": []
    },
    {
      "cell_type": "code",
      "source": [
        "from sklearn.metrics import mean_squared_error as mse\n",
        "from sklearn.metrics import mean_absolute_error as mae\n",
        "y_pred = model1.predict(x_test1)\n",
        "print(f'MSE: {mse(y_test1, y_pred)}')\n",
        "print(f'MAE: {mae(y_test1, y_pred)}')"
      ],
      "metadata": {
        "colab": {
          "base_uri": "https://localhost:8080/"
        },
        "id": "hMxP5PgpillE",
        "outputId": "b2d0487f-b9f0-44e4-db39-f18333f19b1f"
      },
      "execution_count": 42,
      "outputs": [
        {
          "output_type": "stream",
          "name": "stdout",
          "text": [
            "MSE: 93.40674245187489\n",
            "MAE: 7.409860725892147\n"
          ]
        }
      ]
    },
    {
      "cell_type": "markdown",
      "source": [
        "Как ни странно, обучение на текстовом признаке показало лучшие метрики и для задачи регрессии"
      ],
      "metadata": {
        "id": "zk3JVVd5_Jkr"
      }
    },
    {
      "cell_type": "markdown",
      "source": [
        "**Теперь уже точно можно сказать, что зависимость между уровнем насилия и развитием страны есть, ведь и для задачи классификации, и для задачи регрессии мы получили хорошие метрики, более того, именно текстовый анализ показал лучший результат. Это, в свою очередь, значит, что построенные нами модели обладают хорошей предсказательной силой для прогнозирования индекса развития и класса страны на основе уровня насилия.**"
      ],
      "metadata": {
        "id": "qTdA52y0_UHP"
      }
    }
  ]
}