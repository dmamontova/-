{
 "cells": [
  {
   "cell_type": "markdown",
   "metadata": {
    "colab": {
     "base_uri": "https://localhost:8080/"
    },
    "id": "8YnYmaObywys",
    "outputId": "3078650c-abf7-4f27-ad1b-e2f902ffd19f"
   },
   "source": [
    "# Парсинг индекса человеческого развития"
   ]
  },
  {
   "cell_type": "markdown",
   "metadata": {},
   "source": [
    "С помощью библиотеки __urlopen__ мы запарсили индекс человеческого развития, который в последующем будет выступать целевой переменной(на этапе машинного обучения). Фактически, мы запарсили 25 сайтов."
   ]
  },
  {
   "cell_type": "markdown",
   "metadata": {},
   "source": [
    "Далее идёт чисто техническая работа с кодом, поэтому мы не будем вдаваться в подробности. Также определённые ячейки и строки в финальном файле(тот, который вы видите сейчас) намеренно сделаны без запуска, чтобы избежать пелены с кучей знаков."
   ]
  },
  {
   "cell_type": "code",
   "execution_count": 1,
   "metadata": {},
   "outputs": [],
   "source": [
    "from urllib.request import urlopen\n",
    "url = \"https://countryeconomy.com/hdi?year=1997\"\n",
    "page = urlopen(url)"
   ]
  },
  {
   "cell_type": "code",
   "execution_count": 2,
   "metadata": {
    "id": "Lloc3l4S0d0B"
   },
   "outputs": [],
   "source": [
    "html_bytes = page.read()\n",
    "html = html_bytes.decode(\"utf-8\")"
   ]
  },
  {
   "cell_type": "code",
   "execution_count": 8,
   "metadata": {
    "id": "25oRI9P60osM"
   },
   "outputs": [],
   "source": [
    "#html"
   ]
  },
  {
   "cell_type": "code",
   "execution_count": 9,
   "metadata": {
    "id": "Xp0MFGjH-yUq"
   },
   "outputs": [],
   "source": [
    "#!pip install requests_html"
   ]
  },
  {
   "cell_type": "code",
   "execution_count": 11,
   "metadata": {
    "id": "eLmiftRn1Gt0"
   },
   "outputs": [],
   "source": [
    "from requests_html import HTMLSession\n",
    "s = HTMLSession()\n",
    "r = s.get(url)\n",
    "table = r.html.find('table')\n",
    "#print(table[0].html)"
   ]
  },
  {
   "cell_type": "code",
   "execution_count": 12,
   "metadata": {
    "id": "KrTdYjscDbgQ"
   },
   "outputs": [],
   "source": [
    "tabledata =[[c.text for c in row.find('td')] for row in table[0].find('tr')]"
   ]
  },
  {
   "cell_type": "code",
   "execution_count": 13,
   "metadata": {
    "id": "w7Jzk5oiT42K"
   },
   "outputs": [],
   "source": [
    "import pandas as pd\n",
    "df = pd.DataFrame(tabledata)"
   ]
  },
  {
   "cell_type": "code",
   "execution_count": 14,
   "metadata": {
    "colab": {
     "base_uri": "https://localhost:8080/",
     "height": 423
    },
    "id": "eqzKYdkyUQ8b",
    "outputId": "8c0679ef-1d05-4bb0-b815-4f6372618456"
   },
   "outputs": [
    {
     "data": {
      "text/html": [
       "<div>\n",
       "<style scoped>\n",
       "    .dataframe tbody tr th:only-of-type {\n",
       "        vertical-align: middle;\n",
       "    }\n",
       "\n",
       "    .dataframe tbody tr th {\n",
       "        vertical-align: top;\n",
       "    }\n",
       "\n",
       "    .dataframe thead th {\n",
       "        text-align: right;\n",
       "    }\n",
       "</style>\n",
       "<table border=\"1\" class=\"dataframe\">\n",
       "  <thead>\n",
       "    <tr style=\"text-align: right;\">\n",
       "      <th></th>\n",
       "      <th>0</th>\n",
       "      <th>1</th>\n",
       "      <th>2</th>\n",
       "      <th>3</th>\n",
       "      <th>4</th>\n",
       "    </tr>\n",
       "  </thead>\n",
       "  <tbody>\n",
       "    <tr>\n",
       "      <th>0</th>\n",
       "      <td>None</td>\n",
       "      <td>None</td>\n",
       "      <td>None</td>\n",
       "      <td>None</td>\n",
       "      <td>None</td>\n",
       "    </tr>\n",
       "    <tr>\n",
       "      <th>1</th>\n",
       "      <td>United States [+]</td>\n",
       "      <td>0.890</td>\n",
       "      <td>1º</td>\n",
       "      <td></td>\n",
       "      <td>0</td>\n",
       "    </tr>\n",
       "    <tr>\n",
       "      <th>2</th>\n",
       "      <td>United Kingdom [+]</td>\n",
       "      <td>0.842</td>\n",
       "      <td>16º</td>\n",
       "      <td></td>\n",
       "      <td>0</td>\n",
       "    </tr>\n",
       "    <tr>\n",
       "      <th>3</th>\n",
       "      <td>Germany [+]</td>\n",
       "      <td>0.874</td>\n",
       "      <td>9º</td>\n",
       "      <td></td>\n",
       "      <td>1</td>\n",
       "    </tr>\n",
       "    <tr>\n",
       "      <th>4</th>\n",
       "      <td>France [+]</td>\n",
       "      <td>0.838</td>\n",
       "      <td>18º</td>\n",
       "      <td></td>\n",
       "      <td>1</td>\n",
       "    </tr>\n",
       "    <tr>\n",
       "      <th>...</th>\n",
       "      <td>...</td>\n",
       "      <td>...</td>\n",
       "      <td>...</td>\n",
       "      <td>...</td>\n",
       "      <td>...</td>\n",
       "    </tr>\n",
       "    <tr>\n",
       "      <th>148</th>\n",
       "      <td>Samoa [+]</td>\n",
       "      <td>0.670</td>\n",
       "      <td>68º</td>\n",
       "      <td></td>\n",
       "      <td>-2</td>\n",
       "    </tr>\n",
       "    <tr>\n",
       "      <th>149</th>\n",
       "      <td>Yemen [+]</td>\n",
       "      <td>0.427</td>\n",
       "      <td>130º</td>\n",
       "      <td></td>\n",
       "      <td>-1</td>\n",
       "    </tr>\n",
       "    <tr>\n",
       "      <th>150</th>\n",
       "      <td>South Africa [+]</td>\n",
       "      <td>0.651</td>\n",
       "      <td>79º</td>\n",
       "      <td></td>\n",
       "      <td>7</td>\n",
       "    </tr>\n",
       "    <tr>\n",
       "      <th>151</th>\n",
       "      <td>Zambia [+]</td>\n",
       "      <td>0.413</td>\n",
       "      <td>132º</td>\n",
       "      <td></td>\n",
       "      <td>0</td>\n",
       "    </tr>\n",
       "    <tr>\n",
       "      <th>152</th>\n",
       "      <td>Zimbabwe [+]</td>\n",
       "      <td>0.472</td>\n",
       "      <td>117º</td>\n",
       "      <td></td>\n",
       "      <td>-1</td>\n",
       "    </tr>\n",
       "  </tbody>\n",
       "</table>\n",
       "<p>153 rows × 5 columns</p>\n",
       "</div>"
      ],
      "text/plain": [
       "                      0      1     2     3     4\n",
       "0                  None   None  None  None  None\n",
       "1     United States [+]  0.890    1º           0\n",
       "2    United Kingdom [+]  0.842   16º           0\n",
       "3           Germany [+]  0.874    9º           1\n",
       "4            France [+]  0.838   18º           1\n",
       "..                  ...    ...   ...   ...   ...\n",
       "148           Samoa [+]  0.670   68º          -2\n",
       "149           Yemen [+]  0.427  130º          -1\n",
       "150    South Africa [+]  0.651   79º           7\n",
       "151          Zambia [+]  0.413  132º           0\n",
       "152        Zimbabwe [+]  0.472  117º          -1\n",
       "\n",
       "[153 rows x 5 columns]"
      ]
     },
     "execution_count": 14,
     "metadata": {},
     "output_type": "execute_result"
    }
   ],
   "source": [
    "df"
   ]
  },
  {
   "cell_type": "code",
   "execution_count": 20,
   "metadata": {
    "id": "tB_XjMw-UgoP"
   },
   "outputs": [],
   "source": [
    "s = HTMLSession()\n",
    "\n",
    "big_df = pd.DataFrame()\n",
    "for i in range(1996, 2022):\n",
    "  url = \"https://countryeconomy.com/hdi?year=\" + str(i)\n",
    "  r = s.get(url)\n",
    "  table = r.html.find('table')\n",
    "  tabledata =pd.DataFrame([[c.text for c in row.find('td')] for row in table[0].find('tr')])\n",
    "  tabledata['year']=i\n",
    "  #big_df = big_df.append(tabledata, ignore_index=True)\n"
   ]
  },
  {
   "cell_type": "code",
   "execution_count": 17,
   "metadata": {
    "colab": {
     "base_uri": "https://localhost:8080/",
     "height": 423
    },
    "id": "rnNrLdZgEp6g",
    "outputId": "cd15dde9-9210-43b7-f2b0-a461be842db6"
   },
   "outputs": [
    {
     "data": {
      "text/html": [
       "<div>\n",
       "<style scoped>\n",
       "    .dataframe tbody tr th:only-of-type {\n",
       "        vertical-align: middle;\n",
       "    }\n",
       "\n",
       "    .dataframe tbody tr th {\n",
       "        vertical-align: top;\n",
       "    }\n",
       "\n",
       "    .dataframe thead th {\n",
       "        text-align: right;\n",
       "    }\n",
       "</style>\n",
       "<table border=\"1\" class=\"dataframe\">\n",
       "  <thead>\n",
       "    <tr style=\"text-align: right;\">\n",
       "      <th></th>\n",
       "      <th>0</th>\n",
       "      <th>1</th>\n",
       "      <th>2</th>\n",
       "      <th>3</th>\n",
       "      <th>4</th>\n",
       "      <th>year</th>\n",
       "    </tr>\n",
       "  </thead>\n",
       "  <tbody>\n",
       "    <tr>\n",
       "      <th>0</th>\n",
       "      <td>None</td>\n",
       "      <td>None</td>\n",
       "      <td>None</td>\n",
       "      <td>None</td>\n",
       "      <td>None</td>\n",
       "      <td>1996</td>\n",
       "    </tr>\n",
       "    <tr>\n",
       "      <th>1</th>\n",
       "      <td>United States [+]</td>\n",
       "      <td>0.887</td>\n",
       "      <td>1º</td>\n",
       "      <td></td>\n",
       "      <td>0</td>\n",
       "      <td>1996</td>\n",
       "    </tr>\n",
       "    <tr>\n",
       "      <th>2</th>\n",
       "      <td>United Kingdom [+]</td>\n",
       "      <td>0.834</td>\n",
       "      <td>16º</td>\n",
       "      <td></td>\n",
       "      <td>0</td>\n",
       "      <td>1996</td>\n",
       "    </tr>\n",
       "    <tr>\n",
       "      <th>3</th>\n",
       "      <td>Germany [+]</td>\n",
       "      <td>0.868</td>\n",
       "      <td>8º</td>\n",
       "      <td></td>\n",
       "      <td>0</td>\n",
       "      <td>1996</td>\n",
       "    </tr>\n",
       "    <tr>\n",
       "      <th>4</th>\n",
       "      <td>France [+]</td>\n",
       "      <td>0.833</td>\n",
       "      <td>17º</td>\n",
       "      <td></td>\n",
       "      <td>1</td>\n",
       "      <td>1996</td>\n",
       "    </tr>\n",
       "    <tr>\n",
       "      <th>...</th>\n",
       "      <td>...</td>\n",
       "      <td>...</td>\n",
       "      <td>...</td>\n",
       "      <td>...</td>\n",
       "      <td>...</td>\n",
       "      <td>...</td>\n",
       "    </tr>\n",
       "    <tr>\n",
       "      <th>4744</th>\n",
       "      <td>Samoa [+]</td>\n",
       "      <td>0.707</td>\n",
       "      <td>111º</td>\n",
       "      <td></td>\n",
       "      <td>-1</td>\n",
       "      <td>2021</td>\n",
       "    </tr>\n",
       "    <tr>\n",
       "      <th>4745</th>\n",
       "      <td>Yemen [+]</td>\n",
       "      <td>0.455</td>\n",
       "      <td>183º</td>\n",
       "      <td></td>\n",
       "      <td>0</td>\n",
       "      <td>2021</td>\n",
       "    </tr>\n",
       "    <tr>\n",
       "      <th>4746</th>\n",
       "      <td>South Africa [+]</td>\n",
       "      <td>0.713</td>\n",
       "      <td>109º</td>\n",
       "      <td></td>\n",
       "      <td>7</td>\n",
       "      <td>2021</td>\n",
       "    </tr>\n",
       "    <tr>\n",
       "      <th>4747</th>\n",
       "      <td>Zambia [+]</td>\n",
       "      <td>0.565</td>\n",
       "      <td>154º</td>\n",
       "      <td></td>\n",
       "      <td>0</td>\n",
       "      <td>2021</td>\n",
       "    </tr>\n",
       "    <tr>\n",
       "      <th>4748</th>\n",
       "      <td>Zimbabwe [+]</td>\n",
       "      <td>0.593</td>\n",
       "      <td>146º</td>\n",
       "      <td></td>\n",
       "      <td>1</td>\n",
       "      <td>2021</td>\n",
       "    </tr>\n",
       "  </tbody>\n",
       "</table>\n",
       "<p>4749 rows × 6 columns</p>\n",
       "</div>"
      ],
      "text/plain": [
       "                       0      1     2     3     4  year\n",
       "0                   None   None  None  None  None  1996\n",
       "1      United States [+]  0.887    1º           0  1996\n",
       "2     United Kingdom [+]  0.834   16º           0  1996\n",
       "3            Germany [+]  0.868    8º           0  1996\n",
       "4             France [+]  0.833   17º           1  1996\n",
       "...                  ...    ...   ...   ...   ...   ...\n",
       "4744           Samoa [+]  0.707  111º          -1  2021\n",
       "4745           Yemen [+]  0.455  183º           0  2021\n",
       "4746    South Africa [+]  0.713  109º           7  2021\n",
       "4747          Zambia [+]  0.565  154º           0  2021\n",
       "4748        Zimbabwe [+]  0.593  146º           1  2021\n",
       "\n",
       "[4749 rows x 6 columns]"
      ]
     },
     "execution_count": 17,
     "metadata": {},
     "output_type": "execute_result"
    }
   ],
   "source": [
    "big_df"
   ]
  },
  {
   "cell_type": "markdown",
   "metadata": {},
   "source": [
    "#### Таблицу с индексами мы записываем в отдельный файл, чтобы было удобно объединить с основным датасетом"
   ]
  },
  {
   "cell_type": "code",
   "execution_count": 18,
   "metadata": {
    "id": "Lx3dyIuvWBCy"
   },
   "outputs": [],
   "source": [
    "big_df.to_csv('index.csv')"
   ]
  },
  {
   "cell_type": "code",
   "execution_count": 19,
   "metadata": {
    "colab": {
     "base_uri": "https://localhost:8080/"
    },
    "id": "R6Iymb-OFO2E",
    "outputId": "242c5465-7d4c-40d0-ba88-9f861cfc63e7"
   },
   "outputs": [
    {
     "data": {
      "text/plain": [
       "666"
      ]
     },
     "execution_count": 19,
     "metadata": {},
     "output_type": "execute_result"
    }
   ],
   "source": [
    "len(big_df[1].unique())\n"
   ]
  }
 ],
 "metadata": {
  "colab": {
   "provenance": [],
   "toc_visible": true
  },
  "kernelspec": {
   "display_name": "Python 3 (ipykernel)",
   "language": "python",
   "name": "python3"
  },
  "language_info": {
   "codemirror_mode": {
    "name": "ipython",
    "version": 3
   },
   "file_extension": ".py",
   "mimetype": "text/x-python",
   "name": "python",
   "nbconvert_exporter": "python",
   "pygments_lexer": "ipython3",
   "version": "3.10.9"
  }
 },
 "nbformat": 4,
 "nbformat_minor": 1
}
