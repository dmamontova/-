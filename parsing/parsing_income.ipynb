{
 "cells": [
  {
   "cell_type": "markdown",
   "id": "f74d896a",
   "metadata": {
    "id": "7c2f6c87"
   },
   "source": [
    "# Парсинг экономической классификации страны"
   ]
  },
  {
   "cell_type": "markdown",
   "id": "6b5fc687",
   "metadata": {},
   "source": [
    "На данном этапе мы запарсили [сайт](https://flo.uri.sh/visualisation/6583499/embed?auto=1), чтобы по всем возможным годам получить категориальный индекс Classification, который в дальнейшем послужит целевой переменной. Для работы мы использовали библиотеку __requests__.\n",
    "\n",
    "Опять же, работа с кодом чисто техническая. В конце мы присоединили полученную таблицу к той, что получили при парсинге индекса человеческого развития для того, чтобы объединить с основным датафреймом"
   ]
  },
  {
   "cell_type": "code",
   "execution_count": 1,
   "id": "4afe0d56",
   "metadata": {},
   "outputs": [
    {
     "name": "stdout",
     "output_type": "stream",
     "text": [
      "Defaulting to user installation because normal site-packages is not writeable\n",
      "Requirement already satisfied: beautifulsoup4 in c:\\programdata\\anaconda3\\lib\\site-packages (4.11.1)\n",
      "Requirement already satisfied: soupsieve>1.2 in c:\\programdata\\anaconda3\\lib\\site-packages (from beautifulsoup4) (2.3.2.post1)\n",
      "Defaulting to user installation because normal site-packages is not writeable\n",
      "Requirement already satisfied: requests in c:\\programdata\\anaconda3\\lib\\site-packages (2.28.1)\n",
      "Requirement already satisfied: urllib3<1.27,>=1.21.1 in c:\\programdata\\anaconda3\\lib\\site-packages (from requests) (1.26.14)\n",
      "Requirement already satisfied: idna<4,>=2.5 in c:\\programdata\\anaconda3\\lib\\site-packages (from requests) (3.4)\n",
      "Requirement already satisfied: charset-normalizer<3,>=2 in c:\\programdata\\anaconda3\\lib\\site-packages (from requests) (2.0.4)\n",
      "Requirement already satisfied: certifi>=2017.4.17 in c:\\programdata\\anaconda3\\lib\\site-packages (from requests) (2022.12.7)\n"
     ]
    }
   ],
   "source": [
    "import pandas as pd\n",
    "!pip install beautifulsoup4\n",
    "!pip install requests"
   ]
  },
  {
   "cell_type": "code",
   "execution_count": 2,
   "id": "32f6b212",
   "metadata": {
    "id": "32f6b212"
   },
   "outputs": [],
   "source": [
    "import requests\n",
    "from bs4 import BeautifulSoup as bs"
   ]
  },
  {
   "cell_type": "code",
   "execution_count": 3,
   "id": "3d74ffee",
   "metadata": {
    "id": "3d74ffee",
    "outputId": "efa16cf1-7222-47af-a84c-c1514f494ee9"
   },
   "outputs": [
    {
     "name": "stdout",
     "output_type": "stream",
     "text": [
      "200\n"
     ]
    }
   ],
   "source": [
    "URL_TEMPLATE = \"https://flo.uri.sh/visualisation/6583499/embed?auto=1\"\n",
    "r = requests.get(URL_TEMPLATE)\n",
    "print(r.status_code)\n"
   ]
  },
  {
   "cell_type": "code",
   "execution_count": 24,
   "id": "dee28fb9",
   "metadata": {
    "id": "dee28fb9"
   },
   "outputs": [],
   "source": [
    "#r.find"
   ]
  },
  {
   "cell_type": "code",
   "execution_count": 11,
   "id": "f723c535",
   "metadata": {
    "id": "f723c535"
   },
   "outputs": [],
   "source": [
    "a = r.text.split('\"name\":')\n",
    "b = a[5:]"
   ]
  },
  {
   "cell_type": "code",
   "execution_count": 12,
   "id": "023497eb",
   "metadata": {
    "id": "023497eb"
   },
   "outputs": [],
   "source": [
    "blistic = []\n",
    "for i in range(len(b)):\n",
    "    blistic.append(b[i].split(',{\"geometry\"')[0])\n",
    "\n",
    "blistic = blistic[:-2]"
   ]
  },
  {
   "cell_type": "code",
   "execution_count": 13,
   "id": "e841d02f",
   "metadata": {
    "id": "e841d02f"
   },
   "outputs": [],
   "source": [
    "names = []\n",
    "znach = []\n",
    "for i in range(len(blistic)):\n",
    "    a = blistic[i].split('\"value\":')\n",
    "    names.append(a[0][1:-2])\n",
    "    b = a[1].split(',')\n",
    "    l = []\n",
    "    l.append(b[2][1:-1])\n",
    "    for j in range(2 , len(b)-1):\n",
    "        l.append(b[j][1:-1])\n",
    "    l.append(b[-1][1:-3])\n",
    "\n",
    "    znach.append(l)\n"
   ]
  },
  {
   "cell_type": "code",
   "execution_count": 14,
   "id": "f95cc0b4",
   "metadata": {
    "id": "f95cc0b4",
    "outputId": "ba76366b-266b-4ca2-cb42-809a07e40958"
   },
   "outputs": [
    {
     "data": {
      "text/plain": [
       "35"
      ]
     },
     "execution_count": 14,
     "metadata": {},
     "output_type": "execute_result"
    }
   ],
   "source": [
    "len(znach[0])"
   ]
  },
  {
   "cell_type": "code",
   "execution_count": 15,
   "id": "542ebb0d",
   "metadata": {
    "id": "542ebb0d",
    "outputId": "dd361157-9151-428f-8669-62744ae35a36"
   },
   "outputs": [
    {
     "data": {
      "text/plain": [
       "'Lower middle income'"
      ]
     },
     "execution_count": 15,
     "metadata": {},
     "output_type": "execute_result"
    }
   ],
   "source": [
    "znach[-1][34]\n"
   ]
  },
  {
   "cell_type": "code",
   "execution_count": 16,
   "id": "03db9299",
   "metadata": {
    "id": "03db9299"
   },
   "outputs": [],
   "source": [
    "year_1987 = []\n",
    "year_1988 = []\n",
    "year_1989 = []\n",
    "year_1990 = []\n",
    "year_1991 = []\n",
    "year_1992 = []\n",
    "year_1993 = []\n",
    "year_1994 = []\n",
    "year_1995 = []\n",
    "year_1996 = []\n",
    "year_1997 = []\n",
    "year_1998 = []\n",
    "year_1999 = []\n",
    "year_2000 = []\n",
    "year_2001 = []\n",
    "year_2002 = []\n",
    "year_2003 = []\n",
    "year_2004 = []\n",
    "year_2005 = []\n",
    "year_2006 = []\n",
    "year_2007 = []\n",
    "year_2008 = []\n",
    "year_2009 = []\n",
    "year_2010 = []\n",
    "year_2011 = []\n",
    "year_2012 = []\n",
    "year_2013 = []\n",
    "year_2014 = []\n",
    "year_2015 = []\n",
    "year_2016 = []\n",
    "year_2017 = []\n",
    "year_2018 = []\n",
    "year_2019 = []\n",
    "year_2020 = []\n",
    "year_2021 = []\n",
    "\n",
    "for i in znach:\n",
    "    year_1987.append(i[0])\n",
    "    year_1988.append(i[1])\n",
    "    year_1989.append(i[2])\n",
    "    year_1990.append(i[3])\n",
    "    year_1991.append(i[4])\n",
    "    year_1992.append(i[5])\n",
    "    year_1993.append(i[6])\n",
    "    year_1994.append(i[7])\n",
    "    year_1995.append(i[8])\n",
    "    year_1996.append(i[9])\n",
    "    year_1997.append(i[10])\n",
    "    year_1998.append(i[11])\n",
    "    year_1999.append(i[12])\n",
    "    year_2000.append(i[13])\n",
    "    year_2001.append(i[14])\n",
    "    year_2002.append(i[15])\n",
    "    year_2003.append(i[16])\n",
    "    year_2004.append(i[17])\n",
    "    year_2005.append(i[18])\n",
    "    year_2006.append(i[19])\n",
    "    year_2007.append(i[20])\n",
    "    year_2008.append(i[21])\n",
    "    year_2009.append(i[22])\n",
    "    year_2010.append(i[23])\n",
    "    year_2011.append(i[24])\n",
    "    year_2012.append(i[25])\n",
    "    year_2013.append(i[26])\n",
    "    year_2014.append(i[27])\n",
    "    year_2015.append(i[28])\n",
    "    year_2016.append(i[29])\n",
    "    year_2017.append(i[30])\n",
    "    year_2018.append(i[31])\n",
    "    year_2019.append(i[32])\n",
    "    year_2020.append(i[33])\n",
    "    year_2021.append(i[34])\n"
   ]
  },
  {
   "cell_type": "code",
   "execution_count": 17,
   "id": "87705ff7",
   "metadata": {
    "id": "87705ff7"
   },
   "outputs": [],
   "source": [
    "data = {'1987': year_1987, '1988': year_1988 , '1989': year_1989, '1990': year_1990, '1991':year_1991 , '1992':year_1992 , '1993': year_1993, '1994': year_1994, '1995': year_1995, '1996': year_1996, '1997': year_1997, '1998': year_1998, '1999': year_1999, '2000': year_2000, '2001': year_2001, '2002': year_2002, '2003': year_2003, '2004': year_2004, '2005': year_2005, '2006': year_2006, '2007': year_2007, '2008': year_2008, '2009': year_2009, '2010': year_2010, '2011':year_2011, '2012':year_2012, '2013':year_2013, '2014':year_2014, '2015':year_2015, '2016':year_2016, '2017':year_2017, '2018': year_2018, '2019': year_2019, '2020':year_2020, '2021':year_2021, '2022':year_2021, '2023':year_2021}\n",
    "df = pd.DataFrame(data=data, index=names)\n",
    "\n",
    "\n"
   ]
  },
  {
   "cell_type": "code",
   "execution_count": 18,
   "id": "09ecb03a",
   "metadata": {
    "id": "09ecb03a"
   },
   "outputs": [],
   "source": [
    "df.to_csv('classification', encoding='utf-8')"
   ]
  },
  {
   "cell_type": "code",
   "execution_count": 20,
   "id": "0e3d5cdd",
   "metadata": {
    "id": "0e3d5cdd"
   },
   "outputs": [],
   "source": [
    "#a = pd.read_csv('HDI.csv')"
   ]
  },
  {
   "cell_type": "code",
   "execution_count": 22,
   "id": "2eb31806",
   "metadata": {
    "id": "2eb31806"
   },
   "outputs": [],
   "source": [
    "#a.to_csv('HDIAll', encoding='utf-8')"
   ]
  }
 ],
 "metadata": {
  "colab": {
   "provenance": []
  },
  "kernelspec": {
   "display_name": "Python 3 (ipykernel)",
   "language": "python",
   "name": "python3"
  },
  "language_info": {
   "codemirror_mode": {
    "name": "ipython",
    "version": 3
   },
   "file_extension": ".py",
   "mimetype": "text/x-python",
   "name": "python",
   "nbconvert_exporter": "python",
   "pygments_lexer": "ipython3",
   "version": "3.10.9"
  }
 },
 "nbformat": 4,
 "nbformat_minor": 5
}
