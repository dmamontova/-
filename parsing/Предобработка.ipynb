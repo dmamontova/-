{
 "cells": [
  {
   "cell_type": "code",
   "execution_count": 1,
   "id": "1d1d6034",
   "metadata": {},
   "outputs": [],
   "source": [
    "import pandas as pd\n",
    "import numpy as np"
   ]
  },
  {
   "cell_type": "code",
   "execution_count": 2,
   "id": "722a7d51",
   "metadata": {},
   "outputs": [
    {
     "name": "stderr",
     "output_type": "stream",
     "text": [
      "/Users/nalliennallien/opt/anaconda3/lib/python3.9/site-packages/IPython/core/interactiveshell.py:3444: DtypeWarning: Columns (23,35) have mixed types.Specify dtype option on import or set low_memory=False.\n",
      "  exec(code_obj, self.user_global_ns, self.user_ns)\n"
     ]
    }
   ],
   "source": [
    "df = pd.read_csv('project_final.csv')"
   ]
  },
  {
   "cell_type": "code",
   "execution_count": 3,
   "id": "e9161494",
   "metadata": {},
   "outputs": [],
   "source": [
    "df = df.drop(['Unnamed: 0.1.1','Unnamed: 0','Unnamed: 0.1','EVENT_ID_CNTY','EVENT_DATE','ASSOC_ACTOR_2','ASSOC_ACTOR_1' ,'TIME_PRECISION', 'INTER1', 'INTER2', 'INTERACTION', 'ISO', 'REGION', 'ADMIN1' , 'ADMIN1', 'ADMIN2', 'ADMIN3', 'LOCATION', 'LATITUDE', 'LONGITUDE','GEO_PRECISION', 'SOURCE', 'SOURCE_SCALE', 'TAGS', 'TIMESTAMP'], axis=1)\n",
    "\n"
   ]
  },
  {
   "cell_type": "markdown",
   "id": "3d4fd1b9",
   "metadata": {},
   "source": [
    "### Вот наша маленькая табличка, но в ней куча нанов, из-за того, что спаршенные таблички не полностью стыкуются с нашем исходником"
   ]
  },
  {
   "cell_type": "code",
   "execution_count": 4,
   "id": "b800e806",
   "metadata": {},
   "outputs": [
    {
     "data": {
      "text/html": [
       "<div>\n",
       "<style scoped>\n",
       "    .dataframe tbody tr th:only-of-type {\n",
       "        vertical-align: middle;\n",
       "    }\n",
       "\n",
       "    .dataframe tbody tr th {\n",
       "        vertical-align: top;\n",
       "    }\n",
       "\n",
       "    .dataframe thead th {\n",
       "        text-align: right;\n",
       "    }\n",
       "</style>\n",
       "<table border=\"1\" class=\"dataframe\">\n",
       "  <thead>\n",
       "    <tr style=\"text-align: right;\">\n",
       "      <th></th>\n",
       "      <th>YEAR</th>\n",
       "      <th>DISORDER_TYPE</th>\n",
       "      <th>EVENT_TYPE</th>\n",
       "      <th>SUB_EVENT_TYPE</th>\n",
       "      <th>ACTOR1</th>\n",
       "      <th>ACTOR2</th>\n",
       "      <th>CIVILIAN_TARGETING</th>\n",
       "      <th>COUNTRY</th>\n",
       "      <th>NOTES</th>\n",
       "      <th>FATALITIES</th>\n",
       "      <th>index</th>\n",
       "      <th>classification</th>\n",
       "    </tr>\n",
       "  </thead>\n",
       "  <tbody>\n",
       "    <tr>\n",
       "      <th>0</th>\n",
       "      <td>1997</td>\n",
       "      <td>Political violence</td>\n",
       "      <td>Violence against civilians</td>\n",
       "      <td>Attack</td>\n",
       "      <td>GIA: Armed Islamic Group</td>\n",
       "      <td>Civilians (Algeria)</td>\n",
       "      <td>Civilian targeting</td>\n",
       "      <td>Algeria</td>\n",
       "      <td>5 January: Beheading of 5 citizens in Douaouda...</td>\n",
       "      <td>5</td>\n",
       "      <td>0.624</td>\n",
       "      <td>Lower middle income</td>\n",
       "    </tr>\n",
       "    <tr>\n",
       "      <th>1</th>\n",
       "      <td>1997</td>\n",
       "      <td>Political violence</td>\n",
       "      <td>Violence against civilians</td>\n",
       "      <td>Attack</td>\n",
       "      <td>GIA: Armed Islamic Group</td>\n",
       "      <td>Civilians (Algeria)</td>\n",
       "      <td>Civilian targeting</td>\n",
       "      <td>Algeria</td>\n",
       "      <td>Two citizens were beheaded in Hassasna.</td>\n",
       "      <td>2</td>\n",
       "      <td>0.624</td>\n",
       "      <td>Lower middle income</td>\n",
       "    </tr>\n",
       "    <tr>\n",
       "      <th>2</th>\n",
       "      <td>1997</td>\n",
       "      <td>Political violence</td>\n",
       "      <td>Violence against civilians</td>\n",
       "      <td>Attack</td>\n",
       "      <td>GIA: Armed Islamic Group</td>\n",
       "      <td>Civilians (Algeria)</td>\n",
       "      <td>Civilian targeting</td>\n",
       "      <td>Algeria</td>\n",
       "      <td>Two citizens were killed in a raid on the vill...</td>\n",
       "      <td>2</td>\n",
       "      <td>0.624</td>\n",
       "      <td>Lower middle income</td>\n",
       "    </tr>\n",
       "    <tr>\n",
       "      <th>3</th>\n",
       "      <td>1997</td>\n",
       "      <td>Political violence</td>\n",
       "      <td>Violence against civilians</td>\n",
       "      <td>Attack</td>\n",
       "      <td>GIA: Armed Islamic Group</td>\n",
       "      <td>Civilians (Algeria)</td>\n",
       "      <td>Civilian targeting</td>\n",
       "      <td>Algeria</td>\n",
       "      <td>4 January: 16 citizens were murdered in the vi...</td>\n",
       "      <td>16</td>\n",
       "      <td>0.624</td>\n",
       "      <td>Lower middle income</td>\n",
       "    </tr>\n",
       "    <tr>\n",
       "      <th>4</th>\n",
       "      <td>1997</td>\n",
       "      <td>Political violence</td>\n",
       "      <td>Violence against civilians</td>\n",
       "      <td>Attack</td>\n",
       "      <td>GIA: Armed Islamic Group</td>\n",
       "      <td>Civilians (Algeria)</td>\n",
       "      <td>Civilian targeting</td>\n",
       "      <td>Algeria</td>\n",
       "      <td>5 January: Killing of 18 citizens in the Olivi...</td>\n",
       "      <td>18</td>\n",
       "      <td>0.624</td>\n",
       "      <td>Lower middle income</td>\n",
       "    </tr>\n",
       "  </tbody>\n",
       "</table>\n",
       "</div>"
      ],
      "text/plain": [
       "   YEAR       DISORDER_TYPE                  EVENT_TYPE SUB_EVENT_TYPE  \\\n",
       "0  1997  Political violence  Violence against civilians         Attack   \n",
       "1  1997  Political violence  Violence against civilians         Attack   \n",
       "2  1997  Political violence  Violence against civilians         Attack   \n",
       "3  1997  Political violence  Violence against civilians         Attack   \n",
       "4  1997  Political violence  Violence against civilians         Attack   \n",
       "\n",
       "                     ACTOR1               ACTOR2  CIVILIAN_TARGETING  COUNTRY  \\\n",
       "0  GIA: Armed Islamic Group  Civilians (Algeria)  Civilian targeting  Algeria   \n",
       "1  GIA: Armed Islamic Group  Civilians (Algeria)  Civilian targeting  Algeria   \n",
       "2  GIA: Armed Islamic Group  Civilians (Algeria)  Civilian targeting  Algeria   \n",
       "3  GIA: Armed Islamic Group  Civilians (Algeria)  Civilian targeting  Algeria   \n",
       "4  GIA: Armed Islamic Group  Civilians (Algeria)  Civilian targeting  Algeria   \n",
       "\n",
       "                                               NOTES  FATALITIES  index  \\\n",
       "0  5 January: Beheading of 5 citizens in Douaouda...           5  0.624   \n",
       "1            Two citizens were beheaded in Hassasna.           2  0.624   \n",
       "2  Two citizens were killed in a raid on the vill...           2  0.624   \n",
       "3  4 January: 16 citizens were murdered in the vi...          16  0.624   \n",
       "4  5 January: Killing of 18 citizens in the Olivi...          18  0.624   \n",
       "\n",
       "        classification  \n",
       "0  Lower middle income  \n",
       "1  Lower middle income  \n",
       "2  Lower middle income  \n",
       "3  Lower middle income  \n",
       "4  Lower middle income  "
      ]
     },
     "execution_count": 4,
     "metadata": {},
     "output_type": "execute_result"
    }
   ],
   "source": [
    "df.head() "
   ]
  },
  {
   "cell_type": "code",
   "execution_count": 5,
   "id": "b0d85456",
   "metadata": {},
   "outputs": [
    {
     "data": {
      "text/plain": [
       "YEAR                        0\n",
       "DISORDER_TYPE               0\n",
       "EVENT_TYPE                  0\n",
       "SUB_EVENT_TYPE              0\n",
       "ACTOR1                      0\n",
       "ACTOR2                 880666\n",
       "CIVILIAN_TARGETING    1475228\n",
       "COUNTRY                     0\n",
       "NOTES                       0\n",
       "FATALITIES                  0\n",
       "index                  512784\n",
       "classification         156431\n",
       "dtype: int64"
      ]
     },
     "execution_count": 5,
     "metadata": {},
     "output_type": "execute_result"
    }
   ],
   "source": [
    "df.isna().sum()"
   ]
  },
  {
   "cell_type": "markdown",
   "id": "c5fce44e",
   "metadata": {},
   "source": [
    "##### Сейчас нам нужно затереть немного нанов в index (512784) и в classification (156431). Будем делать это функцией, а не как в прошлый раз"
   ]
  },
  {
   "cell_type": "code",
   "execution_count": 14,
   "id": "fd3ab110",
   "metadata": {},
   "outputs": [],
   "source": [
    "# тут я ищу страны в которых мало наблюдений, их сразу удаляем, а остальные будем заполнять информацией из внешних источников\n",
    "nuli_all_del, nuli_class, nuli_ind = [], [], []\n",
    "for el in df['COUNTRY'].unique():\n",
    "    if sum(df[df['COUNTRY'] == el]['classification'].isnull()):\n",
    "        nuli_class.append(el)\n",
    "    if sum(df[df['COUNTRY'] == el]['index'].isnull()):\n",
    "        nuli_ind.append(el)\n",
    "\n",
    "ll_del_class = []\n",
    "ll_find_class = []\n",
    "for i in nuli_class:\n",
    "    n_n = df[df['COUNTRY'] == i].shape[0]\n",
    "    if n_n < 550:\n",
    "        ll_del_class.append(i)\n",
    "        nuli_all_del.append(i)\n",
    "    else:\n",
    "        ll_find_class.append(i)\n",
    "\n",
    "\n",
    "ll_del_ind = []\n",
    "ll_find_ind = []\n",
    "for i in nuli_ind:\n",
    "    n_n = df[df['COUNTRY'] == i].shape[0]\n",
    "    if n_n < 550:\n",
    "        ll_del_ind.append(i)\n",
    "        nuli_all_del.append(i)\n",
    "    else:\n",
    "        ll_find_ind.append(i)\n"
   ]
  },
  {
   "cell_type": "code",
   "execution_count": 8,
   "id": "c98f14f3",
   "metadata": {},
   "outputs": [],
   "source": [
    "def chistka(method, country, year, data, data_class, data_ind):\n",
    "    \n",
    "    if method == 'del':\n",
    "        ind = data[(data['COUNTRY'] == country)].index\n",
    "        data = data.drop(ind)\n",
    "                   \n",
    "    if method == 'class':\n",
    "        for i in range(len(year)): \n",
    "            ind = data[(data['COUNTRY'] == country) & (data['YEAR'] == year[i])].index\n",
    "            data.loc[ind, 'classification'] = data_class[i]  \n",
    "                   \n",
    "    if method == 'ind':\n",
    "        for i in range(len(year)): \n",
    "            ind = data[(data['COUNTRY'] == country) & (data['YEAR'] == year[i])].index\n",
    "            data.loc[ind, 'index'] = data_ind[i]\n",
    "            \n",
    "    if method == 'class_ind':\n",
    "        for i in range(len(year)): \n",
    "            ind = data[(data['COUNTRY'] == country) & (data['YEAR'] == year[i])].index\n",
    "            data.loc[ind, 'index'] = data_ind[i]\n",
    "            data.loc[ind, 'classification'] = data_class[i]\n",
    "                   \n",
    "    return data\n",
    "            "
   ]
  },
  {
   "cell_type": "code",
   "execution_count": 9,
   "id": "39219544",
   "metadata": {},
   "outputs": [],
   "source": [
    "# удалим все страны где мало наблюдений и много пропусков \n",
    "countries = nuli_all_del\n",
    "for i in countries:\n",
    "    df = chistka(method = 'del', \n",
    "        country = i, \n",
    "        year = 0, \n",
    "        data = df, \n",
    "        data_class = 0, \n",
    "        data_ind = 0)"
   ]
  },
  {
   "cell_type": "code",
   "execution_count": 10,
   "id": "55f93991",
   "metadata": {},
   "outputs": [],
   "source": [
    "# починим все страны, где надо добавлять и индекс и класс\n",
    "countries_par = ['Venezuela', 'United States', 'Taiwan', 'Bermuda', 'China', 'Democratic Republic of Congo', 'Ivory Coast', 'North Macedonia', 'Turkey']\n",
    "years = [np.arange(2018, 2024), \n",
    "         np.arange(2020, 2024),\n",
    "         np.arange(2018, 2024),\n",
    "         np.arange(2021, 2024),\n",
    "         np.arange(2018, 2024),\n",
    "         np.arange(1997, 2024),\n",
    "         np.arange(1997, 2024),\n",
    "         np.arange(2018, 2024),\n",
    "         np.arange(2016, 2024)\n",
    "        ]\n",
    "indexes = [[0.74, 0.72, 0.69, 0.69, 0.65, 0.64],\n",
    "           [0.92, 0.93, 0.93, 0.93, 0.93],\n",
    "           [0.907 for j in np.arange(2018, 2024)],\n",
    "           [0.981 for i in np.arange(2021, 2024)],\n",
    "           [0.755, 0.755, 0.755, 0.751, 0.751, 0.751],\n",
    "           [0.37, 0.37, 0.38, 0.37, 0.38, 0.37, 0.38, 0.38, 0.39, 0.40, 0.40, 0.41, 0.42, 0.42, 0.43, 0.44, 0.44, 0.45, 0.46, 0.46, 0.47, 0.47, 0.48, 0.48, 0.48, 0.48, 0.48],\n",
    "           [0.46, 0.46, 0.46, 0.46, 0.46, 0.45, 0.45, 0.46, 0.46, 0.46, 0.46, 0.46, 0.47, 0.47, 0.47, 0.47, 0.48, 0.48, 0.50, 0.51, 0.52, 0.53, 0.54, 0.55, 0.55, 0.55, 0.55],\n",
    "           [0.779, 0.779, 0.779,0.779, 0.779, 0.7],\n",
    "           [0.82, 0.83, 0.84, 0.84, 0.83, 0.84, 0.84, 0.84]\n",
    "          ]\n",
    "classes = [['Upper middle income', 'Upper middle income', 'Lower middle income', 'Lower middle income', 'Lower middle income', 'Lower middle income'],\n",
    "           ['High income' for i in np.arange(2020, 2024)],\n",
    "           ['High income' for i in np.arange(2018, 2024)],\n",
    "           ['High income' for i in np.arange(2018, 2024)],\n",
    "           ['Upper middle income' for i in np.arange(2018, 2024)],\n",
    "           ['Low income' for i in np.arange(1997, 2024)],\n",
    "           ['Low income' for j in range(11)] + ['Lower middle income' for j in range(16)],\n",
    "           ['Upper middle income' for i in np.arange(2018, 2024)],\n",
    "           ['Upper middle income' for i in np.arange(2016, 2024)]\n",
    "          ]\n",
    "for i in range(len(countries_par)):\n",
    "    chistka(method = 'class_ind', country = countries_par[i], year = years[i], data = df, data_class = classes[i], data_ind = indexes[i])\n",
    "\n"
   ]
  },
  {
   "cell_type": "code",
   "execution_count": 12,
   "id": "80d3a55b",
   "metadata": {},
   "outputs": [],
   "source": [
    "# починим все страны, где надо добавлять только индекс\n",
    "countries_par = ['Angola', 'Chad', 'Ethiopia', 'Nigeria', 'Guinea-Bissau', 'Palestine', 'Czech Republic', 'Vietnam', 'Somalia', 'Kosovo', 'Puerto Rico', 'Burkina Faso', 'Madagascar', 'Liberia', 'eSwatini']\n",
    "years  = [np.arange(1997, 2012),\n",
    "          np.arange(1997, 2012),\n",
    "          np.arange(1997, 2024),\n",
    "          np.arange(1997, 2003),\n",
    "          np.arange(1997, 2005),\n",
    "          np.arange(1997, 2024),\n",
    "          np.arange(2020, 2024),\n",
    "          np.arange(2010, 2024),\n",
    "          np.arange(1997, 2024),\n",
    "          np.arange(2018, 2024),\n",
    "          np.arange(2018, 2024),\n",
    "          np.arange(1997, 1999),\n",
    "          np.arange(1997, 1999),\n",
    "          np.arange(1997, 1999),\n",
    "          np.arange(1997, 2024)\n",
    "         ]\n",
    "indexes = [[0, 0.353, 0.356, 0.354, 0.364, 0.375, 0.386, 0.403, 0.420, 0.433, 0.447, 0.459, 0.475, 0.486, 0.500, 0.510, 0.526, 0.541, 0.552, 0.563, 0.582, 0.596, 0.597, 0.595, 0.595, 0.590,0.586],\n",
    "           [0.288, 0.288, 0.288, 0.291, 0.301, 0.307, 0.307, 0.325, 0.327, 0.327, 0.337, 0.341, 0.355, 0.362, 0.372],\n",
    "           [0, 0, 0, 0.287, 0.301,0.309,0.313,0.327,0.346,0.363,0.380,0.395,0.402,0.412,0.422,0.430,0.441,0.450,0.460,0.470,0.480,0.489,0.498,0.498,0.498, 0.499, 0.498],\n",
    "           [0.393, 0.393, 0.455, 0.455,0.455, 0.455],\n",
    "           [0.291, 0.299, 0.311, 0.512,0.522,0.534,0.537, 0.545],\n",
    "           [0.650, 0.613, 0.623, 0.643, 0.645, 0.648, 0.652, 0.651, 0.662, 0.663, 0.672, 0.677, 0.682, 0.687, 0.694, 0.701, 0.703, 0.698, 0.710, 0.715, 0.719, 0.723, 0.727, 0.716, 0.715, 0.714,0.711],\n",
    "           [0.892, 0.889, 0.890, 0.891],\n",
    "           [0.663,0.668,0.672,0.676,0.680,0.684,0.688,0.692,0.697,0.703,0.710,0.703, 0.701, 0.695],\n",
    "           [0, 0.1, 0.1, 0.12, 0.2, 0.217, 0.226,0.230,0.232,0.240,0.253,0.285,0.315,0.341,0.360,0.378,0.396,0.399,0.405,0.409,0.415,0.420,0.428,0.436,0.444,0.444,0.444],\n",
    "           [0.755, 0.752, 0.732, 0.732, 0.721, 0.735],\n",
    "           [0.754, 0.757, 0.761, 0.760, 0.765, 0.766],\n",
    "           [0.281, 0.285],\n",
    "           [0.421, 0.431],\n",
    "           [0.361, 0.383],\n",
    "           [0.518, 0.509, 0.500, 0.490, 0.482,0.471,0.463,0.451,0.446,0.444,0.446,0.462,0.471,0.479,0.486,0.503,0.517,0.531,0.546,0.559,0.575, 0.586,0.596,0.607,0.615,0.610,0.597]\n",
    "          ]\n",
    "\n",
    "for i in range(len(countries_par)):\n",
    "    chistka(method = 'ind', country = countries_par[i], year = years[i], data = df, data_class = 0, data_ind = indexes[i])\n"
   ]
  },
  {
   "cell_type": "code",
   "execution_count": 13,
   "id": "a5c76e8b",
   "metadata": {},
   "outputs": [],
   "source": [
    "# так же во время присоединения файлов некоторые индексы съехали, тут мы их поправляем\n",
    "for can in ll_find_ind:\n",
    "    value = df[(df['COUNTRY'] == can) & (df['YEAR'] == 2021)]['index'].iloc[0]\n",
    "    ind_22 = df[(df['COUNTRY'] == can) & (df['YEAR'] == 2022)]['index'].index\n",
    "    ind_23 = df[(df['COUNTRY'] == can) & (df['YEAR'] == 2023)]['index'].index\n",
    "    df.loc[ind_22, 'index'] = value\n",
    "    df.loc[ind_23, 'index'] = value"
   ]
  },
  {
   "cell_type": "code",
   "execution_count": 19,
   "id": "0d613d56",
   "metadata": {},
   "outputs": [
    {
     "data": {
      "text/plain": [
       "YEAR                        0\n",
       "DISORDER_TYPE               0\n",
       "EVENT_TYPE                  0\n",
       "SUB_EVENT_TYPE              0\n",
       "ACTOR1                      0\n",
       "ACTOR2                 872631\n",
       "CIVILIAN_TARGETING    1464533\n",
       "COUNTRY                     0\n",
       "NOTES                       0\n",
       "FATALITIES                  0\n",
       "index                       0\n",
       "classification              0\n",
       "dtype: int64"
      ]
     },
     "execution_count": 19,
     "metadata": {},
     "output_type": "execute_result"
    }
   ],
   "source": [
    "df.isna().sum()"
   ]
  },
  {
   "cell_type": "code",
   "execution_count": 20,
   "id": "780095f6",
   "metadata": {},
   "outputs": [],
   "source": [
    "df.to_csv('chist_df.csv', encoding='utf-8')"
   ]
  },
  {
   "cell_type": "markdown",
   "id": "bb517203",
   "metadata": {},
   "source": [
    "__В итоге мы починили наш датасет и тепрь у нас нет пропусков в целевых переменных. Далее можно заняться визуализациями и проверкой гипотез__"
   ]
  }
 ],
 "metadata": {
  "kernelspec": {
   "display_name": "Python 3 (ipykernel)",
   "language": "python",
   "name": "python3"
  },
  "language_info": {
   "codemirror_mode": {
    "name": "ipython",
    "version": 3
   },
   "file_extension": ".py",
   "mimetype": "text/x-python",
   "name": "python",
   "nbconvert_exporter": "python",
   "pygments_lexer": "ipython3",
   "version": "3.9.7"
  }
 },
 "nbformat": 4,
 "nbformat_minor": 5
}
