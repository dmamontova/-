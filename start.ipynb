{
 "cells": [
  {
   "cell_type": "code",
   "execution_count": 1,
   "id": "c27a8aed",
   "metadata": {},
   "outputs": [],
   "source": [
    "import pandas as pd\n",
    "import numpy as np"
   ]
  },
  {
   "cell_type": "code",
   "execution_count": 2,
   "id": "81a27173",
   "metadata": {},
   "outputs": [],
   "source": [
    "africa = pd.read_excel('Africa_1997-2023_2023-04-28.xlsx')"
   ]
  },
  {
   "cell_type": "code",
   "execution_count": 3,
   "id": "c7f2bf3a",
   "metadata": {},
   "outputs": [],
   "source": [
    "latin_america = pd.read_excel('LatinAmerica_2018-2023_2023-04-28.xlsx')"
   ]
  },
  {
   "cell_type": "code",
   "execution_count": 4,
   "id": "52dfc9ad",
   "metadata": {},
   "outputs": [],
   "source": [
    "middle_east = pd.read_excel('MiddleEast_2015-2023_2023-04-28.xlsx')"
   ]
  },
  {
   "cell_type": "code",
   "execution_count": 5,
   "id": "8e41f538",
   "metadata": {},
   "outputs": [],
   "source": [
    "europe_central_asia = pd.read_excel('Europe-Central-Asia_2018-2023_Apr28-1.xlsx')"
   ]
  },
  {
   "cell_type": "code",
   "execution_count": 6,
   "id": "5de44595",
   "metadata": {},
   "outputs": [],
   "source": [
    "asia_pacific = pd.read_excel('Asia-Pacific_2018-2023_Apr28-1.xlsx')"
   ]
  },
  {
   "cell_type": "code",
   "execution_count": 7,
   "id": "ccd02a31",
   "metadata": {},
   "outputs": [],
   "source": [
    "usa_canada = pd.read_excel('USA_Canada_2020_2023_Apr28-1.xlsx')"
   ]
  },
  {
   "cell_type": "code",
   "execution_count": 6,
   "id": "9a6a6729",
   "metadata": {},
   "outputs": [
    {
     "ename": "NameError",
     "evalue": "name 'africa' is not defined",
     "output_type": "error",
     "traceback": [
      "\u001b[0;31m---------------------------------------------------------------------------\u001b[0m",
      "\u001b[0;31mNameError\u001b[0m                                 Traceback (most recent call last)",
      "\u001b[0;32m/var/folders/69/6__5j9xj5kv9jsdhz1s12l_40000gn/T/ipykernel_9463/1303713061.py\u001b[0m in \u001b[0;36m<module>\u001b[0;34m\u001b[0m\n\u001b[0;32m----> 1\u001b[0;31m \u001b[0mframes\u001b[0m \u001b[0;34m=\u001b[0m \u001b[0;34m[\u001b[0m\u001b[0mafrica\u001b[0m\u001b[0;34m,\u001b[0m \u001b[0mlatin_america\u001b[0m\u001b[0;34m,\u001b[0m \u001b[0mmiddle_east\u001b[0m\u001b[0;34m,\u001b[0m \u001b[0meurope_central_asia\u001b[0m\u001b[0;34m,\u001b[0m \u001b[0masia_pacific\u001b[0m\u001b[0;34m,\u001b[0m \u001b[0musa_canada\u001b[0m\u001b[0;34m]\u001b[0m\u001b[0;34m\u001b[0m\u001b[0;34m\u001b[0m\u001b[0m\n\u001b[0m\u001b[1;32m      2\u001b[0m \u001b[0;34m\u001b[0m\u001b[0m\n\u001b[1;32m      3\u001b[0m \u001b[0mall_data\u001b[0m \u001b[0;34m=\u001b[0m \u001b[0mpd\u001b[0m\u001b[0;34m.\u001b[0m\u001b[0mconcat\u001b[0m\u001b[0;34m(\u001b[0m\u001b[0mframes\u001b[0m\u001b[0;34m)\u001b[0m\u001b[0;34m\u001b[0m\u001b[0;34m\u001b[0m\u001b[0m\n\u001b[1;32m      4\u001b[0m \u001b[0;34m\u001b[0m\u001b[0m\n\u001b[1;32m      5\u001b[0m \u001b[0mall_data\u001b[0m\u001b[0;34m.\u001b[0m\u001b[0mto_csv\u001b[0m\u001b[0;34m(\u001b[0m\u001b[0;34m'all_data'\u001b[0m\u001b[0;34m,\u001b[0m \u001b[0mencoding\u001b[0m\u001b[0;34m=\u001b[0m\u001b[0;34m'utf-8'\u001b[0m\u001b[0;34m)\u001b[0m\u001b[0;34m\u001b[0m\u001b[0;34m\u001b[0m\u001b[0m\n",
      "\u001b[0;31mNameError\u001b[0m: name 'africa' is not defined"
     ]
    }
   ],
   "source": [
    "frames = [africa, latin_america, middle_east, europe_central_asia, asia_pacific, usa_canada]\n",
    "\n",
    "all_data = pd.concat(frames)\n",
    "\n",
    "all_data.to_csv('all_data', encoding='utf-8')"
   ]
  },
  {
   "cell_type": "code",
   "execution_count": 45,
   "id": "893f1544",
   "metadata": {},
   "outputs": [
    {
     "name": "stderr",
     "output_type": "stream",
     "text": [
      "/Users/nalliennallien/opt/anaconda3/lib/python3.9/site-packages/IPython/core/interactiveshell.py:3444: DtypeWarning: Columns (23) have mixed types.Specify dtype option on import or set low_memory=False.\n",
      "  exec(code_obj, self.user_global_ns, self.user_ns)\n"
     ]
    }
   ],
   "source": [
    "a = pd.read_csv('HDIAll.csv')"
   ]
  },
  {
   "cell_type": "code",
   "execution_count": 46,
   "id": "f4b5327b",
   "metadata": {},
   "outputs": [
    {
     "data": {
      "text/plain": [
       "(1757637, 35)"
      ]
     },
     "execution_count": 46,
     "metadata": {},
     "output_type": "execute_result"
    }
   ],
   "source": [
    "a.shape"
   ]
  },
  {
   "cell_type": "code",
   "execution_count": 50,
   "id": "05df03d3",
   "metadata": {},
   "outputs": [],
   "source": [
    "otobr_dannie = a.drop(['Unnamed: 0.1.1','Unnamed: 0','Unnamed: 0.1','EVENT_ID_CNTY','EVENT_DATE','ASSOC_ACTOR_2','ASSOC_ACTOR_1' ,'TIME_PRECISION', 'INTER1', 'INTER2', 'INTERACTION', 'ISO', 'REGION', 'ADMIN1' , 'ADMIN1', 'ADMIN2', 'ADMIN3', 'LOCATION', 'LATITUDE', 'LONGITUDE','GEO_PRECISION', 'SOURCE', 'SOURCE_SCALE', 'TAGS', 'TIMESTAMP'], axis=1)\n",
    "                            \n",
    "                            \n",
    "                            \n",
    "                            \n",
    "                            "
   ]
  },
  {
   "cell_type": "code",
   "execution_count": 51,
   "id": "2716593e",
   "metadata": {},
   "outputs": [
    {
     "data": {
      "text/plain": [
       "Index(['Unnamed: 0', 'Unnamed: 0.1', 'Unnamed: 0.1.1', 'EVENT_ID_CNTY',\n",
       "       'EVENT_DATE', 'YEAR', 'TIME_PRECISION', 'DISORDER_TYPE', 'EVENT_TYPE',\n",
       "       'SUB_EVENT_TYPE', 'ACTOR1', 'ASSOC_ACTOR_1', 'INTER1', 'ACTOR2',\n",
       "       'ASSOC_ACTOR_2', 'INTER2', 'INTERACTION', 'CIVILIAN_TARGETING', 'ISO',\n",
       "       'REGION', 'COUNTRY', 'ADMIN1', 'ADMIN2', 'ADMIN3', 'LOCATION',\n",
       "       'LATITUDE', 'LONGITUDE', 'GEO_PRECISION', 'SOURCE', 'SOURCE_SCALE',\n",
       "       'NOTES', 'FATALITIES', 'TAGS', 'TIMESTAMP', 'HDI'],\n",
       "      dtype='object')"
      ]
     },
     "execution_count": 51,
     "metadata": {},
     "output_type": "execute_result"
    }
   ],
   "source": [
    "a.columns"
   ]
  },
  {
   "cell_type": "code",
   "execution_count": 53,
   "id": "a5ef0424",
   "metadata": {},
   "outputs": [],
   "source": [
    "otobr_dannie.to_csv('otobr_dannie.csv', encoding='utf-8')"
   ]
  },
  {
   "cell_type": "code",
   "execution_count": 1,
   "id": "0543fd14",
   "metadata": {},
   "outputs": [
    {
     "ename": "NameError",
     "evalue": "name 'otobr_dannie' is not defined",
     "output_type": "error",
     "traceback": [
      "\u001b[0;31m---------------------------------------------------------------------------\u001b[0m",
      "\u001b[0;31mNameError\u001b[0m                                 Traceback (most recent call last)",
      "\u001b[0;32m/var/folders/69/6__5j9xj5kv9jsdhz1s12l_40000gn/T/ipykernel_15710/2177739536.py\u001b[0m in \u001b[0;36m<module>\u001b[0;34m\u001b[0m\n\u001b[0;32m----> 1\u001b[0;31m \u001b[0mbb\u001b[0m \u001b[0;34m=\u001b[0m \u001b[0motobr_dannie\u001b[0m\u001b[0;34m[\u001b[0m\u001b[0;34m(\u001b[0m\u001b[0motobr_dannie\u001b[0m\u001b[0;34m[\u001b[0m\u001b[0;34m'COUNTRY'\u001b[0m\u001b[0;34m]\u001b[0m \u001b[0;34m==\u001b[0m\u001b[0;34m'Algeria'\u001b[0m\u001b[0;34m)\u001b[0m \u001b[0;34m&\u001b[0m \u001b[0;34m(\u001b[0m\u001b[0motobr_dannie\u001b[0m\u001b[0;34m[\u001b[0m\u001b[0;34m'YEAR'\u001b[0m\u001b[0;34m]\u001b[0m \u001b[0;34m==\u001b[0m\u001b[0;36m1997\u001b[0m\u001b[0;34m)\u001b[0m\u001b[0;34m]\u001b[0m\u001b[0;34m\u001b[0m\u001b[0;34m\u001b[0m\u001b[0m\n\u001b[0m",
      "\u001b[0;31mNameError\u001b[0m: name 'otobr_dannie' is not defined"
     ]
    }
   ],
   "source": [
    "bb = otobr_dannie[(otobr_dannie['COUNTRY'] =='Algeria') & (otobr_dannie['YEAR'] ==1997)]"
   ]
  },
  {
   "cell_type": "code",
   "execution_count": 62,
   "id": "10ccc090",
   "metadata": {},
   "outputs": [],
   "source": [
    "hdi_2023 = pd.read_csv('HDI_223.csv')\n"
   ]
  },
  {
   "cell_type": "code",
   "execution_count": 68,
   "id": "b392a811",
   "metadata": {},
   "outputs": [
    {
     "data": {
      "text/plain": [
       "Index(['place', 'pop2023', 'growthRate', 'area', 'country', 'cca3', 'cca2',\n",
       "       'ccn3', 'region', 'subregion', 'landAreaKm', 'density', 'densityMi',\n",
       "       'Rank', 'hdiTier', 'hdi2021', 'hdi2020', 'hdi2019', 'hdi2010',\n",
       "       'hdi2000', 'hdiGrowth', 'rank'],\n",
       "      dtype='object')"
      ]
     },
     "execution_count": 68,
     "metadata": {},
     "output_type": "execute_result"
    }
   ],
   "source": [
    "hdi_2023.columns"
   ]
  },
  {
   "cell_type": "code",
   "execution_count": 77,
   "id": "893e195a",
   "metadata": {},
   "outputs": [
    {
     "data": {
      "text/plain": [
       "array(['Political violence', 'Demonstrations', 'Strategic developments',\n",
       "       'Political violence; Demonstrations'], dtype=object)"
      ]
     },
     "execution_count": 77,
     "metadata": {},
     "output_type": "execute_result"
    }
   ],
   "source": [
    "otobr_dannie['DISORDER_TYPE'].unique()"
   ]
  },
  {
   "cell_type": "code",
   "execution_count": 3,
   "id": "e3641282",
   "metadata": {},
   "outputs": [],
   "source": [
    "df = pd.read_csv('otobr_dannie.csv')"
   ]
  },
  {
   "cell_type": "code",
   "execution_count": 6,
   "id": "dade7560",
   "metadata": {},
   "outputs": [
    {
     "data": {
      "text/html": [
       "<div>\n",
       "<style scoped>\n",
       "    .dataframe tbody tr th:only-of-type {\n",
       "        vertical-align: middle;\n",
       "    }\n",
       "\n",
       "    .dataframe tbody tr th {\n",
       "        vertical-align: top;\n",
       "    }\n",
       "\n",
       "    .dataframe thead th {\n",
       "        text-align: right;\n",
       "    }\n",
       "</style>\n",
       "<table border=\"1\" class=\"dataframe\">\n",
       "  <thead>\n",
       "    <tr style=\"text-align: right;\">\n",
       "      <th></th>\n",
       "      <th>Unnamed: 0</th>\n",
       "      <th>YEAR</th>\n",
       "      <th>DISORDER_TYPE</th>\n",
       "      <th>EVENT_TYPE</th>\n",
       "      <th>SUB_EVENT_TYPE</th>\n",
       "      <th>ACTOR1</th>\n",
       "      <th>ACTOR2</th>\n",
       "      <th>CIVILIAN_TARGETING</th>\n",
       "      <th>COUNTRY</th>\n",
       "      <th>NOTES</th>\n",
       "      <th>FATALITIES</th>\n",
       "      <th>HDI</th>\n",
       "    </tr>\n",
       "  </thead>\n",
       "  <tbody>\n",
       "    <tr>\n",
       "      <th>0</th>\n",
       "      <td>0</td>\n",
       "      <td>1997</td>\n",
       "      <td>Political violence</td>\n",
       "      <td>Violence against civilians</td>\n",
       "      <td>Attack</td>\n",
       "      <td>GIA: Armed Islamic Group</td>\n",
       "      <td>Civilians (Algeria)</td>\n",
       "      <td>Civilian targeting</td>\n",
       "      <td>Algeria</td>\n",
       "      <td>5 January: Beheading of 5 citizens in Douaouda...</td>\n",
       "      <td>5</td>\n",
       "      <td>0.745</td>\n",
       "    </tr>\n",
       "    <tr>\n",
       "      <th>1</th>\n",
       "      <td>1</td>\n",
       "      <td>1997</td>\n",
       "      <td>Political violence</td>\n",
       "      <td>Violence against civilians</td>\n",
       "      <td>Attack</td>\n",
       "      <td>GIA: Armed Islamic Group</td>\n",
       "      <td>Civilians (Algeria)</td>\n",
       "      <td>Civilian targeting</td>\n",
       "      <td>Algeria</td>\n",
       "      <td>Two citizens were beheaded in Hassasna.</td>\n",
       "      <td>2</td>\n",
       "      <td>0.745</td>\n",
       "    </tr>\n",
       "    <tr>\n",
       "      <th>2</th>\n",
       "      <td>2</td>\n",
       "      <td>1997</td>\n",
       "      <td>Political violence</td>\n",
       "      <td>Violence against civilians</td>\n",
       "      <td>Attack</td>\n",
       "      <td>GIA: Armed Islamic Group</td>\n",
       "      <td>Civilians (Algeria)</td>\n",
       "      <td>Civilian targeting</td>\n",
       "      <td>Algeria</td>\n",
       "      <td>Two citizens were killed in a raid on the vill...</td>\n",
       "      <td>2</td>\n",
       "      <td>0.745</td>\n",
       "    </tr>\n",
       "    <tr>\n",
       "      <th>3</th>\n",
       "      <td>3</td>\n",
       "      <td>1997</td>\n",
       "      <td>Political violence</td>\n",
       "      <td>Violence against civilians</td>\n",
       "      <td>Attack</td>\n",
       "      <td>GIA: Armed Islamic Group</td>\n",
       "      <td>Civilians (Algeria)</td>\n",
       "      <td>Civilian targeting</td>\n",
       "      <td>Algeria</td>\n",
       "      <td>4 January: 16 citizens were murdered in the vi...</td>\n",
       "      <td>16</td>\n",
       "      <td>0.745</td>\n",
       "    </tr>\n",
       "    <tr>\n",
       "      <th>4</th>\n",
       "      <td>4</td>\n",
       "      <td>1997</td>\n",
       "      <td>Political violence</td>\n",
       "      <td>Violence against civilians</td>\n",
       "      <td>Attack</td>\n",
       "      <td>GIA: Armed Islamic Group</td>\n",
       "      <td>Civilians (Algeria)</td>\n",
       "      <td>Civilian targeting</td>\n",
       "      <td>Algeria</td>\n",
       "      <td>5 January: Killing of 18 citizens in the Olivi...</td>\n",
       "      <td>18</td>\n",
       "      <td>0.745</td>\n",
       "    </tr>\n",
       "    <tr>\n",
       "      <th>...</th>\n",
       "      <td>...</td>\n",
       "      <td>...</td>\n",
       "      <td>...</td>\n",
       "      <td>...</td>\n",
       "      <td>...</td>\n",
       "      <td>...</td>\n",
       "      <td>...</td>\n",
       "      <td>...</td>\n",
       "      <td>...</td>\n",
       "      <td>...</td>\n",
       "      <td>...</td>\n",
       "      <td>...</td>\n",
       "    </tr>\n",
       "    <tr>\n",
       "      <th>1757632</th>\n",
       "      <td>1757632</td>\n",
       "      <td>2023</td>\n",
       "      <td>Demonstrations</td>\n",
       "      <td>Protests</td>\n",
       "      <td>Peaceful protest</td>\n",
       "      <td>Protesters (United States)</td>\n",
       "      <td>NaN</td>\n",
       "      <td>NaN</td>\n",
       "      <td>United States</td>\n",
       "      <td>On 28 April 2023, hundreds of protesters inclu...</td>\n",
       "      <td>0</td>\n",
       "      <td>NaN</td>\n",
       "    </tr>\n",
       "    <tr>\n",
       "      <th>1757633</th>\n",
       "      <td>1757633</td>\n",
       "      <td>2023</td>\n",
       "      <td>Demonstrations</td>\n",
       "      <td>Protests</td>\n",
       "      <td>Peaceful protest</td>\n",
       "      <td>Protesters (United States)</td>\n",
       "      <td>NaN</td>\n",
       "      <td>NaN</td>\n",
       "      <td>United States</td>\n",
       "      <td>On 28 April 2023, Postal Service workers gathe...</td>\n",
       "      <td>0</td>\n",
       "      <td>NaN</td>\n",
       "    </tr>\n",
       "    <tr>\n",
       "      <th>1757634</th>\n",
       "      <td>1757634</td>\n",
       "      <td>2023</td>\n",
       "      <td>Demonstrations</td>\n",
       "      <td>Protests</td>\n",
       "      <td>Peaceful protest</td>\n",
       "      <td>Protesters (United States)</td>\n",
       "      <td>NaN</td>\n",
       "      <td>NaN</td>\n",
       "      <td>United States</td>\n",
       "      <td>On 28 April 2023, US Postal Service workers af...</td>\n",
       "      <td>0</td>\n",
       "      <td>NaN</td>\n",
       "    </tr>\n",
       "    <tr>\n",
       "      <th>1757635</th>\n",
       "      <td>1757635</td>\n",
       "      <td>2023</td>\n",
       "      <td>Demonstrations</td>\n",
       "      <td>Protests</td>\n",
       "      <td>Peaceful protest</td>\n",
       "      <td>Protesters (United States)</td>\n",
       "      <td>NaN</td>\n",
       "      <td>NaN</td>\n",
       "      <td>United States</td>\n",
       "      <td>On 28 April 2023, employees with APWU rallied ...</td>\n",
       "      <td>0</td>\n",
       "      <td>NaN</td>\n",
       "    </tr>\n",
       "    <tr>\n",
       "      <th>1757636</th>\n",
       "      <td>1757636</td>\n",
       "      <td>2023</td>\n",
       "      <td>Demonstrations</td>\n",
       "      <td>Protests</td>\n",
       "      <td>Peaceful protest</td>\n",
       "      <td>Protesters (United States)</td>\n",
       "      <td>NaN</td>\n",
       "      <td>NaN</td>\n",
       "      <td>United States</td>\n",
       "      <td>On 28 April 2023, more than a score of US Post...</td>\n",
       "      <td>0</td>\n",
       "      <td>NaN</td>\n",
       "    </tr>\n",
       "  </tbody>\n",
       "</table>\n",
       "<p>1757637 rows × 12 columns</p>\n",
       "</div>"
      ],
      "text/plain": [
       "         Unnamed: 0  YEAR       DISORDER_TYPE                  EVENT_TYPE  \\\n",
       "0                 0  1997  Political violence  Violence against civilians   \n",
       "1                 1  1997  Political violence  Violence against civilians   \n",
       "2                 2  1997  Political violence  Violence against civilians   \n",
       "3                 3  1997  Political violence  Violence against civilians   \n",
       "4                 4  1997  Political violence  Violence against civilians   \n",
       "...             ...   ...                 ...                         ...   \n",
       "1757632     1757632  2023      Demonstrations                    Protests   \n",
       "1757633     1757633  2023      Demonstrations                    Protests   \n",
       "1757634     1757634  2023      Demonstrations                    Protests   \n",
       "1757635     1757635  2023      Demonstrations                    Protests   \n",
       "1757636     1757636  2023      Demonstrations                    Protests   \n",
       "\n",
       "           SUB_EVENT_TYPE                      ACTOR1               ACTOR2  \\\n",
       "0                  Attack    GIA: Armed Islamic Group  Civilians (Algeria)   \n",
       "1                  Attack    GIA: Armed Islamic Group  Civilians (Algeria)   \n",
       "2                  Attack    GIA: Armed Islamic Group  Civilians (Algeria)   \n",
       "3                  Attack    GIA: Armed Islamic Group  Civilians (Algeria)   \n",
       "4                  Attack    GIA: Armed Islamic Group  Civilians (Algeria)   \n",
       "...                   ...                         ...                  ...   \n",
       "1757632  Peaceful protest  Protesters (United States)                  NaN   \n",
       "1757633  Peaceful protest  Protesters (United States)                  NaN   \n",
       "1757634  Peaceful protest  Protesters (United States)                  NaN   \n",
       "1757635  Peaceful protest  Protesters (United States)                  NaN   \n",
       "1757636  Peaceful protest  Protesters (United States)                  NaN   \n",
       "\n",
       "         CIVILIAN_TARGETING        COUNTRY  \\\n",
       "0        Civilian targeting        Algeria   \n",
       "1        Civilian targeting        Algeria   \n",
       "2        Civilian targeting        Algeria   \n",
       "3        Civilian targeting        Algeria   \n",
       "4        Civilian targeting        Algeria   \n",
       "...                     ...            ...   \n",
       "1757632                 NaN  United States   \n",
       "1757633                 NaN  United States   \n",
       "1757634                 NaN  United States   \n",
       "1757635                 NaN  United States   \n",
       "1757636                 NaN  United States   \n",
       "\n",
       "                                                     NOTES  FATALITIES    HDI  \n",
       "0        5 January: Beheading of 5 citizens in Douaouda...           5  0.745  \n",
       "1                  Two citizens were beheaded in Hassasna.           2  0.745  \n",
       "2        Two citizens were killed in a raid on the vill...           2  0.745  \n",
       "3        4 January: 16 citizens were murdered in the vi...          16  0.745  \n",
       "4        5 January: Killing of 18 citizens in the Olivi...          18  0.745  \n",
       "...                                                    ...         ...    ...  \n",
       "1757632  On 28 April 2023, hundreds of protesters inclu...           0    NaN  \n",
       "1757633  On 28 April 2023, Postal Service workers gathe...           0    NaN  \n",
       "1757634  On 28 April 2023, US Postal Service workers af...           0    NaN  \n",
       "1757635  On 28 April 2023, employees with APWU rallied ...           0    NaN  \n",
       "1757636  On 28 April 2023, more than a score of US Post...           0    NaN  \n",
       "\n",
       "[1757637 rows x 12 columns]"
      ]
     },
     "execution_count": 6,
     "metadata": {},
     "output_type": "execute_result"
    }
   ],
   "source": [
    "df"
   ]
  },
  {
   "cell_type": "code",
   "execution_count": 2,
   "id": "f383c74d",
   "metadata": {},
   "outputs": [
    {
     "name": "stderr",
     "output_type": "stream",
     "text": [
      "/Users/nalliennallien/opt/anaconda3/lib/python3.9/site-packages/IPython/core/interactiveshell.py:3444: DtypeWarning: Columns (23,35) have mixed types.Specify dtype option on import or set low_memory=False.\n",
      "  exec(code_obj, self.user_global_ns, self.user_ns)\n"
     ]
    }
   ],
   "source": [
    "final = pd.read_csv('project_final.csv')"
   ]
  },
  {
   "cell_type": "code",
   "execution_count": 3,
   "id": "a897423c",
   "metadata": {},
   "outputs": [],
   "source": [
    "final.loc[1703061 :1757636, 'classification'] = 'High income'"
   ]
  },
  {
   "cell_type": "code",
   "execution_count": 4,
   "id": "caec02de",
   "metadata": {},
   "outputs": [],
   "source": [
    "final.loc[1382665 :1387004, 'classification'] = 'High income'"
   ]
  },
  {
   "cell_type": "code",
   "execution_count": 5,
   "id": "a4315816",
   "metadata": {},
   "outputs": [],
   "source": [
    "final.loc[1369548 :1382664, 'classification'] = 'Upper middle income'"
   ]
  },
  {
   "cell_type": "code",
   "execution_count": 6,
   "id": "968f79cb",
   "metadata": {},
   "outputs": [],
   "source": [
    "final.loc[1698800 :1698816, 'index'] = 0.981"
   ]
  },
  {
   "cell_type": "code",
   "execution_count": 7,
   "id": "fb09ae17",
   "metadata": {},
   "outputs": [],
   "source": [
    "final.loc[1382665 :1387004, 'index'] = 0.907"
   ]
  },
  {
   "cell_type": "code",
   "execution_count": 8,
   "id": "c6b1d524",
   "metadata": {},
   "outputs": [],
   "source": [
    "final.loc[1382428 :1382664, 'index'] = 0.77"
   ]
  },
  {
   "cell_type": "code",
   "execution_count": 9,
   "id": "38d9b6ad",
   "metadata": {},
   "outputs": [],
   "source": [
    "final.loc[1381323 :1382427, 'index'] = 0.768"
   ]
  },
  {
   "cell_type": "code",
   "execution_count": 10,
   "id": "633a8b0b",
   "metadata": {},
   "outputs": [],
   "source": [
    "final = final.drop(np.arange(1703047, 1703060+1))"
   ]
  },
  {
   "cell_type": "code",
   "execution_count": 11,
   "id": "6094ca1d",
   "metadata": {},
   "outputs": [],
   "source": [
    "final = final.drop(np.arange(1698766, 1698778+1))"
   ]
  },
  {
   "cell_type": "code",
   "execution_count": 12,
   "id": "a336fb20",
   "metadata": {},
   "outputs": [],
   "source": [
    "final = final.drop(1698762)"
   ]
  },
  {
   "cell_type": "code",
   "execution_count": 13,
   "id": "3c8b63ca",
   "metadata": {},
   "outputs": [],
   "source": [
    "final = final.drop([1588508,1588509])"
   ]
  },
  {
   "cell_type": "code",
   "execution_count": 14,
   "id": "930d522b",
   "metadata": {},
   "outputs": [],
   "source": [
    "final = final.drop([1387007,1387008])"
   ]
  },
  {
   "cell_type": "code",
   "execution_count": 15,
   "id": "3f27944a",
   "metadata": {},
   "outputs": [],
   "source": [
    "final = final.drop([1387005, 1387006])"
   ]
  },
  {
   "cell_type": "code",
   "execution_count": 16,
   "id": "19da8f13",
   "metadata": {},
   "outputs": [],
   "source": [
    "final = final.drop(np.arange(1287956, 1287962+1))"
   ]
  },
  {
   "cell_type": "code",
   "execution_count": 17,
   "id": "4a3790b6",
   "metadata": {},
   "outputs": [
    {
     "data": {
      "text/plain": [
       "array(['Lower middle income', 'Upper middle income', 'Low income', nan,\n",
       "       'High income'], dtype=object)"
      ]
     },
     "execution_count": 17,
     "metadata": {},
     "output_type": "execute_result"
    }
   ],
   "source": [
    "final.classification.unique()"
   ]
  },
  {
   "cell_type": "code",
   "execution_count": 18,
   "id": "68435f23",
   "metadata": {},
   "outputs": [],
   "source": [
    "# Чиним турцию \n",
    "indes = [0.82, 0.83, 0.84, 0.84, 0.83, 0.84, 0.84, 0.84]\n",
    "\n",
    "years = np.arange(2016, 2024)\n",
    "for i in range(len(years)): \n",
    "    ind = final[(final['COUNTRY'] == 'Turkey') & (final['YEAR'] == years[i])].index\n",
    "    final.loc[ind, 'index'] = indes[i]\n",
    "    final.loc[ind, 'classification'] = 'Upper middle income'"
   ]
  },
  {
   "cell_type": "code",
   "execution_count": 19,
   "id": "01a809e0",
   "metadata": {},
   "outputs": [],
   "source": [
    "# Чиним Венесуэлу \n",
    "indes = [0.74, 0.72, 0.69, 0.69, 0.65, 0.64]\n",
    "clases = ['Upper middle income', 'Upper middle income', 'Lower middle income', 'Lower middle income', 'Lower middle income', 'Lower middle income']\n",
    "years = np.arange(2018, 2024)\n",
    "for i in range(len(years)): \n",
    "    ind = final[(final['COUNTRY'] == 'Venezuela') & (final['YEAR'] == years[i])].index\n",
    "    final.loc[ind, 'index'] = indes[i]\n",
    "    final.loc[ind, 'classification'] = clases[i]"
   ]
  },
  {
   "cell_type": "code",
   "execution_count": 20,
   "id": "78d31eab",
   "metadata": {},
   "outputs": [],
   "source": [
    "# дем. рес. конго\n",
    "indes = [0.37, 0.37, 0.38, 0.37, 0.38, 0.37, 0.38, 0.38, 0.39, 0.40, 0.40, 0.41, 0.42, 0.42, 0.43, 0.44, 0.44, 0.45, 0.46, 0.46, 0.47, 0.47, 0.48, 0.48, 0.48, 0.48, 0.48]\n",
    "clases = ['Low income' for j in range(27)]\n",
    "years = np.arange(1997, 2024)\n",
    "for i in range(len(years)): \n",
    "    ind = final[(final['COUNTRY'] == 'Democratic Republic of Congo') & (final['YEAR'] == years[i])].index\n",
    "    final.loc[ind, 'index'] = indes[i]\n",
    "    final.loc[ind, 'classification'] = clases[i]"
   ]
  },
  {
   "cell_type": "code",
   "execution_count": 21,
   "id": "e1d29e4a",
   "metadata": {},
   "outputs": [],
   "source": [
    "# чиним Кот-д'Ивуар\n",
    "indes = [0.46, 0.46, 0.46, 0.46, 0.46, 0.45, 0.45, 0.46, 0.46, 0.46, 0.46, 0.46, 0.47, 0.47, 0.47, 0.47, 0.48, 0.48, 0.50, 0.51, 0.52, 0.53, 0.54, 0.55, 0.55, 0.55, 0.55]\n",
    "clases = ['Low income' for j in range(11)] + ['Lower middle income' for j in range(16)]\n",
    "years = np.arange(1997, 2024)\n",
    "for i in range(len(years)): \n",
    "    ind = final[(final['COUNTRY'] == 'Ivory Coast') & (final['YEAR'] == years[i])].index\n",
    "    final.loc[ind, 'index'] = indes[i]\n",
    "    final.loc[ind, 'classification'] = clases[i]"
   ]
  },
  {
   "cell_type": "code",
   "execution_count": 22,
   "id": "76183778",
   "metadata": {},
   "outputs": [],
   "source": [
    "# чиним Македонию \n",
    "indes = [0.779, 0.779, 0.779,0.779, 0.779, 0.7]\n",
    "years = np.arange(2018, 2024)\n",
    "for i in range(len(years)): \n",
    "    ind = final[(final['COUNTRY'] == 'North Macedonia') & (final['YEAR'] == years[i])].index\n",
    "    final.loc[ind, 'index'] = indes[i]\n",
    "    final.loc[ind, 'classification'] = 'Upper middle income'"
   ]
  },
  {
   "cell_type": "code",
   "execution_count": 23,
   "id": "e3bd5256",
   "metadata": {},
   "outputs": [],
   "source": [
    "# чиним Saint Kitts and Nevis\n",
    "ind = final[final['COUNTRY'] == 'Saint Kitts and Nevis'].index\n",
    "final = final.drop(ind)\n"
   ]
  },
  {
   "cell_type": "code",
   "execution_count": 24,
   "id": "40544d9b",
   "metadata": {},
   "outputs": [],
   "source": [
    "# удаляем мусор: \n",
    "\n",
    "nuli = []\n",
    "for el in final['COUNTRY'].unique():\n",
    "    if sum(final[final['COUNTRY'] == el]['classification'].isnull()):\n",
    "        nuli.append(el)\n",
    "\n",
    "ll_del = []\n",
    "ll_find = []\n",
    "for i in nuli:\n",
    "    n_n = final[final['COUNTRY'] == i].shape[0]\n",
    "    if n_n < 550:\n",
    "        ll_del.append(i)\n",
    "\n",
    "    else:\n",
    "        ll_find.append(i)\n",
    "\n",
    "\n",
    "for i in ll_del:\n",
    "    ind = final[(final['COUNTRY'] == i)].index\n",
    "    final = final.drop(ind)"
   ]
  },
  {
   "cell_type": "code",
   "execution_count": 27,
   "id": "5074b93e",
   "metadata": {},
   "outputs": [],
   "source": [
    "nuli = []\n",
    "for el in final['COUNTRY'].unique():\n",
    "    if sum(final[final['COUNTRY'] == el]['index'].isnull()):\n",
    "        nuli.append(el)"
   ]
  },
  {
   "cell_type": "code",
   "execution_count": 28,
   "id": "7f31eec6",
   "metadata": {},
   "outputs": [],
   "source": [
    "all_naul = []\n",
    "popravki_vse = []\n",
    "popravki_chast = []\n",
    "for i in nuli:\n",
    "    a = final[final['COUNTRY'] == i]\n",
    "    if a['index'].sum() == 0:\n",
    "        n_n = final[final['COUNTRY'] == i].shape[0]\n",
    "        if n_n <= 500:\n",
    "            ind = final[(final['COUNTRY'] == i)].index\n",
    "            final = final.drop(ind)\n",
    "        else: \n",
    "            popravki_vse.append(i)\n",
    "    else:\n",
    "        popravki_chast.append(i)"
   ]
  },
  {
   "cell_type": "code",
   "execution_count": 29,
   "id": "c928f3a9",
   "metadata": {},
   "outputs": [],
   "source": [
    "# поправим индекс\n",
    "for can in popravki_chast:\n",
    "    value = final[(final['COUNTRY'] == can) & (final['YEAR'] == 2021)]['index'].iloc[0]\n",
    "\n",
    "    ind_22 = final[(final['COUNTRY'] == can) & (final['YEAR'] == 2022)]['index'].index\n",
    "    ind_23 = final[(final['COUNTRY'] == can) & (final['YEAR'] == 2023)]['index'].index\n",
    "    final.loc[ind_22, 'index'] = value\n",
    "    final.loc[ind_23, 'index'] = value"
   ]
  },
  {
   "cell_type": "code",
   "execution_count": 30,
   "id": "d52c7642",
   "metadata": {},
   "outputs": [],
   "source": [
    "# поправим анголу\n",
    "indes = [0, 0.353, 0.356, 0.354, 0.364, 0.375, 0.386, 0.403, 0.420, 0.433, 0.447, 0.459, 0.475, 0.486, 0.500, 0.510, 0.526, 0.541, 0.552, 0.563, 0.582, 0.596, 0.597, 0.595, 0.595, 0.590,0.586]\n",
    "years = np.arange(1997, 2012)\n",
    "for i in range(len(years)): \n",
    "    ind = final[(final['COUNTRY'] == 'Angola') & (final['YEAR'] == years[i])].index\n",
    "    final.loc[ind, 'index'] = indes[i]\n"
   ]
  },
  {
   "cell_type": "code",
   "execution_count": 31,
   "id": "ecaa489c",
   "metadata": {},
   "outputs": [],
   "source": [
    "# чиним чад\n",
    "indes = [0.288, 0.288, 0.288, 0.291, 0.301, 0.307, 0.307, 0.325, 0.327, 0.327, 0.337, 0.341, 0.355, 0.362, 0.372]\n",
    "years = np.arange(1997, 2012)\n",
    "for i in range(len(years)): \n",
    "    ind = final[(final['COUNTRY'] == 'Chad') & (final['YEAR'] == years[i])].index\n",
    "    final.loc[ind, 'index'] = indes[i]"
   ]
  },
  {
   "cell_type": "code",
   "execution_count": 32,
   "id": "19099459",
   "metadata": {},
   "outputs": [],
   "source": [
    "# чиним Equatorial Guinea\n",
    "years = [1997, 1998]\n",
    "for i in range(len(years)): \n",
    "    ind = final[(final['COUNTRY'] == 'Equatorial Guinea') & (final['YEAR'] == years[i])].index\n",
    "    final = final.drop(ind)"
   ]
  },
  {
   "cell_type": "code",
   "execution_count": 33,
   "id": "8abca098",
   "metadata": {},
   "outputs": [],
   "source": [
    "# чиним Ethiopia\n",
    "indes = [0, 0, 0, 0.287, 0.301,0.309,0.313,0.327,0.346,0.363,0.380,0.395,0.402,0.412,0.422,0.430,0.441,0.450,0.460,0.470,0.480,0.489,0.498,0.498,0.498, 0.499, 0.498]\n",
    "years = np.arange(1997, 2024)\n",
    "for i in range(len(years)): \n",
    "    ind = final[(final['COUNTRY'] == 'Ethiopia') & (final['YEAR'] == years[i])].index\n",
    "    final.loc[ind, 'index'] = indes[i]"
   ]
  },
  {
   "cell_type": "code",
   "execution_count": 34,
   "id": "07251da4",
   "metadata": {},
   "outputs": [],
   "source": [
    "# чиним Eritrea\n",
    "years = np.arange(1997, 2002)\n",
    "for i in range(len(years)): \n",
    "    ind = final[(final['COUNTRY'] == 'Eritrea') & (final['YEAR'] == years[i])].index\n",
    "    final = final.drop(ind)"
   ]
  },
  {
   "cell_type": "code",
   "execution_count": 35,
   "id": "c825d5a1",
   "metadata": {},
   "outputs": [],
   "source": [
    "# чиним Liberia\n",
    "years = np.arange(1997, 1999)\n",
    "for i in range(len(years)): \n",
    "    ind = final[(final['COUNTRY'] == 'Liberia') & (final['YEAR'] == years[i])].index\n",
    "    final = final.drop(ind)"
   ]
  },
  {
   "cell_type": "code",
   "execution_count": 36,
   "id": "136056e1",
   "metadata": {},
   "outputs": [],
   "source": [
    "# чиним Madagascar\n",
    "years = np.arange(1997, 1999)\n",
    "for i in range(len(years)): \n",
    "    ind = final[(final['COUNTRY'] == 'Madagascar') & (final['YEAR'] == years[i])].index\n",
    "    final = final.drop(ind)"
   ]
  },
  {
   "cell_type": "code",
   "execution_count": 37,
   "id": "a4783cdb",
   "metadata": {},
   "outputs": [],
   "source": [
    "# чиним Nigeria\n",
    "indes = [0.393, 0.393, 0.455, 0.455,0.455, 0.455]\n",
    "years = np.arange(1997, 2003)\n",
    "for i in range(len(years)): \n",
    "    ind = final[(final['COUNTRY'] == 'Nigeria') & (final['YEAR'] == years[i])].index\n",
    "    final.loc[ind, 'index'] = indes[i]"
   ]
  },
  {
   "cell_type": "code",
   "execution_count": 38,
   "id": "56e30148",
   "metadata": {},
   "outputs": [],
   "source": [
    "# чиним Guinea-Bissau\n",
    "\n",
    "indes = [0.291, 0.299, 0.311, 0.512,0.522,0.534,0.537, 0.545]\n",
    "years = np.arange(1997, 2005)\n",
    "for i in range(len(years)): \n",
    "    ind = final[(final['COUNTRY'] == 'Guinea-Bissau') & (final['YEAR'] == years[i])].index\n",
    "    final.loc[ind, 'index'] = indes[i]"
   ]
  },
  {
   "cell_type": "code",
   "execution_count": 39,
   "id": "5029f213",
   "metadata": {},
   "outputs": [],
   "source": [
    "# чиним eSwatini\n",
    "ind = final[(final['COUNTRY'] == 'eSwatini')].index\n",
    "final = final.drop(ind)"
   ]
  },
  {
   "cell_type": "code",
   "execution_count": 40,
   "id": "fe52566e",
   "metadata": {},
   "outputs": [],
   "source": [
    "# чиним Burkina Faso\n",
    "years = np.arange(1997, 1999)\n",
    "for i in range(len(years)): \n",
    "    ind = final[(final['COUNTRY'] == 'Burkina Faso') & (final['YEAR'] == years[i])].index\n",
    "    final = final.drop(ind)"
   ]
  },
  {
   "cell_type": "code",
   "execution_count": 41,
   "id": "2982bc1c",
   "metadata": {},
   "outputs": [],
   "source": [
    "# чиним Puerto Rico\n",
    "ind = final[(final['COUNTRY'] == 'Puerto Rico')].index\n",
    "final = final.drop(ind)"
   ]
  },
  {
   "cell_type": "code",
   "execution_count": 42,
   "id": "088ae6e2",
   "metadata": {},
   "outputs": [],
   "source": [
    "# чиним Kosovo\n",
    "ind = final[(final['COUNTRY'] == 'Kosovo')].index\n",
    "final = final.drop(ind)"
   ]
  },
  {
   "cell_type": "code",
   "execution_count": 53,
   "id": "8e6bd86d",
   "metadata": {},
   "outputs": [],
   "source": [
    "# чиним Palestine\n",
    "indes = [0.650, 0.613, 0.623, 0.643, 0.645, 0.648, 0.652, 0.651, 0.662, 0.663, 0.672, 0.677, 0.682, 0.687, 0.694, 0.701, 0.703, 0.698, 0.710, 0.715, 0.719, 0.723, 0.727, 0.716, 0.715, 0.714,0.711]\n",
    "years = np.arange(1997, 2024)\n",
    "for i in range(len(years)): \n",
    "    ind = final[(final['COUNTRY'] == 'Palestine') & (final['YEAR'] == years[i])].index\n",
    "    final.loc[ind, 'index'] = indes[i]\n",
    "\n"
   ]
  },
  {
   "cell_type": "code",
   "execution_count": 44,
   "id": "d7006425",
   "metadata": {},
   "outputs": [],
   "source": [
    "# чиним Czech Republic\n",
    "indes = [0.892, 0.889, 0.890, 0.891]\n",
    "years = np.arange(2020, 2024)\n",
    "for i in range(len(years)): \n",
    "    ind = final[(final['COUNTRY'] == 'Czech Republic') & (final['YEAR'] == years[i])].index\n",
    "    final.loc[ind, 'index'] = indes[i]"
   ]
  },
  {
   "cell_type": "code",
   "execution_count": 45,
   "id": "6f737e38",
   "metadata": {},
   "outputs": [],
   "source": [
    "# чиним Vietnam\n",
    "indes = [0.663,0.668,0.672,0.676,0.680,0.684,0.688,0.692,0.697,0.703,0.710,0.703, 0.701, 0.695]\n",
    "years = np.arange(2010, 2024)\n",
    "for i in range(len(years)): \n",
    "    ind = final[(final['COUNTRY'] == 'Vietnam') & (final['YEAR'] == years[i])].index\n",
    "    final.loc[ind, 'index'] = indes[i]"
   ]
  },
  {
   "cell_type": "code",
   "execution_count": 47,
   "id": "fe69cccb",
   "metadata": {},
   "outputs": [],
   "source": [
    "# поправляем Сомали \n",
    "indes = [0, 0.1, 0.1, 0.12, 0.2, 0.217, 0.226,0.230,0.232,0.240,0.253,0.285,0.315,0.341,0.360,0.378,0.396,0.399,0.405,0.409,0.415,0.420,0.428,0.436,0.444,0.444,0.444]\n",
    "years = np.arange(1997, 2024)\n",
    "for i in range(len(years)): \n",
    "    ind = final[(final['COUNTRY'] == 'Somalia') & (final['YEAR'] == years[i])].index\n",
    "    final.loc[ind, 'index'] = indes[i]    \n",
    "    \n",
    "    "
   ]
  },
  {
   "cell_type": "code",
   "execution_count": 54,
   "id": "6de6f83f",
   "metadata": {},
   "outputs": [
    {
     "data": {
      "text/plain": [
       "[]"
      ]
     },
     "execution_count": 54,
     "metadata": {},
     "output_type": "execute_result"
    }
   ],
   "source": [
    "nuli = []\n",
    "for el in final['COUNTRY'].unique():\n",
    "    if sum(final[final['COUNTRY'] == el]['index'].isnull()):\n",
    "        nuli.append(el)\n",
    "        \n",
    "nuli"
   ]
  },
  {
   "cell_type": "code",
   "execution_count": 49,
   "id": "778de3da",
   "metadata": {},
   "outputs": [],
   "source": [
    "ll_del = []\n",
    "ll_find = []\n",
    "for i in nuli:\n",
    "    n_n = final[final['COUNTRY'] == i].shape[0]\n",
    "    if n_n < 550:\n",
    "        ll_del.append(i)\n",
    "        ll_del.append(n_n)\n",
    "    else:\n",
    "        ll_find.append(i)\n",
    "        ll_find.append(n_n)"
   ]
  },
  {
   "cell_type": "code",
   "execution_count": 57,
   "id": "8af82c88",
   "metadata": {},
   "outputs": [
    {
     "data": {
      "text/html": [
       "<div>\n",
       "<style scoped>\n",
       "    .dataframe tbody tr th:only-of-type {\n",
       "        vertical-align: middle;\n",
       "    }\n",
       "\n",
       "    .dataframe tbody tr th {\n",
       "        vertical-align: top;\n",
       "    }\n",
       "\n",
       "    .dataframe thead th {\n",
       "        text-align: right;\n",
       "    }\n",
       "</style>\n",
       "<table border=\"1\" class=\"dataframe\">\n",
       "  <thead>\n",
       "    <tr style=\"text-align: right;\">\n",
       "      <th></th>\n",
       "      <th>EVENT_ID_CNTY</th>\n",
       "      <th>EVENT_DATE</th>\n",
       "      <th>YEAR</th>\n",
       "      <th>TIME_PRECISION</th>\n",
       "      <th>DISORDER_TYPE</th>\n",
       "      <th>EVENT_TYPE</th>\n",
       "      <th>SUB_EVENT_TYPE</th>\n",
       "      <th>ACTOR1</th>\n",
       "      <th>ASSOC_ACTOR_1</th>\n",
       "      <th>INTER1</th>\n",
       "      <th>...</th>\n",
       "      <th>LONGITUDE</th>\n",
       "      <th>GEO_PRECISION</th>\n",
       "      <th>SOURCE</th>\n",
       "      <th>SOURCE_SCALE</th>\n",
       "      <th>NOTES</th>\n",
       "      <th>FATALITIES</th>\n",
       "      <th>TAGS</th>\n",
       "      <th>TIMESTAMP</th>\n",
       "      <th>index</th>\n",
       "      <th>classification</th>\n",
       "    </tr>\n",
       "  </thead>\n",
       "  <tbody>\n",
       "    <tr>\n",
       "      <th>0</th>\n",
       "      <td>ALG1</td>\n",
       "      <td>1997-01-01</td>\n",
       "      <td>1997</td>\n",
       "      <td>1</td>\n",
       "      <td>Political violence</td>\n",
       "      <td>Violence against civilians</td>\n",
       "      <td>Attack</td>\n",
       "      <td>GIA: Armed Islamic Group</td>\n",
       "      <td>NaN</td>\n",
       "      <td>2</td>\n",
       "      <td>...</td>\n",
       "      <td>2.789</td>\n",
       "      <td>1</td>\n",
       "      <td>Algeria Watch</td>\n",
       "      <td>Other</td>\n",
       "      <td>5 January: Beheading of 5 citizens in Douaouda...</td>\n",
       "      <td>5</td>\n",
       "      <td>NaN</td>\n",
       "      <td>1582579226</td>\n",
       "      <td>0.624</td>\n",
       "      <td>Lower middle income</td>\n",
       "    </tr>\n",
       "    <tr>\n",
       "      <th>1</th>\n",
       "      <td>ALG2</td>\n",
       "      <td>1997-01-02</td>\n",
       "      <td>1997</td>\n",
       "      <td>1</td>\n",
       "      <td>Political violence</td>\n",
       "      <td>Violence against civilians</td>\n",
       "      <td>Attack</td>\n",
       "      <td>GIA: Armed Islamic Group</td>\n",
       "      <td>NaN</td>\n",
       "      <td>2</td>\n",
       "      <td>...</td>\n",
       "      <td>0.883</td>\n",
       "      <td>1</td>\n",
       "      <td>Algeria Watch</td>\n",
       "      <td>Other</td>\n",
       "      <td>Two citizens were beheaded in Hassasna.</td>\n",
       "      <td>2</td>\n",
       "      <td>NaN</td>\n",
       "      <td>1582579226</td>\n",
       "      <td>0.624</td>\n",
       "      <td>Lower middle income</td>\n",
       "    </tr>\n",
       "    <tr>\n",
       "      <th>2</th>\n",
       "      <td>ALG3</td>\n",
       "      <td>1997-01-03</td>\n",
       "      <td>1997</td>\n",
       "      <td>1</td>\n",
       "      <td>Political violence</td>\n",
       "      <td>Violence against civilians</td>\n",
       "      <td>Attack</td>\n",
       "      <td>GIA: Armed Islamic Group</td>\n",
       "      <td>NaN</td>\n",
       "      <td>2</td>\n",
       "      <td>...</td>\n",
       "      <td>-0.290</td>\n",
       "      <td>1</td>\n",
       "      <td>Algeria Watch</td>\n",
       "      <td>Other</td>\n",
       "      <td>Two citizens were killed in a raid on the vill...</td>\n",
       "      <td>2</td>\n",
       "      <td>NaN</td>\n",
       "      <td>1582579226</td>\n",
       "      <td>0.624</td>\n",
       "      <td>Lower middle income</td>\n",
       "    </tr>\n",
       "    <tr>\n",
       "      <th>3</th>\n",
       "      <td>ALG4</td>\n",
       "      <td>1997-01-04</td>\n",
       "      <td>1997</td>\n",
       "      <td>1</td>\n",
       "      <td>Political violence</td>\n",
       "      <td>Violence against civilians</td>\n",
       "      <td>Attack</td>\n",
       "      <td>GIA: Armed Islamic Group</td>\n",
       "      <td>NaN</td>\n",
       "      <td>2</td>\n",
       "      <td>...</td>\n",
       "      <td>2.829</td>\n",
       "      <td>1</td>\n",
       "      <td>Algeria Watch</td>\n",
       "      <td>Other</td>\n",
       "      <td>4 January: 16 citizens were murdered in the vi...</td>\n",
       "      <td>16</td>\n",
       "      <td>NaN</td>\n",
       "      <td>1582579226</td>\n",
       "      <td>0.624</td>\n",
       "      <td>Lower middle income</td>\n",
       "    </tr>\n",
       "    <tr>\n",
       "      <th>4</th>\n",
       "      <td>ALG5</td>\n",
       "      <td>1997-01-05</td>\n",
       "      <td>1997</td>\n",
       "      <td>1</td>\n",
       "      <td>Political violence</td>\n",
       "      <td>Violence against civilians</td>\n",
       "      <td>Attack</td>\n",
       "      <td>GIA: Armed Islamic Group</td>\n",
       "      <td>NaN</td>\n",
       "      <td>2</td>\n",
       "      <td>...</td>\n",
       "      <td>2.789</td>\n",
       "      <td>1</td>\n",
       "      <td>Algeria Watch</td>\n",
       "      <td>Other</td>\n",
       "      <td>5 January: Killing of 18 citizens in the Olivi...</td>\n",
       "      <td>18</td>\n",
       "      <td>NaN</td>\n",
       "      <td>1582579226</td>\n",
       "      <td>0.624</td>\n",
       "      <td>Lower middle income</td>\n",
       "    </tr>\n",
       "    <tr>\n",
       "      <th>...</th>\n",
       "      <td>...</td>\n",
       "      <td>...</td>\n",
       "      <td>...</td>\n",
       "      <td>...</td>\n",
       "      <td>...</td>\n",
       "      <td>...</td>\n",
       "      <td>...</td>\n",
       "      <td>...</td>\n",
       "      <td>...</td>\n",
       "      <td>...</td>\n",
       "      <td>...</td>\n",
       "      <td>...</td>\n",
       "      <td>...</td>\n",
       "      <td>...</td>\n",
       "      <td>...</td>\n",
       "      <td>...</td>\n",
       "      <td>...</td>\n",
       "      <td>...</td>\n",
       "      <td>...</td>\n",
       "      <td>...</td>\n",
       "      <td>...</td>\n",
       "    </tr>\n",
       "    <tr>\n",
       "      <th>1757632</th>\n",
       "      <td>USA55453</td>\n",
       "      <td>2023-04-28</td>\n",
       "      <td>2023</td>\n",
       "      <td>1</td>\n",
       "      <td>Demonstrations</td>\n",
       "      <td>Protests</td>\n",
       "      <td>Peaceful protest</td>\n",
       "      <td>Protesters (United States)</td>\n",
       "      <td>NEA: National Education Association; Teachers ...</td>\n",
       "      <td>6</td>\n",
       "      <td>...</td>\n",
       "      <td>-72.590</td>\n",
       "      <td>1</td>\n",
       "      <td>Republican (Springfield)</td>\n",
       "      <td>Subnational</td>\n",
       "      <td>On 28 April 2023, hundreds of protesters inclu...</td>\n",
       "      <td>0</td>\n",
       "      <td>crowd size=hundreds</td>\n",
       "      <td>1683060741</td>\n",
       "      <td>0.921</td>\n",
       "      <td>High income</td>\n",
       "    </tr>\n",
       "    <tr>\n",
       "      <th>1757633</th>\n",
       "      <td>USA55458</td>\n",
       "      <td>2023-04-28</td>\n",
       "      <td>2023</td>\n",
       "      <td>1</td>\n",
       "      <td>Demonstrations</td>\n",
       "      <td>Protests</td>\n",
       "      <td>Peaceful protest</td>\n",
       "      <td>Protesters (United States)</td>\n",
       "      <td>Labor Group (United States); APWU: American Po...</td>\n",
       "      <td>6</td>\n",
       "      <td>...</td>\n",
       "      <td>-82.457</td>\n",
       "      <td>1</td>\n",
       "      <td>10 Tampa Bay</td>\n",
       "      <td>Subnational</td>\n",
       "      <td>On 28 April 2023, Postal Service workers gathe...</td>\n",
       "      <td>0</td>\n",
       "      <td>crowd size=no report</td>\n",
       "      <td>1683060741</td>\n",
       "      <td>0.921</td>\n",
       "      <td>High income</td>\n",
       "    </tr>\n",
       "    <tr>\n",
       "      <th>1757634</th>\n",
       "      <td>USA55463</td>\n",
       "      <td>2023-04-28</td>\n",
       "      <td>2023</td>\n",
       "      <td>1</td>\n",
       "      <td>Demonstrations</td>\n",
       "      <td>Protests</td>\n",
       "      <td>Peaceful protest</td>\n",
       "      <td>Protesters (United States)</td>\n",
       "      <td>APWU: American Postal Workers Union; Labor Gro...</td>\n",
       "      <td>6</td>\n",
       "      <td>...</td>\n",
       "      <td>-95.678</td>\n",
       "      <td>1</td>\n",
       "      <td>WIBW-TV13</td>\n",
       "      <td>Subnational</td>\n",
       "      <td>On 28 April 2023, US Postal Service workers af...</td>\n",
       "      <td>0</td>\n",
       "      <td>crowd size=no report</td>\n",
       "      <td>1683060741</td>\n",
       "      <td>0.921</td>\n",
       "      <td>High income</td>\n",
       "    </tr>\n",
       "    <tr>\n",
       "      <th>1757635</th>\n",
       "      <td>USA55470</td>\n",
       "      <td>2023-04-28</td>\n",
       "      <td>2023</td>\n",
       "      <td>1</td>\n",
       "      <td>Demonstrations</td>\n",
       "      <td>Protests</td>\n",
       "      <td>Peaceful protest</td>\n",
       "      <td>Protesters (United States)</td>\n",
       "      <td>APWU: American Postal Workers Union; Labor Gro...</td>\n",
       "      <td>6</td>\n",
       "      <td>...</td>\n",
       "      <td>-76.976</td>\n",
       "      <td>1</td>\n",
       "      <td>ABC7 (Washington D.C.); APWU</td>\n",
       "      <td>Other-Subnational</td>\n",
       "      <td>On 28 April 2023, employees with APWU rallied ...</td>\n",
       "      <td>0</td>\n",
       "      <td>crowd size=no report</td>\n",
       "      <td>1683060741</td>\n",
       "      <td>0.921</td>\n",
       "      <td>High income</td>\n",
       "    </tr>\n",
       "    <tr>\n",
       "      <th>1757636</th>\n",
       "      <td>USA55475</td>\n",
       "      <td>2023-04-28</td>\n",
       "      <td>2023</td>\n",
       "      <td>1</td>\n",
       "      <td>Demonstrations</td>\n",
       "      <td>Protests</td>\n",
       "      <td>Peaceful protest</td>\n",
       "      <td>Protesters (United States)</td>\n",
       "      <td>APWU: American Postal Workers Union; Labor Gro...</td>\n",
       "      <td>6</td>\n",
       "      <td>...</td>\n",
       "      <td>-92.343</td>\n",
       "      <td>1</td>\n",
       "      <td>KCRG-TV9; Waterloo-Cedar Falls Courier</td>\n",
       "      <td>Subnational</td>\n",
       "      <td>On 28 April 2023, more than a score of US Post...</td>\n",
       "      <td>0</td>\n",
       "      <td>crowd size=more than a score</td>\n",
       "      <td>1683060741</td>\n",
       "      <td>0.921</td>\n",
       "      <td>High income</td>\n",
       "    </tr>\n",
       "  </tbody>\n",
       "</table>\n",
       "<p>1750716 rows × 33 columns</p>\n",
       "</div>"
      ],
      "text/plain": [
       "        EVENT_ID_CNTY  EVENT_DATE  YEAR  TIME_PRECISION       DISORDER_TYPE  \\\n",
       "0                ALG1  1997-01-01  1997               1  Political violence   \n",
       "1                ALG2  1997-01-02  1997               1  Political violence   \n",
       "2                ALG3  1997-01-03  1997               1  Political violence   \n",
       "3                ALG4  1997-01-04  1997               1  Political violence   \n",
       "4                ALG5  1997-01-05  1997               1  Political violence   \n",
       "...               ...         ...   ...             ...                 ...   \n",
       "1757632      USA55453  2023-04-28  2023               1      Demonstrations   \n",
       "1757633      USA55458  2023-04-28  2023               1      Demonstrations   \n",
       "1757634      USA55463  2023-04-28  2023               1      Demonstrations   \n",
       "1757635      USA55470  2023-04-28  2023               1      Demonstrations   \n",
       "1757636      USA55475  2023-04-28  2023               1      Demonstrations   \n",
       "\n",
       "                         EVENT_TYPE    SUB_EVENT_TYPE  \\\n",
       "0        Violence against civilians            Attack   \n",
       "1        Violence against civilians            Attack   \n",
       "2        Violence against civilians            Attack   \n",
       "3        Violence against civilians            Attack   \n",
       "4        Violence against civilians            Attack   \n",
       "...                             ...               ...   \n",
       "1757632                    Protests  Peaceful protest   \n",
       "1757633                    Protests  Peaceful protest   \n",
       "1757634                    Protests  Peaceful protest   \n",
       "1757635                    Protests  Peaceful protest   \n",
       "1757636                    Protests  Peaceful protest   \n",
       "\n",
       "                             ACTOR1  \\\n",
       "0          GIA: Armed Islamic Group   \n",
       "1          GIA: Armed Islamic Group   \n",
       "2          GIA: Armed Islamic Group   \n",
       "3          GIA: Armed Islamic Group   \n",
       "4          GIA: Armed Islamic Group   \n",
       "...                             ...   \n",
       "1757632  Protesters (United States)   \n",
       "1757633  Protesters (United States)   \n",
       "1757634  Protesters (United States)   \n",
       "1757635  Protesters (United States)   \n",
       "1757636  Protesters (United States)   \n",
       "\n",
       "                                             ASSOC_ACTOR_1  INTER1  ...  \\\n",
       "0                                                      NaN       2  ...   \n",
       "1                                                      NaN       2  ...   \n",
       "2                                                      NaN       2  ...   \n",
       "3                                                      NaN       2  ...   \n",
       "4                                                      NaN       2  ...   \n",
       "...                                                    ...     ...  ...   \n",
       "1757632  NEA: National Education Association; Teachers ...       6  ...   \n",
       "1757633  Labor Group (United States); APWU: American Po...       6  ...   \n",
       "1757634  APWU: American Postal Workers Union; Labor Gro...       6  ...   \n",
       "1757635  APWU: American Postal Workers Union; Labor Gro...       6  ...   \n",
       "1757636  APWU: American Postal Workers Union; Labor Gro...       6  ...   \n",
       "\n",
       "        LONGITUDE GEO_PRECISION                                  SOURCE  \\\n",
       "0           2.789             1                           Algeria Watch   \n",
       "1           0.883             1                           Algeria Watch   \n",
       "2          -0.290             1                           Algeria Watch   \n",
       "3           2.829             1                           Algeria Watch   \n",
       "4           2.789             1                           Algeria Watch   \n",
       "...           ...           ...                                     ...   \n",
       "1757632   -72.590             1                Republican (Springfield)   \n",
       "1757633   -82.457             1                            10 Tampa Bay   \n",
       "1757634   -95.678             1                               WIBW-TV13   \n",
       "1757635   -76.976             1            ABC7 (Washington D.C.); APWU   \n",
       "1757636   -92.343             1  KCRG-TV9; Waterloo-Cedar Falls Courier   \n",
       "\n",
       "              SOURCE_SCALE                                              NOTES  \\\n",
       "0                    Other  5 January: Beheading of 5 citizens in Douaouda...   \n",
       "1                    Other            Two citizens were beheaded in Hassasna.   \n",
       "2                    Other  Two citizens were killed in a raid on the vill...   \n",
       "3                    Other  4 January: 16 citizens were murdered in the vi...   \n",
       "4                    Other  5 January: Killing of 18 citizens in the Olivi...   \n",
       "...                    ...                                                ...   \n",
       "1757632        Subnational  On 28 April 2023, hundreds of protesters inclu...   \n",
       "1757633        Subnational  On 28 April 2023, Postal Service workers gathe...   \n",
       "1757634        Subnational  On 28 April 2023, US Postal Service workers af...   \n",
       "1757635  Other-Subnational  On 28 April 2023, employees with APWU rallied ...   \n",
       "1757636        Subnational  On 28 April 2023, more than a score of US Post...   \n",
       "\n",
       "         FATALITIES                          TAGS   TIMESTAMP  index  \\\n",
       "0                 5                           NaN  1582579226  0.624   \n",
       "1                 2                           NaN  1582579226  0.624   \n",
       "2                 2                           NaN  1582579226  0.624   \n",
       "3                16                           NaN  1582579226  0.624   \n",
       "4                18                           NaN  1582579226  0.624   \n",
       "...             ...                           ...         ...    ...   \n",
       "1757632           0           crowd size=hundreds  1683060741  0.921   \n",
       "1757633           0          crowd size=no report  1683060741  0.921   \n",
       "1757634           0          crowd size=no report  1683060741  0.921   \n",
       "1757635           0          crowd size=no report  1683060741  0.921   \n",
       "1757636           0  crowd size=more than a score  1683060741  0.921   \n",
       "\n",
       "              classification  \n",
       "0        Lower middle income  \n",
       "1        Lower middle income  \n",
       "2        Lower middle income  \n",
       "3        Lower middle income  \n",
       "4        Lower middle income  \n",
       "...                      ...  \n",
       "1757632          High income  \n",
       "1757633          High income  \n",
       "1757634          High income  \n",
       "1757635          High income  \n",
       "1757636          High income  \n",
       "\n",
       "[1750716 rows x 33 columns]"
      ]
     },
     "execution_count": 57,
     "metadata": {},
     "output_type": "execute_result"
    }
   ],
   "source": [
    "final"
   ]
  },
  {
   "cell_type": "code",
   "execution_count": 56,
   "id": "438bbbb1",
   "metadata": {},
   "outputs": [],
   "source": [
    "final = final.drop(columns=['Unnamed: 0', 'Unnamed: 0.1', 'Unnamed: 0.1.1'])"
   ]
  },
  {
   "cell_type": "code",
   "execution_count": 58,
   "id": "177818a6",
   "metadata": {},
   "outputs": [],
   "source": [
    "final.to_csv('chistoe.csv', encoding='utf-8')"
   ]
  },
  {
   "cell_type": "code",
   "execution_count": null,
   "id": "eefc9590",
   "metadata": {},
   "outputs": [],
   "source": []
  }
 ],
 "metadata": {
  "kernelspec": {
   "display_name": "Python 3 (ipykernel)",
   "language": "python",
   "name": "python3"
  },
  "language_info": {
   "codemirror_mode": {
    "name": "ipython",
    "version": 3
   },
   "file_extension": ".py",
   "mimetype": "text/x-python",
   "name": "python",
   "nbconvert_exporter": "python",
   "pygments_lexer": "ipython3",
   "version": "3.9.7"
  }
 },
 "nbformat": 4,
 "nbformat_minor": 5
}
